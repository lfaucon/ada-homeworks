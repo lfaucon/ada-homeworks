{
 "cells": [
  {
   "cell_type": "markdown",
   "metadata": {
    "collapsed": false
   },
   "source": [
    "# Question 2"
   ]
  },
  {
   "cell_type": "markdown",
   "metadata": {},
   "source": [
    "# Importing and Preprocessing"
   ]
  },
  {
   "cell_type": "code",
   "execution_count": 1,
   "metadata": {
    "collapsed": false
   },
   "outputs": [
    {
     "name": "stderr",
     "output_type": "stream",
     "text": [
      "/home/louisfaucon/anaconda3/lib/python3.5/site-packages/nltk/twitter/__init__.py:20: UserWarning: The twython library has not been installed. Some functionality from the twitter package will not be available.\n",
      "  warnings.warn(\"The twython library has not been installed. \"\n"
     ]
    }
   ],
   "source": [
    "import pandas as pd\n",
    "import numpy as np \n",
    "import matplotlib.pyplot as plt\n",
    "%matplotlib inline\n",
    "\n",
    "import pycountry\n",
    "import nltk.sentiment.vader\n",
    "\n",
    "import preprocess"
   ]
  },
  {
   "cell_type": "code",
   "execution_count": 2,
   "metadata": {
    "collapsed": false
   },
   "outputs": [],
   "source": [
    "filename = './hillary-clinton-emails/Emails.csv'\n",
    "df_emails = pd.read_csv(filename)\n",
    "df_emails['ProcessedText'] = df_emails.apply(lambda row: preprocess.processText(row.RawText), axis=1)"
   ]
  },
  {
   "cell_type": "markdown",
   "metadata": {},
   "source": [
    "# Sentiment Analysis\n",
    "\n",
    "For each email we first extract the list of countries mentionned in this email, then compute the sentiment score of the email using the vader library"
   ]
  },
  {
   "cell_type": "code",
   "execution_count": 3,
   "metadata": {
    "collapsed": false
   },
   "outputs": [
    {
     "data": {
      "text/html": [
       "<div>\n",
       "<table border=\"1\" class=\"dataframe\">\n",
       "  <thead>\n",
       "    <tr style=\"text-align: right;\">\n",
       "      <th></th>\n",
       "      <th>ProcessedText</th>\n",
       "      <th>Countries</th>\n",
       "      <th>Score</th>\n",
       "    </tr>\n",
       "  </thead>\n",
       "  <tbody>\n",
       "    <tr>\n",
       "      <th>0</th>\n",
       "      <td>[wonderful, strong, moving, statement, bos, pl...</td>\n",
       "      <td>[]</td>\n",
       "      <td>0.0000</td>\n",
       "    </tr>\n",
       "    <tr>\n",
       "      <th>1</th>\n",
       "      <td>[thursday, march, latest, syria, aiding, qadda...</td>\n",
       "      <td>[Egypt, Spain, France, Israel, Lebanon, Libya,...</td>\n",
       "      <td>0.9873</td>\n",
       "    </tr>\n",
       "    <tr>\n",
       "      <th>2</th>\n",
       "      <td>[thx, original, message, former, colleague, te...</td>\n",
       "      <td>[]</td>\n",
       "      <td>0.0000</td>\n",
       "    </tr>\n",
       "    <tr>\n",
       "      <th>3</th>\n",
       "      <td>[mill, cheryl, subject, cairo, condemnation, f...</td>\n",
       "      <td>[Egypt]</td>\n",
       "      <td>-0.7269</td>\n",
       "    </tr>\n",
       "    <tr>\n",
       "      <th>4</th>\n",
       "      <td>[hrod17, clintonemail, com, friday, march, hum...</td>\n",
       "      <td>[Egypt, Spain, France, Israel, Lebanon, Libya,...</td>\n",
       "      <td>0.9873</td>\n",
       "    </tr>\n",
       "  </tbody>\n",
       "</table>\n",
       "</div>"
      ],
      "text/plain": [
       "                                       ProcessedText  \\\n",
       "0  [wonderful, strong, moving, statement, bos, pl...   \n",
       "1  [thursday, march, latest, syria, aiding, qadda...   \n",
       "2  [thx, original, message, former, colleague, te...   \n",
       "3  [mill, cheryl, subject, cairo, condemnation, f...   \n",
       "4  [hrod17, clintonemail, com, friday, march, hum...   \n",
       "\n",
       "                                           Countries   Score  \n",
       "0                                                 []  0.0000  \n",
       "1  [Egypt, Spain, France, Israel, Lebanon, Libya,...  0.9873  \n",
       "2                                                 []  0.0000  \n",
       "3                                            [Egypt] -0.7269  \n",
       "4  [Egypt, Spain, France, Israel, Lebanon, Libya,...  0.9873  "
      ]
     },
     "execution_count": 3,
     "metadata": {},
     "output_type": "execute_result"
    }
   ],
   "source": [
    "analyzer = nltk.sentiment.vader.SentimentIntensityAnalyzer('vader_lexicon.txt')\n",
    "\n",
    "def getSentimentsCountries(row):\n",
    "    countries = [country.name for country in list(pycountry.countries) if country.name.lower() in row.ProcessedText ]\n",
    "    row['Countries'] = countries\n",
    "    row['Score'] = analyzer.polarity_scores(' '.join(row.ProcessedText))['compound'] if countries else 0.\n",
    "    return row\n",
    "\n",
    "df_emails = df_emails.apply(getSentimentsCountries, axis=1)\n",
    "df_emails[['ProcessedText','Countries','Score']].head()"
   ]
  },
  {
   "cell_type": "code",
   "execution_count": 4,
   "metadata": {
    "collapsed": false
   },
   "outputs": [],
   "source": [
    "# get the list of all countries\n",
    "allCountries = []\n",
    "for countries in df_emails.Countries.values:\n",
    "    for country in countries:\n",
    "        if country not in allCountries:\n",
    "            allCountries.append(country)"
   ]
  },
  {
   "cell_type": "code",
   "execution_count": 5,
   "metadata": {
    "collapsed": false
   },
   "outputs": [],
   "source": [
    "# Extract the list of score and number of time each country is mentionned \n",
    "scores = []\n",
    "frequencies = []\n",
    "for country in allCountries:\n",
    "    score = df_emails[[country in countries for countries in df_emails.Countries.values]].Score.values\n",
    "    frequencies.append(len(score))\n",
    "    scores.append(np.mean(score))"
   ]
  },
  {
   "cell_type": "code",
   "execution_count": 6,
   "metadata": {
    "collapsed": false
   },
   "outputs": [
    {
     "data": {
      "image/png": "[encoded data removed]",
      "text/plain": [
       "<matplotlib.figure.Figure at 0x7f0e2b3cf5f8>"
      ]
     },
     "metadata": {},
     "output_type": "display_data"
    }
   ],
   "source": [
    "# Keeps only the 20 countries the most frequently cited\n",
    "index = np.argsort(frequencies)[-20:]\n",
    "yScores = np.array(scores)[index]\n",
    "xCountries = np.array(allCountries)[index]\n",
    "\n",
    "# Sorts countries by score\n",
    "xCountries = xCountries[list(np.argsort(yScores))]\n",
    "yScores = np.sort(yScores)\n",
    "\n",
    "plt.xticks(range(len(yScores)), xCountries,rotation=60)\n",
    "plt.bar(range(len(yScores)), yScores)\n",
    "plt.ylabel('Sentiment')\n",
    "plt.show()"
   ]
  },
  {
   "cell_type": "code",
   "execution_count": null,
   "metadata": {
    "collapsed": true
   },
   "outputs": [],
   "source": []
  }
 ],
 "metadata": {
  "anaconda-cloud": {},
  "kernelspec": {
   "display_name": "Python [conda root]",
   "language": "python",
   "name": "conda-root-py"
  },
  "language_info": {
   "codemirror_mode": {
    "name": "ipython",
    "version": 3
   },
   "file_extension": ".py",
   "mimetype": "text/x-python",
   "name": "python",
   "nbconvert_exporter": "python",
   "pygments_lexer": "ipython3",
   "version": "3.5.2"
  }
 },
 "nbformat": 4,
 "nbformat_minor": 0
}
