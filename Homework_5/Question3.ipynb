{
 "cells": [
  {
   "cell_type": "markdown",
   "metadata": {},
   "source": [
    "# Question 3"
   ]
  },
  {
   "cell_type": "markdown",
   "metadata": {},
   "source": [
    "# Importing and Preprocessing"
   ]
  },
  {
   "cell_type": "code",
   "execution_count": 1,
   "metadata": {
    "collapsed": false
   },
   "outputs": [
    {
     "name": "stderr",
     "output_type": "stream",
     "text": [
      "/home/louisfaucon/anaconda3/lib/python3.5/site-packages/gensim/utils.py:1015: UserWarning: Pattern library is not installed, lemmatization won't be available.\n",
      "  warnings.warn(\"Pattern library is not installed, lemmatization won't be available.\")\n"
     ]
    }
   ],
   "source": [
    "import pandas as pd\n",
    "\n",
    "from gensim import corpora, models\n",
    "\n",
    "import pprint as pp\n",
    "\n",
    "import preprocess"
   ]
  },
  {
   "cell_type": "code",
   "execution_count": 2,
   "metadata": {
    "collapsed": false
   },
   "outputs": [
    {
     "name": "stdout",
     "output_type": "stream",
     "text": [
      "Index(['Id', 'DocNumber', 'MetadataSubject', 'MetadataTo', 'MetadataFrom',\n",
      "       'SenderPersonId', 'MetadataDateSent', 'MetadataDateReleased',\n",
      "       'MetadataPdfLink', 'MetadataCaseNumber', 'MetadataDocumentClass',\n",
      "       'ExtractedSubject', 'ExtractedTo', 'ExtractedFrom', 'ExtractedCc',\n",
      "       'ExtractedDateSent', 'ExtractedCaseNumber', 'ExtractedDocNumber',\n",
      "       'ExtractedDateReleased', 'ExtractedReleaseInPartOrFull',\n",
      "       'ExtractedBodyText', 'RawText'],\n",
      "      dtype='object')\n"
     ]
    },
    {
     "data": {
      "text/html": [
       "<div>\n",
       "<table border=\"1\" class=\"dataframe\">\n",
       "  <thead>\n",
       "    <tr style=\"text-align: right;\">\n",
       "      <th></th>\n",
       "      <th>Id</th>\n",
       "      <th>DocNumber</th>\n",
       "      <th>MetadataSubject</th>\n",
       "      <th>MetadataTo</th>\n",
       "      <th>MetadataFrom</th>\n",
       "      <th>SenderPersonId</th>\n",
       "      <th>MetadataDateSent</th>\n",
       "      <th>MetadataDateReleased</th>\n",
       "      <th>MetadataPdfLink</th>\n",
       "      <th>MetadataCaseNumber</th>\n",
       "      <th>...</th>\n",
       "      <th>ExtractedTo</th>\n",
       "      <th>ExtractedFrom</th>\n",
       "      <th>ExtractedCc</th>\n",
       "      <th>ExtractedDateSent</th>\n",
       "      <th>ExtractedCaseNumber</th>\n",
       "      <th>ExtractedDocNumber</th>\n",
       "      <th>ExtractedDateReleased</th>\n",
       "      <th>ExtractedReleaseInPartOrFull</th>\n",
       "      <th>ExtractedBodyText</th>\n",
       "      <th>RawText</th>\n",
       "    </tr>\n",
       "  </thead>\n",
       "  <tbody>\n",
       "    <tr>\n",
       "      <th>0</th>\n",
       "      <td>1</td>\n",
       "      <td>C05739545</td>\n",
       "      <td>WOW</td>\n",
       "      <td>H</td>\n",
       "      <td>Sullivan, Jacob J</td>\n",
       "      <td>87.0</td>\n",
       "      <td>2012-09-12T04:00:00+00:00</td>\n",
       "      <td>2015-05-22T04:00:00+00:00</td>\n",
       "      <td>DOCUMENTS/HRC_Email_1_296/HRCH2/DOC_0C05739545...</td>\n",
       "      <td>F-2015-04841</td>\n",
       "      <td>...</td>\n",
       "      <td>NaN</td>\n",
       "      <td>Sullivan, Jacob J &lt;Sullivan11@state.gov&gt;</td>\n",
       "      <td>NaN</td>\n",
       "      <td>Wednesday, September 12, 2012 10:16 AM</td>\n",
       "      <td>F-2015-04841</td>\n",
       "      <td>C05739545</td>\n",
       "      <td>05/13/2015</td>\n",
       "      <td>RELEASE IN FULL</td>\n",
       "      <td>NaN</td>\n",
       "      <td>UNCLASSIFIED\\nU.S. Department of State\\nCase N...</td>\n",
       "    </tr>\n",
       "    <tr>\n",
       "      <th>1</th>\n",
       "      <td>2</td>\n",
       "      <td>C05739546</td>\n",
       "      <td>H: LATEST: HOW SYRIA IS AIDING QADDAFI AND MOR...</td>\n",
       "      <td>H</td>\n",
       "      <td>NaN</td>\n",
       "      <td>NaN</td>\n",
       "      <td>2011-03-03T05:00:00+00:00</td>\n",
       "      <td>2015-05-22T04:00:00+00:00</td>\n",
       "      <td>DOCUMENTS/HRC_Email_1_296/HRCH1/DOC_0C05739546...</td>\n",
       "      <td>F-2015-04841</td>\n",
       "      <td>...</td>\n",
       "      <td>NaN</td>\n",
       "      <td>NaN</td>\n",
       "      <td>NaN</td>\n",
       "      <td>NaN</td>\n",
       "      <td>F-2015-04841</td>\n",
       "      <td>C05739546</td>\n",
       "      <td>05/13/2015</td>\n",
       "      <td>RELEASE IN PART</td>\n",
       "      <td>B6\\nThursday, March 3, 2011 9:45 PM\\nH: Latest...</td>\n",
       "      <td>UNCLASSIFIED\\nU.S. Department of State\\nCase N...</td>\n",
       "    </tr>\n",
       "  </tbody>\n",
       "</table>\n",
       "<p>2 rows × 22 columns</p>\n",
       "</div>"
      ],
      "text/plain": [
       "   Id  DocNumber                                    MetadataSubject  \\\n",
       "0   1  C05739545                                                WOW   \n",
       "1   2  C05739546  H: LATEST: HOW SYRIA IS AIDING QADDAFI AND MOR...   \n",
       "\n",
       "  MetadataTo       MetadataFrom  SenderPersonId           MetadataDateSent  \\\n",
       "0          H  Sullivan, Jacob J            87.0  2012-09-12T04:00:00+00:00   \n",
       "1          H                NaN             NaN  2011-03-03T05:00:00+00:00   \n",
       "\n",
       "        MetadataDateReleased  \\\n",
       "0  2015-05-22T04:00:00+00:00   \n",
       "1  2015-05-22T04:00:00+00:00   \n",
       "\n",
       "                                     MetadataPdfLink MetadataCaseNumber  \\\n",
       "0  DOCUMENTS/HRC_Email_1_296/HRCH2/DOC_0C05739545...       F-2015-04841   \n",
       "1  DOCUMENTS/HRC_Email_1_296/HRCH1/DOC_0C05739546...       F-2015-04841   \n",
       "\n",
       "                         ...                         ExtractedTo  \\\n",
       "0                        ...                                 NaN   \n",
       "1                        ...                                 NaN   \n",
       "\n",
       "                              ExtractedFrom ExtractedCc  \\\n",
       "0  Sullivan, Jacob J <Sullivan11@state.gov>         NaN   \n",
       "1                                       NaN         NaN   \n",
       "\n",
       "                        ExtractedDateSent ExtractedCaseNumber  \\\n",
       "0  Wednesday, September 12, 2012 10:16 AM        F-2015-04841   \n",
       "1                                     NaN        F-2015-04841   \n",
       "\n",
       "  ExtractedDocNumber ExtractedDateReleased ExtractedReleaseInPartOrFull  \\\n",
       "0          C05739545            05/13/2015              RELEASE IN FULL   \n",
       "1          C05739546            05/13/2015              RELEASE IN PART   \n",
       "\n",
       "                                   ExtractedBodyText  \\\n",
       "0                                                NaN   \n",
       "1  B6\\nThursday, March 3, 2011 9:45 PM\\nH: Latest...   \n",
       "\n",
       "                                             RawText  \n",
       "0  UNCLASSIFIED\\nU.S. Department of State\\nCase N...  \n",
       "1  UNCLASSIFIED\\nU.S. Department of State\\nCase N...  \n",
       "\n",
       "[2 rows x 22 columns]"
      ]
     },
     "execution_count": 2,
     "metadata": {},
     "output_type": "execute_result"
    }
   ],
   "source": [
    "filename = './hillary-clinton-emails/Emails.csv'\n",
    "df_emails = pd.read_csv(filename)\n",
    "print(df_emails.columns)\n",
    "df_emails.head(2)"
   ]
  },
  {
   "cell_type": "code",
   "execution_count": 3,
   "metadata": {
    "collapsed": false
   },
   "outputs": [
    {
     "data": {
      "text/html": [
       "<div>\n",
       "<table border=\"1\" class=\"dataframe\">\n",
       "  <thead>\n",
       "    <tr style=\"text-align: right;\">\n",
       "      <th></th>\n",
       "      <th>ProcessedText</th>\n",
       "      <th>RawText</th>\n",
       "    </tr>\n",
       "  </thead>\n",
       "  <tbody>\n",
       "    <tr>\n",
       "      <th>0</th>\n",
       "      <td>[wonderful, strong, moving, statement, bos, pl...</td>\n",
       "      <td>UNCLASSIFIED\\nU.S. Department of State\\nCase N...</td>\n",
       "    </tr>\n",
       "    <tr>\n",
       "      <th>1</th>\n",
       "      <td>[thursday, march, latest, syria, aiding, qadda...</td>\n",
       "      <td>UNCLASSIFIED\\nU.S. Department of State\\nCase N...</td>\n",
       "    </tr>\n",
       "    <tr>\n",
       "      <th>2</th>\n",
       "      <td>[thx, original, message, former, colleague, te...</td>\n",
       "      <td>UNCLASSIFIED\\nU.S. Department of State\\nCase N...</td>\n",
       "    </tr>\n",
       "    <tr>\n",
       "      <th>3</th>\n",
       "      <td>[mill, cheryl, subject, cairo, condemnation, f...</td>\n",
       "      <td>UNCLASSIFIED\\nU.S. Department of State\\nCase N...</td>\n",
       "    </tr>\n",
       "    <tr>\n",
       "      <th>4</th>\n",
       "      <td>[hrod17, clintonemail, com, friday, march, hum...</td>\n",
       "      <td>B6\\nUNCLASSIFIED\\nU.S. Department of State\\nCa...</td>\n",
       "    </tr>\n",
       "  </tbody>\n",
       "</table>\n",
       "</div>"
      ],
      "text/plain": [
       "                                       ProcessedText  \\\n",
       "0  [wonderful, strong, moving, statement, bos, pl...   \n",
       "1  [thursday, march, latest, syria, aiding, qadda...   \n",
       "2  [thx, original, message, former, colleague, te...   \n",
       "3  [mill, cheryl, subject, cairo, condemnation, f...   \n",
       "4  [hrod17, clintonemail, com, friday, march, hum...   \n",
       "\n",
       "                                             RawText  \n",
       "0  UNCLASSIFIED\\nU.S. Department of State\\nCase N...  \n",
       "1  UNCLASSIFIED\\nU.S. Department of State\\nCase N...  \n",
       "2  UNCLASSIFIED\\nU.S. Department of State\\nCase N...  \n",
       "3  UNCLASSIFIED\\nU.S. Department of State\\nCase N...  \n",
       "4  B6\\nUNCLASSIFIED\\nU.S. Department of State\\nCa...  "
      ]
     },
     "execution_count": 3,
     "metadata": {},
     "output_type": "execute_result"
    }
   ],
   "source": [
    "df_emails['ProcessedText'] = df_emails.apply(lambda row: preprocess.processText(row.RawText), axis=1)\n",
    "df_emails[['ProcessedText','RawText']].head()"
   ]
  },
  {
   "cell_type": "code",
   "execution_count": 4,
   "metadata": {
    "collapsed": true
   },
   "outputs": [],
   "source": [
    "texts = df_emails.ProcessedText.tolist()\n",
    "dictionary = corpora.Dictionary(texts)\n",
    "corpus = [dictionary.doc2bow(text) for text in texts]"
   ]
  },
  {
   "cell_type": "markdown",
   "metadata": {},
   "source": [
    "# Extracting topics with LdaModel"
   ]
  },
  {
   "cell_type": "code",
   "execution_count": 5,
   "metadata": {
    "collapsed": false
   },
   "outputs": [],
   "source": [
    "def extractTopics(nTopics=5):\n",
    "    ldamodel = models.LdaMulticore(corpus, num_topics=nTopics, id2word = dictionary, passes=20, workers=7)\n",
    "    \n",
    "    for topic in ldamodel.print_topics(num_topics=nTopics, num_words=10):\n",
    "        print(topic)\n",
    "    \n",
    "    return ldamodel"
   ]
  },
  {
   "cell_type": "code",
   "execution_count": 6,
   "metadata": {
    "collapsed": false
   },
   "outputs": [
    {
     "name": "stdout",
     "output_type": "stream",
     "text": [
      "(0, '0.025*\"message\" + 0.023*\"original\" + 0.014*\"will\" + 0.011*\"can\" + 0.010*\"call\" + 0.007*\"state\" + 0.007*\"know\" + 0.005*\"just\" + 0.005*\"secretary\" + 0.005*\"get\"')\n",
      "(1, '0.008*\"israel\" + 0.008*\"state\" + 0.006*\"israeli\" + 0.005*\"palestinian\" + 0.005*\"http\" + 0.005*\"american\" + 0.004*\"will\" + 0.004*\"com\" + 0.004*\"said\" + 0.003*\"peace\"')\n",
      "(2, '0.010*\"will\" + 0.005*\"state\" + 0.005*\"government\" + 0.005*\"country\" + 0.004*\"new\" + 0.004*\"people\" + 0.004*\"said\" + 0.004*\"can\" + 0.004*\"year\" + 0.003*\"also\"')\n",
      "(3, '0.009*\"obama\" + 0.008*\"pm\" + 0.008*\"said\" + 0.007*\"president\" + 0.006*\"secretary\" + 0.006*\"house\" + 0.005*\"office\" + 0.005*\"state\" + 0.005*\"republican\" + 0.004*\"one\"')\n",
      "(4, '0.008*\"will\" + 0.007*\"government\" + 0.006*\"libya\" + 0.006*\"source\" + 0.006*\"al\" + 0.005*\"minister\" + 0.005*\"libyan\" + 0.005*\"said\" + 0.005*\"security\" + 0.004*\"president\"')\n"
     ]
    },
    {
     "data": {
      "text/plain": [
       "<gensim.models.ldamulticore.LdaMulticore at 0x7f4d6f8b2588>"
      ]
     },
     "execution_count": 6,
     "metadata": {},
     "output_type": "execute_result"
    }
   ],
   "source": [
    "model5 = extractTopics(nTopics=5)"
   ]
  },
  {
   "cell_type": "code",
   "execution_count": 7,
   "metadata": {
    "collapsed": false
   },
   "outputs": [
    {
     "name": "stdout",
     "output_type": "stream",
     "text": [
      "(0, '0.008*\"will\" + 0.006*\"country\" + 0.006*\"china\" + 0.004*\"state\" + 0.004*\"disease\" + 0.004*\"said\" + 0.004*\"http\" + 0.004*\"year\" + 0.004*\"berlusconi\" + 0.003*\"min\"')\n",
      "(1, '0.008*\"obama\" + 0.006*\"republican\" + 0.006*\"said\" + 0.005*\"will\" + 0.005*\"party\" + 0.005*\"president\" + 0.004*\"one\" + 0.004*\"house\" + 0.004*\"year\" + 0.004*\"time\"')\n",
      "(2, '0.010*\"will\" + 0.009*\"haiti\" + 0.008*\"state\" + 0.006*\"development\" + 0.005*\"country\" + 0.005*\"need\" + 0.004*\"government\" + 0.004*\"united\" + 0.004*\"year\" + 0.004*\"international\"')\n",
      "(3, '0.010*\"government\" + 0.008*\"president\" + 0.008*\"will\" + 0.006*\"state\" + 0.005*\"libyan\" + 0.005*\"libya\" + 0.005*\"new\" + 0.005*\"minister\" + 0.005*\"security\" + 0.004*\"said\"')\n",
      "(4, '0.007*\"government\" + 0.007*\"will\" + 0.006*\"el\" + 0.006*\"deal\" + 0.006*\"minister\" + 0.006*\"said\" + 0.006*\"source\" + 0.005*\"keib\" + 0.005*\"party\" + 0.005*\"power\"')\n",
      "(5, '0.008*\"state\" + 0.006*\"http\" + 0.006*\"com\" + 0.005*\"american\" + 0.005*\"said\" + 0.005*\"government\" + 0.005*\"security\" + 0.004*\"www\" + 0.004*\"attack\" + 0.003*\"al\"')\n",
      "(6, '0.007*\"will\" + 0.006*\"state\" + 0.006*\"people\" + 0.005*\"one\" + 0.005*\"clinton\" + 0.005*\"president\" + 0.005*\"obama\" + 0.004*\"policy\" + 0.004*\"world\" + 0.004*\"mr\"')\n",
      "(7, '0.030*\"pm\" + 0.019*\"secretary\" + 0.014*\"office\" + 0.012*\"state\" + 0.009*\"room\" + 0.009*\"department\" + 0.007*\"en\" + 0.007*\"route\" + 0.006*\"house\" + 0.006*\"private\"')\n",
      "(8, '0.033*\"message\" + 0.030*\"original\" + 0.018*\"will\" + 0.013*\"can\" + 0.012*\"call\" + 0.008*\"know\" + 0.007*\"state\" + 0.006*\"just\" + 0.006*\"get\" + 0.006*\"secretary\"')\n",
      "(9, '0.011*\"israel\" + 0.010*\"said\" + 0.008*\"israeli\" + 0.007*\"palestinian\" + 0.006*\"state\" + 0.006*\"will\" + 0.005*\"american\" + 0.004*\"president\" + 0.004*\"peace\" + 0.004*\"one\"')\n"
     ]
    },
    {
     "data": {
      "text/plain": [
       "<gensim.models.ldamulticore.LdaMulticore at 0x7f4d6f8bec18>"
      ]
     },
     "execution_count": 7,
     "metadata": {},
     "output_type": "execute_result"
    }
   ],
   "source": [
    "model10 = extractTopics(nTopics=10)"
   ]
  },
  {
   "cell_type": "code",
   "execution_count": 8,
   "metadata": {
    "collapsed": false
   },
   "outputs": [
    {
     "name": "stdout",
     "output_type": "stream",
     "text": [
      "(0, '0.011*\"magariaf\" + 0.010*\"source\" + 0.008*\"libya\" + 0.007*\"state\" + 0.007*\"will\" + 0.007*\"government\" + 0.007*\"libyan\" + 0.006*\"al\" + 0.005*\"security\" + 0.005*\"also\"')\n",
      "(1, '0.008*\"president\" + 0.008*\"position\" + 0.005*\"one\" + 0.005*\"secretary\" + 0.005*\"filled\" + 0.005*\"time\" + 0.005*\"election\" + 0.004*\"hispanic\" + 0.004*\"will\" + 0.004*\"north\"')\n",
      "(2, '0.009*\"message\" + 0.009*\"call\" + 0.007*\"will\" + 0.007*\"original\" + 0.007*\"embassy\" + 0.006*\"state\" + 0.006*\"email\" + 0.005*\"classified\" + 0.005*\"zelaya\" + 0.005*\"do\"')\n",
      "(3, '0.012*\"http\" + 0.012*\"com\" + 0.009*\"www\" + 0.007*\"secretary\" + 0.007*\"amazon\" + 0.007*\"will\" + 0.005*\"image\" + 0.005*\"ref\" + 0.005*\"said\" + 0.004*\"film\"')\n",
      "(4, '0.011*\"state\" + 0.007*\"pakistan\" + 0.006*\"percent\" + 0.005*\"woman\" + 0.005*\"will\" + 0.005*\"said\" + 0.004*\"year\" + 0.004*\"republican\" + 0.004*\"policy\" + 0.004*\"foreign\"')\n",
      "(5, '0.011*\"will\" + 0.008*\"de\" + 0.006*\"military\" + 0.005*\"said\" + 0.004*\"war\" + 0.004*\"honduras\" + 0.004*\"blair\" + 0.004*\"government\" + 0.004*\"can\" + 0.004*\"former\"')\n",
      "(6, '0.006*\"el\" + 0.006*\"government\" + 0.005*\"keib\" + 0.005*\"said\" + 0.005*\"al\" + 0.005*\"one\" + 0.005*\"new\" + 0.005*\"group\" + 0.004*\"minister\" + 0.004*\"also\"')\n",
      "(7, '0.008*\"clinton\" + 0.007*\"will\" + 0.007*\"state\" + 0.006*\"said\" + 0.005*\"people\" + 0.005*\"right\" + 0.005*\"haiti\" + 0.004*\"child\" + 0.004*\"one\" + 0.004*\"can\"')\n",
      "(8, '0.009*\"government\" + 0.008*\"will\" + 0.008*\"public\" + 0.007*\"state\" + 0.006*\"development\" + 0.006*\"policy\" + 0.005*\"country\" + 0.005*\"new\" + 0.005*\"global\" + 0.005*\"foreign\"')\n",
      "(9, '0.007*\"afghanistan\" + 0.007*\"said\" + 0.006*\"afghan\" + 0.005*\"obama\" + 0.005*\"military\" + 0.005*\"one\" + 0.004*\"clinton\" + 0.004*\"american\" + 0.004*\"security\" + 0.004*\"president\"')\n",
      "(10, '0.013*\"will\" + 0.009*\"state\" + 0.005*\"people\" + 0.005*\"united\" + 0.005*\"country\" + 0.005*\"woman\" + 0.005*\"president\" + 0.004*\"government\" + 0.004*\"world\" + 0.004*\"issue\"')\n",
      "(11, '0.016*\"state\" + 0.014*\"gov\" + 0.011*\"cheryl\" + 0.008*\"will\" + 0.007*\"mill\" + 0.007*\"can\" + 0.007*\"get\" + 0.006*\"year\" + 0.005*\"school\" + 0.005*\"message\"')\n",
      "(12, '0.028*\"haiti\" + 0.012*\"haitian\" + 0.011*\"said\" + 0.009*\"clinton\" + 0.008*\"state\" + 0.006*\"president\" + 0.006*\"country\" + 0.005*\"international\" + 0.005*\"people\" + 0.004*\"government\"')\n",
      "(13, '0.045*\"message\" + 0.043*\"original\" + 0.022*\"will\" + 0.017*\"can\" + 0.016*\"call\" + 0.010*\"know\" + 0.008*\"tomorrow\" + 0.008*\"just\" + 0.007*\"get\" + 0.007*\"see\"')\n",
      "(14, '0.010*\"obama\" + 0.006*\"republican\" + 0.005*\"party\" + 0.005*\"house\" + 0.005*\"president\" + 0.004*\"american\" + 0.004*\"right\" + 0.004*\"one\" + 0.004*\"political\" + 0.004*\"time\"')\n",
      "(15, '0.012*\"libyan\" + 0.010*\"libya\" + 0.010*\"source\" + 0.010*\"al\" + 0.009*\"government\" + 0.009*\"benghazi\" + 0.008*\"qaddafi\" + 0.007*\"will\" + 0.006*\"security\" + 0.006*\"minister\"')\n",
      "(16, '0.007*\"turkish\" + 0.006*\"disease\" + 0.006*\"turkey\" + 0.006*\"http\" + 0.005*\"health\" + 0.005*\"www\" + 0.005*\"law\" + 0.005*\"church\" + 0.005*\"ecumenical\" + 0.005*\"patriarchate\"')\n",
      "(17, '0.031*\"pm\" + 0.023*\"israel\" + 0.017*\"secretary\" + 0.016*\"israeli\" + 0.015*\"state\" + 0.015*\"palestinian\" + 0.014*\"office\" + 0.009*\"room\" + 0.009*\"peace\" + 0.008*\"en\"')\n",
      "(18, '0.013*\"said\" + 0.010*\"will\" + 0.009*\"party\" + 0.009*\"deal\" + 0.006*\"brown\" + 0.006*\"power\" + 0.005*\"gordon\" + 0.005*\"tory\" + 0.005*\"guardian\" + 0.005*\"cameron\"')\n",
      "(19, '0.024*\"obama\" + 0.015*\"president\" + 0.009*\"mr\" + 0.009*\"clinton\" + 0.008*\"said\" + 0.007*\"administration\" + 0.007*\"policy\" + 0.007*\"house\" + 0.006*\"new\" + 0.005*\"senate\"')\n"
     ]
    },
    {
     "data": {
      "text/plain": [
       "<gensim.models.ldamulticore.LdaMulticore at 0x7f4d6f8aaac8>"
      ]
     },
     "execution_count": 8,
     "metadata": {},
     "output_type": "execute_result"
    }
   ],
   "source": [
    "model20 = extractTopics(nTopics=20)"
   ]
  },
  {
   "cell_type": "code",
   "execution_count": 9,
   "metadata": {
    "collapsed": false
   },
   "outputs": [
    {
     "name": "stdout",
     "output_type": "stream",
     "text": [
      "(0, '0.009*\"will\" + 0.008*\"obama\" + 0.007*\"said\" + 0.006*\"film\" + 0.006*\"romney\" + 0.006*\"republican\" + 0.005*\"festival\" + 0.005*\"president\" + 0.005*\"can\" + 0.004*\"attack\"')\n",
      "(1, '0.008*\"message\" + 0.007*\"original\" + 0.007*\"will\" + 0.005*\"good\" + 0.005*\"know\" + 0.005*\"paper\" + 0.004*\"arturo\" + 0.004*\"also\" + 0.004*\"carleto\" + 0.004*\"love\"')\n",
      "(2, '0.017*\"woman\" + 0.008*\"right\" + 0.007*\"said\" + 0.006*\"law\" + 0.006*\"people\" + 0.005*\"will\" + 0.005*\"like\" + 0.005*\"one\" + 0.004*\"clinton\" + 0.004*\"say\"')\n",
      "(3, '0.028*\"republican\" + 0.016*\"democrat\" + 0.015*\"voter\" + 0.015*\"percent\" + 0.015*\"vote\" + 0.012*\"obama\" + 0.012*\"boehner\" + 0.010*\"party\" + 0.010*\"poll\" + 0.009*\"house\"')\n",
      "(4, '0.014*\"com\" + 0.012*\"state\" + 0.009*\"evite\" + 0.008*\"http\" + 0.008*\"message\" + 0.008*\"party\" + 0.008*\"gov\" + 0.007*\"mail\" + 0.006*\"shaw\" + 0.006*\"clinton\"')\n",
      "(5, '0.013*\"disease\" + 0.010*\"health\" + 0.009*\"chronic\" + 0.007*\"haiti\" + 0.007*\"world\" + 0.007*\"country\" + 0.006*\"medium\" + 0.005*\"january\" + 0.005*\"global\" + 0.004*\"american\"')\n",
      "(6, '0.019*\"cabinet\" + 0.017*\"minister\" + 0.016*\"magariaf\" + 0.014*\"new\" + 0.014*\"abushagur\" + 0.014*\"government\" + 0.011*\"oil\" + 0.011*\"president\" + 0.011*\"will\" + 0.010*\"individual\"')\n",
      "(7, '0.014*\"will\" + 0.010*\"david\" + 0.009*\"family\" + 0.009*\"court\" + 0.008*\"berlusconi\" + 0.007*\"brazilian\" + 0.007*\"case\" + 0.006*\"attorney\" + 0.006*\"sean\" + 0.005*\"order\"')\n",
      "(8, '0.013*\"turkish\" + 0.011*\"turkey\" + 0.009*\"ecumenical\" + 0.009*\"patriarchate\" + 0.008*\"video\" + 0.007*\"said\" + 0.007*\"church\" + 0.006*\"orthodox\" + 0.006*\"patriarch\" + 0.006*\"religious\"')\n",
      "(9, '0.073*\"pm\" + 0.037*\"secretary\" + 0.033*\"office\" + 0.023*\"room\" + 0.019*\"state\" + 0.018*\"route\" + 0.018*\"en\" + 0.016*\"department\" + 0.012*\"residence\" + 0.012*\"private\"')\n",
      "(10, '0.017*\"secretary\" + 0.008*\"state\" + 0.007*\"will\" + 0.007*\"speech\" + 0.005*\"richard\" + 0.005*\"holbrooke\" + 0.004*\"twittering\" + 0.004*\"department\" + 0.004*\"said\" + 0.004*\"name\"')\n",
      "(11, '0.021*\"school\" + 0.011*\"teacher\" + 0.008*\"fund\" + 0.008*\"will\" + 0.008*\"education\" + 0.007*\"student\" + 0.007*\"get\" + 0.007*\"training\" + 0.007*\"donor\" + 0.007*\"haiti\"')\n",
      "(12, '0.007*\"government\" + 0.007*\"party\" + 0.006*\"koch\" + 0.005*\"new\" + 0.004*\"time\" + 0.004*\"obama\" + 0.004*\"year\" + 0.004*\"one\" + 0.004*\"david\" + 0.004*\"political\"')\n",
      "(13, '0.013*\"branch\" + 0.011*\"clinton\" + 0.010*\"gore\" + 0.009*\"said\" + 0.006*\"president\" + 0.005*\"state\" + 0.004*\"palau\" + 0.004*\"carter\" + 0.004*\"one\" + 0.004*\"delegation\"')\n",
      "(14, '0.058*\"message\" + 0.057*\"original\" + 0.025*\"will\" + 0.023*\"call\" + 0.022*\"can\" + 0.011*\"tomorrow\" + 0.010*\"know\" + 0.009*\"just\" + 0.009*\"get\" + 0.008*\"want\"')\n",
      "(15, '0.024*\"israel\" + 0.016*\"israeli\" + 0.014*\"palestinian\" + 0.010*\"netanyahu\" + 0.008*\"will\" + 0.008*\"settlement\" + 0.008*\"said\" + 0.007*\"jewish\" + 0.007*\"minister\" + 0.006*\"position\"')\n",
      "(16, '0.010*\"will\" + 0.009*\"food\" + 0.009*\"state\" + 0.007*\"secretary\" + 0.005*\"global\" + 0.004*\"support\" + 0.004*\"work\" + 0.004*\"one\" + 0.004*\"partner\" + 0.004*\"department\"')\n",
      "(17, '0.011*\"state\" + 0.011*\"will\" + 0.008*\"peace\" + 0.007*\"israel\" + 0.007*\"government\" + 0.007*\"security\" + 0.007*\"development\" + 0.006*\"palestinian\" + 0.006*\"country\" + 0.005*\"arab\"')\n",
      "(18, '0.014*\"min\" + 0.010*\"anne\" + 0.009*\"question\" + 0.009*\"team\" + 0.009*\"marie\" + 0.008*\"presentation\" + 0.008*\"state\" + 0.008*\"minute\" + 0.007*\"group\" + 0.007*\"will\"')\n",
      "(19, '0.013*\"percent\" + 0.010*\"debt\" + 0.009*\"tax\" + 0.009*\"government\" + 0.009*\"will\" + 0.008*\"pakistan\" + 0.008*\"bank\" + 0.008*\"euro\" + 0.007*\"economy\" + 0.007*\"growth\"')\n",
      "(20, '0.054*\"http\" + 0.045*\"com\" + 0.037*\"www\" + 0.024*\"amazon\" + 0.019*\"image\" + 0.016*\"ref\" + 0.010*\"utf8\" + 0.010*\"ie\" + 0.010*\"node\" + 0.008*\"child\"')\n",
      "(21, '0.020*\"obama\" + 0.013*\"clinton\" + 0.012*\"president\" + 0.011*\"mr\" + 0.010*\"said\" + 0.007*\"house\" + 0.006*\"one\" + 0.006*\"administration\" + 0.006*\"white\" + 0.006*\"say\"')\n",
      "(22, '0.011*\"health\" + 0.011*\"house\" + 0.009*\"http\" + 0.008*\"reid\" + 0.008*\"care\" + 0.008*\"bill\" + 0.007*\"white\" + 0.007*\"industry\" + 0.007*\"www\" + 0.006*\"reform\"')\n",
      "(23, '0.011*\"afghan\" + 0.010*\"senate\" + 0.009*\"said\" + 0.009*\"afghanistan\" + 0.008*\"senator\" + 0.006*\"republican\" + 0.005*\"taliban\" + 0.005*\"one\" + 0.005*\"vote\" + 0.004*\"time\"')\n",
      "(24, '0.017*\"will\" + 0.012*\"letter\" + 0.009*\"secretary\" + 0.009*\"sri\" + 0.008*\"statement\" + 0.008*\"lanka\" + 0.007*\"message\" + 0.007*\"monday\" + 0.006*\"original\" + 0.006*\"de\"')\n",
      "(25, '0.014*\"will\" + 0.013*\"blair\" + 0.008*\"iraq\" + 0.007*\"britain\" + 0.007*\"former\" + 0.006*\"inquiry\" + 0.006*\"chilcot\" + 0.006*\"war\" + 0.006*\"military\" + 0.005*\"say\"')\n",
      "(26, '0.020*\"message\" + 0.017*\"email\" + 0.011*\"original\" + 0.009*\"please\" + 0.007*\"can\" + 0.007*\"intended\" + 0.007*\"mail\" + 0.007*\"may\" + 0.007*\"office\" + 0.006*\"best\"')\n",
      "(27, '0.009*\"service\" + 0.007*\"people\" + 0.007*\"will\" + 0.006*\"settlement\" + 0.005*\"government\" + 0.005*\"haitian\" + 0.004*\"work\" + 0.004*\"state\" + 0.004*\"also\" + 0.004*\"can\"')\n",
      "(28, '0.015*\"right\" + 0.009*\"said\" + 0.008*\"human\" + 0.007*\"speech\" + 0.007*\"freedom\" + 0.006*\"president\" + 0.006*\"will\" + 0.006*\"clinton\" + 0.006*\"people\" + 0.005*\"obama\"')\n",
      "(29, '0.012*\"hospital\" + 0.009*\"report\" + 0.007*\"africa\" + 0.006*\"water\" + 0.006*\"state\" + 0.006*\"will\" + 0.005*\"staff\" + 0.005*\"message\" + 0.005*\"local\" + 0.005*\"goma\"')\n",
      "(30, '0.018*\"deal\" + 0.015*\"party\" + 0.015*\"will\" + 0.014*\"ireland\" + 0.013*\"said\" + 0.013*\"power\" + 0.013*\"northern\" + 0.013*\"uk\" + 0.012*\"co\" + 0.011*\"agreement\"')\n",
      "(31, '0.016*\"will\" + 0.015*\"tory\" + 0.011*\"cameron\" + 0.009*\"child\" + 0.008*\"brown\" + 0.007*\"clegg\" + 0.007*\"labour\" + 0.006*\"said\" + 0.005*\"haiti\" + 0.005*\"may\"')\n",
      "(32, '0.021*\"china\" + 0.009*\"chinese\" + 0.008*\"country\" + 0.007*\"state\" + 0.006*\"shanghai\" + 0.006*\"will\" + 0.005*\"leader\" + 0.005*\"http\" + 0.005*\"secretary\" + 0.005*\"president\"')\n",
      "(33, '0.008*\"kerry\" + 0.006*\"gordon\" + 0.006*\"will\" + 0.006*\"jonathan\" + 0.006*\"go\" + 0.005*\"tony\" + 0.005*\"john\" + 0.005*\"just\" + 0.005*\"clegg\" + 0.005*\"meeting\"')\n",
      "(34, '0.008*\"state\" + 0.006*\"issue\" + 0.005*\"heyman\" + 0.005*\"security\" + 0.005*\"report\" + 0.005*\"mr\" + 0.005*\"conflict\" + 0.004*\"council\" + 0.004*\"government\" + 0.004*\"public\"')\n",
      "(35, '0.017*\"thomas\" + 0.015*\"north\" + 0.012*\"korea\" + 0.008*\"said\" + 0.008*\"korean\" + 0.007*\"hill\" + 0.007*\"south\" + 0.006*\"woman\" + 0.006*\"government\" + 0.006*\"hearing\"')\n",
      "(36, '0.023*\"public\" + 0.016*\"affair\" + 0.012*\"diplomacy\" + 0.012*\"office\" + 0.011*\"bureau\" + 0.010*\"africa\" + 0.010*\"state\" + 0.010*\"department\" + 0.009*\"will\" + 0.007*\"officer\"')\n",
      "(37, '0.010*\"state\" + 0.008*\"people\" + 0.008*\"american\" + 0.008*\"security\" + 0.008*\"attack\" + 0.007*\"united\" + 0.007*\"said\" + 0.007*\"world\" + 0.006*\"government\" + 0.006*\"benghazi\"')\n",
      "(38, '0.011*\"honduras\" + 0.010*\"will\" + 0.009*\"president\" + 0.008*\"zelaya\" + 0.008*\"said\" + 0.007*\"election\" + 0.006*\"state\" + 0.005*\"country\" + 0.005*\"embassy\" + 0.005*\"democratic\"')\n",
      "(39, '0.014*\"guard\" + 0.012*\"security\" + 0.011*\"state\" + 0.008*\"contract\" + 0.006*\"embassy\" + 0.006*\"contractor\" + 0.005*\"august\" + 0.005*\"force\" + 0.005*\"department\" + 0.005*\"kabul\"')\n",
      "(40, '0.007*\"state\" + 0.007*\"just\" + 0.006*\"comment\" + 0.006*\"will\" + 0.006*\"foreign\" + 0.005*\"granger\" + 0.005*\"re\" + 0.005*\"leader\" + 0.004*\"year\" + 0.004*\"said\"')\n",
      "(41, '0.012*\"said\" + 0.009*\"iran\" + 0.007*\"will\" + 0.007*\"government\" + 0.006*\"minister\" + 0.006*\"pakistan\" + 0.006*\"country\" + 0.006*\"official\" + 0.005*\"iranian\" + 0.005*\"china\"')\n",
      "(42, '0.017*\"state\" + 0.009*\"agency\" + 0.008*\"united\" + 0.008*\"program\" + 0.007*\"will\" + 0.007*\"foreign\" + 0.007*\"new\" + 0.006*\"nuclear\" + 0.005*\"russia\" + 0.005*\"defense\"')\n",
      "(43, '0.011*\"germany\" + 0.011*\"will\" + 0.006*\"german\" + 0.006*\"president\" + 0.006*\"power\" + 0.006*\"public\" + 0.005*\"diplomacy\" + 0.004*\"new\" + 0.004*\"need\" + 0.004*\"also\"')\n",
      "(44, '0.014*\"com\" + 0.012*\"http\" + 0.009*\"www\" + 0.007*\"will\" + 0.007*\"message\" + 0.006*\"said\" + 0.006*\"original\" + 0.004*\"clinton\" + 0.004*\"time\" + 0.004*\"state\"')\n",
      "(45, '0.054*\"haiti\" + 0.018*\"haitian\" + 0.008*\"country\" + 0.008*\"president\" + 0.008*\"government\" + 0.008*\"said\" + 0.007*\"clinton\" + 0.007*\"people\" + 0.006*\"relief\" + 0.006*\"port\"')\n",
      "(46, '0.057*\"state\" + 0.055*\"gov\" + 0.015*\"abedin\" + 0.015*\"mill\" + 0.015*\"sullivan\" + 0.015*\"cheryl\" + 0.014*\"huma\" + 0.013*\"jacob\" + 0.012*\"com\" + 0.011*\"clintonemail\"')\n",
      "(47, '0.015*\"source\" + 0.014*\"al\" + 0.012*\"government\" + 0.012*\"libyan\" + 0.011*\"libya\" + 0.010*\"el\" + 0.008*\"force\" + 0.008*\"qaddafi\" + 0.008*\"militia\" + 0.008*\"national\"')\n",
      "(48, '0.020*\"development\" + 0.016*\"health\" + 0.013*\"global\" + 0.011*\"shah\" + 0.010*\"partnership\" + 0.009*\"education\" + 0.008*\"foundation\" + 0.007*\"smart\" + 0.007*\"country\" + 0.007*\"policy\"')\n",
      "(49, '0.012*\"will\" + 0.011*\"know\" + 0.010*\"secretary\" + 0.010*\"work\" + 0.010*\"cheryl\" + 0.009*\"best\" + 0.009*\"thanks\" + 0.008*\"issue\" + 0.007*\"good\" + 0.007*\"can\"')\n"
     ]
    },
    {
     "data": {
      "text/plain": [
       "<gensim.models.ldamulticore.LdaMulticore at 0x7f4d6f8bc898>"
      ]
     },
     "execution_count": 9,
     "metadata": {},
     "output_type": "execute_result"
    }
   ],
   "source": [
    "model50 = extractTopics(nTopics=50)"
   ]
  },
  {
   "cell_type": "code",
   "execution_count": null,
   "metadata": {
    "collapsed": true
   },
   "outputs": [],
   "source": []
  }
 ],
 "metadata": {
  "anaconda-cloud": {},
  "kernelspec": {
   "display_name": "Python [conda root]",
   "language": "python",
   "name": "conda-root-py"
  },
  "language_info": {
   "codemirror_mode": {
    "name": "ipython",
    "version": 3
   },
   "file_extension": ".py",
   "mimetype": "text/x-python",
   "name": "python",
   "nbconvert_exporter": "python",
   "pygments_lexer": "ipython3",
   "version": "3.5.2"
  }
 },
 "nbformat": 4,
 "nbformat_minor": 0
}
