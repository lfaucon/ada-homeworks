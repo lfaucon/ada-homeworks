{
 "cells": [
  {
   "cell_type": "markdown",
   "metadata": {},
   "source": [
    "# Question 3"
   ]
  },
  {
   "cell_type": "markdown",
   "metadata": {},
   "source": [
    "# Importing and Preprocessing"
   ]
  },
  {
   "cell_type": "code",
   "execution_count": 1,
   "metadata": {
    "collapsed": false
   },
   "outputs": [
    {
     "name": "stderr",
     "output_type": "stream",
     "text": [
      "/home/louisfaucon/anaconda3/lib/python3.5/site-packages/gensim/utils.py:1015: UserWarning: Pattern library is not installed, lemmatization won't be available.\n",
      "  warnings.warn(\"Pattern library is not installed, lemmatization won't be available.\")\n"
     ]
    }
   ],
   "source": [
    "import pandas as pd\n",
    "from gensim import corpora, models\n",
    "\n",
    "import preprocess"
   ]
  },
  {
   "cell_type": "code",
   "execution_count": 2,
   "metadata": {
    "collapsed": false
   },
   "outputs": [],
   "source": [
    "filename = './hillary-clinton-emails/Emails.csv'\n",
    "df_emails = pd.read_csv(filename)\n",
    "df_emails['ProcessedText'] = df_emails.apply(lambda row: preprocess.processText(row.RawText), axis=1)"
   ]
  },
  {
   "cell_type": "code",
   "execution_count": 3,
   "metadata": {
    "collapsed": true
   },
   "outputs": [],
   "source": [
    "texts = df_emails.ProcessedText.tolist()\n",
    "dictionary = corpora.Dictionary(texts)\n",
    "corpus = [dictionary.doc2bow(text) for text in texts]"
   ]
  },
  {
   "cell_type": "markdown",
   "metadata": {},
   "source": [
    "# Extracting topics with LdaModel"
   ]
  },
  {
   "cell_type": "code",
   "execution_count": 4,
   "metadata": {
    "collapsed": false
   },
   "outputs": [],
   "source": [
    "def extractTopics(nTopics=5):\n",
    "    return models.LdaMulticore(corpus, num_topics=nTopics, id2word = dictionary, passes=20, workers=7)"
   ]
  },
  {
   "cell_type": "code",
   "execution_count": 5,
   "metadata": {
    "collapsed": false
   },
   "outputs": [],
   "source": [
    "model= {}\n",
    "model[5] = extractTopics(nTopics=5)\n",
    "model[10] = extractTopics(nTopics=10)\n",
    "model[20] = extractTopics(nTopics=20)\n",
    "model[50] = extractTopics(nTopics=50)"
   ]
  },
  {
   "cell_type": "code",
   "execution_count": 10,
   "metadata": {
    "collapsed": false
   },
   "outputs": [
    {
     "name": "stdout",
     "output_type": "stream",
     "text": [
      "--- TOPICS FOR N=5 ---\n",
      "said will http state president party israel www deal palestinian\n",
      "will state government country president new said people obama one\n",
      "said obama republican one american right president http will time\n",
      "state will can one public security mr time said also\n",
      "message original will can call state secretary pm office know\n",
      "\n",
      "--- TOPICS FOR N=10 ---\n",
      "state http com woman also thomas will force clinton time\n",
      "will state government president foreign new country honduras support saudi\n",
      "obama said president clinton mr one house american republican time\n",
      "message original will can call know state get just see\n",
      "said government magariaf attack group new al people police libyan\n",
      "pm secretary office will state room route government en department\n",
      "http will said state government www com party haiti deal\n",
      "will state one president afghanistan people pakistan country said american\n",
      "israel israeli palestinian will said peace state senate netanyahu arab\n",
      "state development will public government policy global country health program\n",
      "\n",
      "--- TOPICS FOR N=20 ---\n",
      "will berlin republican president gate cabinet election said party new\n",
      "will message original can com http know time call tomorrow\n",
      "public koch position president republican boehner american one office political\n",
      "source al libyan government libya el minister force qaddafi national\n",
      "will africa state issue secretary video law work government new\n",
      "said iran nuclear will new pakistan state official china year\n",
      "state will haiti development government security need country people international\n",
      "will secretary state may family david report office today case\n",
      "mr obama said will time president new former blair say\n",
      "american state afghanistan http said one afghan military right war\n",
      "state said country will president people united woman world mr\n",
      "senate republican health vote senator bill said one will democrat\n",
      "party deal will said brown tory gordon power uk ireland\n",
      "right speech human freedom internet woman health world policy government\n",
      "clinton obama president said will one say house people state\n",
      "israel israeli palestinian state will peace arab american government settlement\n",
      "message original call can will state know gov cheryl email\n",
      "said will can time thomas get think berlusconi also now\n",
      "pm secretary office state room department route en residence private\n",
      "reid house will percent de white industry euro drug deal\n",
      "\n",
      "--- TOPICS FOR N=50 ---\n",
      "email message information please will video com original http may\n",
      "will child school can year people one get day said\n",
      "libya libyan source government el security al qaddafi keib magariaf\n",
      "house health pakistan bill care reform white committee industry baucus\n",
      "cabinet de minister government new magariaf president abushagur will leader\n",
      "said palestinian state president will israel minister netanyahu israeli talk\n",
      "donor fund project reconstruction haiti million port effort plan relief\n",
      "will think said may one get know issue forward can\n",
      "obama republican percent president democrat house voter poll saudi white\n",
      "http com www html message blog original time official say\n",
      "party tory labour will david clegg also cameron government american\n",
      "said obama president iran one nuclear administration will position pakistan\n",
      "force al official source also libya report leader government militia\n",
      "haiti haitian hospital will film africa woman festival child work\n",
      "will cut budget tax economy spending bank money year government\n",
      "health disease chronic global law country world new foundation state\n",
      "deal party ireland uk co power will said guardian agreement\n",
      "will message know original good secretary can work best think\n",
      "letter secretary state message lauren clinton please know email gov\n",
      "will call message original can know tomorrow get think just\n",
      "turkish berlusconi time turkey ecumenical patriarchate religious church news said\n",
      "koch obama party right tea david political republican american group\n",
      "medium http haiti com chavez report foreign owned hugo state\n",
      "state public diplomacy affair will policy department office africa bureau\n",
      "country china said germany state climate will bank grameen nation\n",
      "israel petraeus hagee right briefing http will mullen enough president\n",
      "thomas harold said hill jeff legal will savage woman secretary\n",
      "right human government freedom secretary pakistan development clinton minister democracy\n",
      "obama time president china american policy clinton one world new\n",
      "french council day time well business security country work shift\n",
      "aid new comment government may state foreign can mr minister\n",
      "com amazon http www image ref will message utf8 ie\n",
      "vote state will agency foreign said program senate united bill\n",
      "will berlin year gate freedom people future wall new world\n",
      "africa clinton said will bill just state district mr african\n",
      "development min security food question team presentation minute group state\n",
      "woman president will secretary state family people said world clinton\n",
      "guard security state embassy clinton department august contract force said\n",
      "message original call can will tomorrow know time just ok\n",
      "message original speech will one can mexican mexico also now\n",
      "north korea iran said south will korean country president minister\n",
      "state israel will american united security government people israeli world\n",
      "will said government meeting letter also still today time decision\n",
      "al branch will gore government source president election jalil libyan\n",
      "said mr clinton obama president senate one house administration republican\n",
      "reid mail issue recipient may cheryl use intended will attachment\n",
      "woman afghan afghanistan taliban karzai service government one kabul said\n",
      "state gov message mail embassy will report original com local\n",
      "pm secretary office room state route department en residence private\n",
      "election result will polling vote president today haiti automatic electronic\n",
      "\n"
     ]
    }
   ],
   "source": [
    "for key in [5,10,20,50]:\n",
    "    print('--- TOPICS FOR N='+str(key)+' ---')\n",
    "    for i in range(key):\n",
    "        print(\" \".join([word for word, _ in model[key].show_topic(i)]))\n",
    "    print()"
   ]
  },
  {
   "cell_type": "code",
   "execution_count": null,
   "metadata": {
    "collapsed": true
   },
   "outputs": [],
   "source": []
  }
 ],
 "metadata": {
  "anaconda-cloud": {},
  "kernelspec": {
   "display_name": "Python [conda root]",
   "language": "python",
   "name": "conda-root-py"
  },
  "language_info": {
   "codemirror_mode": {
    "name": "ipython",
    "version": 3
   },
   "file_extension": ".py",
   "mimetype": "text/x-python",
   "name": "python",
   "nbconvert_exporter": "python",
   "pygments_lexer": "ipython3",
   "version": "3.5.2"
  }
 },
 "nbformat": 4,
 "nbformat_minor": 0
}
