{
 "cells": [
  {
   "cell_type": "markdown",
   "metadata": {},
   "source": [
    "# Question 3"
   ]
  },
  {
   "cell_type": "markdown",
   "metadata": {},
   "source": [
    "# Importing and Preprocessing"
   ]
  },
  {
   "cell_type": "code",
   "execution_count": 1,
   "metadata": {
    "collapsed": false
   },
   "outputs": [
    {
     "name": "stderr",
     "output_type": "stream",
     "text": [
      "/home/louisfaucon/anaconda3/lib/python3.5/site-packages/gensim/utils.py:1015: UserWarning: Pattern library is not installed, lemmatization won't be available.\n",
      "  warnings.warn(\"Pattern library is not installed, lemmatization won't be available.\")\n"
     ]
    }
   ],
   "source": [
    "import pandas as pd\n",
    "\n",
    "from gensim import corpora, models\n",
    "\n",
    "import pprint as pp\n",
    "\n",
    "import preprocess"
   ]
  },
  {
   "cell_type": "code",
   "execution_count": 2,
   "metadata": {
    "collapsed": false
   },
   "outputs": [
    {
     "name": "stdout",
     "output_type": "stream",
     "text": [
      "Index(['Id', 'DocNumber', 'MetadataSubject', 'MetadataTo', 'MetadataFrom',\n",
      "       'SenderPersonId', 'MetadataDateSent', 'MetadataDateReleased',\n",
      "       'MetadataPdfLink', 'MetadataCaseNumber', 'MetadataDocumentClass',\n",
      "       'ExtractedSubject', 'ExtractedTo', 'ExtractedFrom', 'ExtractedCc',\n",
      "       'ExtractedDateSent', 'ExtractedCaseNumber', 'ExtractedDocNumber',\n",
      "       'ExtractedDateReleased', 'ExtractedReleaseInPartOrFull',\n",
      "       'ExtractedBodyText', 'RawText'],\n",
      "      dtype='object')\n"
     ]
    },
    {
     "data": {
      "text/html": [
       "<div>\n",
       "<table border=\"1\" class=\"dataframe\">\n",
       "  <thead>\n",
       "    <tr style=\"text-align: right;\">\n",
       "      <th></th>\n",
       "      <th>Id</th>\n",
       "      <th>DocNumber</th>\n",
       "      <th>MetadataSubject</th>\n",
       "      <th>MetadataTo</th>\n",
       "      <th>MetadataFrom</th>\n",
       "      <th>SenderPersonId</th>\n",
       "      <th>MetadataDateSent</th>\n",
       "      <th>MetadataDateReleased</th>\n",
       "      <th>MetadataPdfLink</th>\n",
       "      <th>MetadataCaseNumber</th>\n",
       "      <th>...</th>\n",
       "      <th>ExtractedTo</th>\n",
       "      <th>ExtractedFrom</th>\n",
       "      <th>ExtractedCc</th>\n",
       "      <th>ExtractedDateSent</th>\n",
       "      <th>ExtractedCaseNumber</th>\n",
       "      <th>ExtractedDocNumber</th>\n",
       "      <th>ExtractedDateReleased</th>\n",
       "      <th>ExtractedReleaseInPartOrFull</th>\n",
       "      <th>ExtractedBodyText</th>\n",
       "      <th>RawText</th>\n",
       "    </tr>\n",
       "  </thead>\n",
       "  <tbody>\n",
       "    <tr>\n",
       "      <th>0</th>\n",
       "      <td>1</td>\n",
       "      <td>C05739545</td>\n",
       "      <td>WOW</td>\n",
       "      <td>H</td>\n",
       "      <td>Sullivan, Jacob J</td>\n",
       "      <td>87.0</td>\n",
       "      <td>2012-09-12T04:00:00+00:00</td>\n",
       "      <td>2015-05-22T04:00:00+00:00</td>\n",
       "      <td>DOCUMENTS/HRC_Email_1_296/HRCH2/DOC_0C05739545...</td>\n",
       "      <td>F-2015-04841</td>\n",
       "      <td>...</td>\n",
       "      <td>NaN</td>\n",
       "      <td>Sullivan, Jacob J &lt;Sullivan11@state.gov&gt;</td>\n",
       "      <td>NaN</td>\n",
       "      <td>Wednesday, September 12, 2012 10:16 AM</td>\n",
       "      <td>F-2015-04841</td>\n",
       "      <td>C05739545</td>\n",
       "      <td>05/13/2015</td>\n",
       "      <td>RELEASE IN FULL</td>\n",
       "      <td>NaN</td>\n",
       "      <td>UNCLASSIFIED\\nU.S. Department of State\\nCase N...</td>\n",
       "    </tr>\n",
       "    <tr>\n",
       "      <th>1</th>\n",
       "      <td>2</td>\n",
       "      <td>C05739546</td>\n",
       "      <td>H: LATEST: HOW SYRIA IS AIDING QADDAFI AND MOR...</td>\n",
       "      <td>H</td>\n",
       "      <td>NaN</td>\n",
       "      <td>NaN</td>\n",
       "      <td>2011-03-03T05:00:00+00:00</td>\n",
       "      <td>2015-05-22T04:00:00+00:00</td>\n",
       "      <td>DOCUMENTS/HRC_Email_1_296/HRCH1/DOC_0C05739546...</td>\n",
       "      <td>F-2015-04841</td>\n",
       "      <td>...</td>\n",
       "      <td>NaN</td>\n",
       "      <td>NaN</td>\n",
       "      <td>NaN</td>\n",
       "      <td>NaN</td>\n",
       "      <td>F-2015-04841</td>\n",
       "      <td>C05739546</td>\n",
       "      <td>05/13/2015</td>\n",
       "      <td>RELEASE IN PART</td>\n",
       "      <td>B6\\nThursday, March 3, 2011 9:45 PM\\nH: Latest...</td>\n",
       "      <td>UNCLASSIFIED\\nU.S. Department of State\\nCase N...</td>\n",
       "    </tr>\n",
       "  </tbody>\n",
       "</table>\n",
       "<p>2 rows × 22 columns</p>\n",
       "</div>"
      ],
      "text/plain": [
       "   Id  DocNumber                                    MetadataSubject  \\\n",
       "0   1  C05739545                                                WOW   \n",
       "1   2  C05739546  H: LATEST: HOW SYRIA IS AIDING QADDAFI AND MOR...   \n",
       "\n",
       "  MetadataTo       MetadataFrom  SenderPersonId           MetadataDateSent  \\\n",
       "0          H  Sullivan, Jacob J            87.0  2012-09-12T04:00:00+00:00   \n",
       "1          H                NaN             NaN  2011-03-03T05:00:00+00:00   \n",
       "\n",
       "        MetadataDateReleased  \\\n",
       "0  2015-05-22T04:00:00+00:00   \n",
       "1  2015-05-22T04:00:00+00:00   \n",
       "\n",
       "                                     MetadataPdfLink MetadataCaseNumber  \\\n",
       "0  DOCUMENTS/HRC_Email_1_296/HRCH2/DOC_0C05739545...       F-2015-04841   \n",
       "1  DOCUMENTS/HRC_Email_1_296/HRCH1/DOC_0C05739546...       F-2015-04841   \n",
       "\n",
       "                         ...                         ExtractedTo  \\\n",
       "0                        ...                                 NaN   \n",
       "1                        ...                                 NaN   \n",
       "\n",
       "                              ExtractedFrom ExtractedCc  \\\n",
       "0  Sullivan, Jacob J <Sullivan11@state.gov>         NaN   \n",
       "1                                       NaN         NaN   \n",
       "\n",
       "                        ExtractedDateSent ExtractedCaseNumber  \\\n",
       "0  Wednesday, September 12, 2012 10:16 AM        F-2015-04841   \n",
       "1                                     NaN        F-2015-04841   \n",
       "\n",
       "  ExtractedDocNumber ExtractedDateReleased ExtractedReleaseInPartOrFull  \\\n",
       "0          C05739545            05/13/2015              RELEASE IN FULL   \n",
       "1          C05739546            05/13/2015              RELEASE IN PART   \n",
       "\n",
       "                                   ExtractedBodyText  \\\n",
       "0                                                NaN   \n",
       "1  B6\\nThursday, March 3, 2011 9:45 PM\\nH: Latest...   \n",
       "\n",
       "                                             RawText  \n",
       "0  UNCLASSIFIED\\nU.S. Department of State\\nCase N...  \n",
       "1  UNCLASSIFIED\\nU.S. Department of State\\nCase N...  \n",
       "\n",
       "[2 rows x 22 columns]"
      ]
     },
     "execution_count": 2,
     "metadata": {},
     "output_type": "execute_result"
    }
   ],
   "source": [
    "filename = './hillary-clinton-emails/Emails.csv'\n",
    "df_emails = pd.read_csv(filename)\n",
    "print(df_emails.columns)\n",
    "df_emails.head(2)"
   ]
  },
  {
   "cell_type": "code",
   "execution_count": 3,
   "metadata": {
    "collapsed": false
   },
   "outputs": [
    {
     "data": {
      "text/html": [
       "<div>\n",
       "<table border=\"1\" class=\"dataframe\">\n",
       "  <thead>\n",
       "    <tr style=\"text-align: right;\">\n",
       "      <th></th>\n",
       "      <th>ProcessedText</th>\n",
       "      <th>RawText</th>\n",
       "    </tr>\n",
       "  </thead>\n",
       "  <tbody>\n",
       "    <tr>\n",
       "      <th>0</th>\n",
       "      <td>[wonderful, strong, moving, statement, bos, pl...</td>\n",
       "      <td>UNCLASSIFIED\\nU.S. Department of State\\nCase N...</td>\n",
       "    </tr>\n",
       "    <tr>\n",
       "      <th>1</th>\n",
       "      <td>[thursday, march, latest, syria, aiding, qadda...</td>\n",
       "      <td>UNCLASSIFIED\\nU.S. Department of State\\nCase N...</td>\n",
       "    </tr>\n",
       "    <tr>\n",
       "      <th>2</th>\n",
       "      <td>[thx, original, message, former, colleague, te...</td>\n",
       "      <td>UNCLASSIFIED\\nU.S. Department of State\\nCase N...</td>\n",
       "    </tr>\n",
       "    <tr>\n",
       "      <th>3</th>\n",
       "      <td>[mill, cheryl, subject, cairo, condemnation, f...</td>\n",
       "      <td>UNCLASSIFIED\\nU.S. Department of State\\nCase N...</td>\n",
       "    </tr>\n",
       "    <tr>\n",
       "      <th>4</th>\n",
       "      <td>[hrod17, clintonemail, com, friday, march, hum...</td>\n",
       "      <td>B6\\nUNCLASSIFIED\\nU.S. Department of State\\nCa...</td>\n",
       "    </tr>\n",
       "  </tbody>\n",
       "</table>\n",
       "</div>"
      ],
      "text/plain": [
       "                                       ProcessedText  \\\n",
       "0  [wonderful, strong, moving, statement, bos, pl...   \n",
       "1  [thursday, march, latest, syria, aiding, qadda...   \n",
       "2  [thx, original, message, former, colleague, te...   \n",
       "3  [mill, cheryl, subject, cairo, condemnation, f...   \n",
       "4  [hrod17, clintonemail, com, friday, march, hum...   \n",
       "\n",
       "                                             RawText  \n",
       "0  UNCLASSIFIED\\nU.S. Department of State\\nCase N...  \n",
       "1  UNCLASSIFIED\\nU.S. Department of State\\nCase N...  \n",
       "2  UNCLASSIFIED\\nU.S. Department of State\\nCase N...  \n",
       "3  UNCLASSIFIED\\nU.S. Department of State\\nCase N...  \n",
       "4  B6\\nUNCLASSIFIED\\nU.S. Department of State\\nCa...  "
      ]
     },
     "execution_count": 3,
     "metadata": {},
     "output_type": "execute_result"
    }
   ],
   "source": [
    "df_emails['ProcessedText'] = df_emails.apply(lambda row: preprocess.processText(row.RawText), axis=1)\n",
    "df_emails[['ProcessedText','RawText']].head()"
   ]
  },
  {
   "cell_type": "code",
   "execution_count": 4,
   "metadata": {
    "collapsed": true
   },
   "outputs": [],
   "source": [
    "texts = df_emails.ProcessedText.tolist()\n",
    "dictionary = corpora.Dictionary(texts)\n",
    "corpus = [dictionary.doc2bow(text) for text in texts]"
   ]
  },
  {
   "cell_type": "markdown",
   "metadata": {},
   "source": [
    "# Extracting topics with LdaModel"
   ]
  },
  {
   "cell_type": "code",
   "execution_count": 5,
   "metadata": {
    "collapsed": false
   },
   "outputs": [],
   "source": [
    "def extractTopics(nTopics=5):\n",
    "    ldamodel = models.LdaMulticore(corpus, num_topics=nTopics, id2word = dictionary, passes=20, workers=7)\n",
    "    \n",
    "    for topic in ldamodel.print_topics(num_topics=nTopics, num_words=10):\n",
    "        print(topic)\n",
    "    \n",
    "    return ldamodel"
   ]
  },
  {
   "cell_type": "code",
   "execution_count": 6,
   "metadata": {
    "collapsed": false
   },
   "outputs": [
    {
     "name": "stdout",
     "output_type": "stream",
     "text": [
      "(0, '0.025*\"message\" + 0.023*\"original\" + 0.014*\"will\" + 0.011*\"can\" + 0.010*\"call\" + 0.007*\"state\" + 0.007*\"know\" + 0.005*\"just\" + 0.005*\"secretary\" + 0.005*\"get\"')\n",
      "(1, '0.008*\"israel\" + 0.008*\"state\" + 0.006*\"israeli\" + 0.005*\"palestinian\" + 0.005*\"http\" + 0.005*\"american\" + 0.004*\"will\" + 0.004*\"com\" + 0.004*\"said\" + 0.003*\"peace\"')\n",
      "(2, '0.010*\"will\" + 0.005*\"state\" + 0.005*\"government\" + 0.005*\"country\" + 0.004*\"new\" + 0.004*\"people\" + 0.004*\"said\" + 0.004*\"can\" + 0.004*\"year\" + 0.003*\"also\"')\n",
      "(3, '0.009*\"obama\" + 0.008*\"pm\" + 0.008*\"said\" + 0.007*\"president\" + 0.006*\"secretary\" + 0.006*\"house\" + 0.005*\"office\" + 0.005*\"state\" + 0.005*\"republican\" + 0.004*\"one\"')\n",
      "(4, '0.008*\"will\" + 0.007*\"government\" + 0.006*\"libya\" + 0.006*\"source\" + 0.006*\"al\" + 0.005*\"minister\" + 0.005*\"libyan\" + 0.005*\"said\" + 0.005*\"security\" + 0.004*\"president\"')\n"
     ]
    },
    {
     "data": {
      "text/plain": [
       "<gensim.models.ldamulticore.LdaMulticore at 0x7f4d6f8b2588>"
      ]
     },
     "execution_count": 6,
     "metadata": {},
     "output_type": "execute_result"
    }
   ],
   "source": [
    "model5 = extractTopics(nTopics=5)"
   ]
  },
  {
   "cell_type": "code",
   "execution_count": 7,
   "metadata": {
    "collapsed": false
   },
   "outputs": [
    {
     "name": "stdout",
     "output_type": "stream",
     "text": [
      "(0, '0.008*\"will\" + 0.006*\"country\" + 0.006*\"china\" + 0.004*\"state\" + 0.004*\"disease\" + 0.004*\"said\" + 0.004*\"http\" + 0.004*\"year\" + 0.004*\"berlusconi\" + 0.003*\"min\"')\n",
      "(1, '0.008*\"obama\" + 0.006*\"republican\" + 0.006*\"said\" + 0.005*\"will\" + 0.005*\"party\" + 0.005*\"president\" + 0.004*\"one\" + 0.004*\"house\" + 0.004*\"year\" + 0.004*\"time\"')\n",
      "(2, '0.010*\"will\" + 0.009*\"haiti\" + 0.008*\"state\" + 0.006*\"development\" + 0.005*\"country\" + 0.005*\"need\" + 0.004*\"government\" + 0.004*\"united\" + 0.004*\"year\" + 0.004*\"international\"')\n",
      "(3, '0.010*\"government\" + 0.008*\"president\" + 0.008*\"will\" + 0.006*\"state\" + 0.005*\"libyan\" + 0.005*\"libya\" + 0.005*\"new\" + 0.005*\"minister\" + 0.005*\"security\" + 0.004*\"said\"')\n",
      "(4, '0.007*\"government\" + 0.007*\"will\" + 0.006*\"el\" + 0.006*\"deal\" + 0.006*\"minister\" + 0.006*\"said\" + 0.006*\"source\" + 0.005*\"keib\" + 0.005*\"party\" + 0.005*\"power\"')\n",
      "(5, '0.008*\"state\" + 0.006*\"http\" + 0.006*\"com\" + 0.005*\"american\" + 0.005*\"said\" + 0.005*\"government\" + 0.005*\"security\" + 0.004*\"www\" + 0.004*\"attack\" + 0.003*\"al\"')\n",
      "(6, '0.007*\"will\" + 0.006*\"state\" + 0.006*\"people\" + 0.005*\"one\" + 0.005*\"clinton\" + 0.005*\"president\" + 0.005*\"obama\" + 0.004*\"policy\" + 0.004*\"world\" + 0.004*\"mr\"')\n",
      "(7, '0.030*\"pm\" + 0.019*\"secretary\" + 0.014*\"office\" + 0.012*\"state\" + 0.009*\"room\" + 0.009*\"department\" + 0.007*\"en\" + 0.007*\"route\" + 0.006*\"house\" + 0.006*\"private\"')\n",
      "(8, '0.033*\"message\" + 0.030*\"original\" + 0.018*\"will\" + 0.013*\"can\" + 0.012*\"call\" + 0.008*\"know\" + 0.007*\"state\" + 0.006*\"just\" + 0.006*\"get\" + 0.006*\"secretary\"')\n",
      "(9, '0.011*\"israel\" + 0.010*\"said\" + 0.008*\"israeli\" + 0.007*\"palestinian\" + 0.006*\"state\" + 0.006*\"will\" + 0.005*\"american\" + 0.004*\"president\" + 0.004*\"peace\" + 0.004*\"one\"')\n"
     ]
    },
    {
     "data": {
      "text/plain": [
       "<gensim.models.ldamulticore.LdaMulticore at 0x7f4d6f8bec18>"
      ]
     },
     "execution_count": 7,
     "metadata": {},
     "output_type": "execute_result"
    }
   ],
   "source": [
    "model10 = extractTopics(nTopics=10)"
   ]
  },
  {
   "cell_type": "code",
   "execution_count": null,
   "metadata": {
    "collapsed": false
   },
   "outputs": [
    {
     "name": "stdout",
     "output_type": "stream",
     "text": [
      "(0, '0.011*\"magariaf\" + 0.010*\"source\" + 0.008*\"libya\" + 0.007*\"state\" + 0.007*\"will\" + 0.007*\"government\" + 0.007*\"libyan\" + 0.006*\"al\" + 0.005*\"security\" + 0.005*\"also\"')\n",
      "(1, '0.008*\"president\" + 0.008*\"position\" + 0.005*\"one\" + 0.005*\"secretary\" + 0.005*\"filled\" + 0.005*\"time\" + 0.005*\"election\" + 0.004*\"hispanic\" + 0.004*\"will\" + 0.004*\"north\"')\n",
      "(2, '0.009*\"message\" + 0.009*\"call\" + 0.007*\"will\" + 0.007*\"original\" + 0.007*\"embassy\" + 0.006*\"state\" + 0.006*\"email\" + 0.005*\"classified\" + 0.005*\"zelaya\" + 0.005*\"do\"')\n",
      "(3, '0.012*\"http\" + 0.012*\"com\" + 0.009*\"www\" + 0.007*\"secretary\" + 0.007*\"amazon\" + 0.007*\"will\" + 0.005*\"image\" + 0.005*\"ref\" + 0.005*\"said\" + 0.004*\"film\"')\n",
      "(4, '0.011*\"state\" + 0.007*\"pakistan\" + 0.006*\"percent\" + 0.005*\"woman\" + 0.005*\"will\" + 0.005*\"said\" + 0.004*\"year\" + 0.004*\"republican\" + 0.004*\"policy\" + 0.004*\"foreign\"')\n",
      "(5, '0.011*\"will\" + 0.008*\"de\" + 0.006*\"military\" + 0.005*\"said\" + 0.004*\"war\" + 0.004*\"honduras\" + 0.004*\"blair\" + 0.004*\"government\" + 0.004*\"can\" + 0.004*\"former\"')\n",
      "(6, '0.006*\"el\" + 0.006*\"government\" + 0.005*\"keib\" + 0.005*\"said\" + 0.005*\"al\" + 0.005*\"one\" + 0.005*\"new\" + 0.005*\"group\" + 0.004*\"minister\" + 0.004*\"also\"')\n",
      "(7, '0.008*\"clinton\" + 0.007*\"will\" + 0.007*\"state\" + 0.006*\"said\" + 0.005*\"people\" + 0.005*\"right\" + 0.005*\"haiti\" + 0.004*\"child\" + 0.004*\"one\" + 0.004*\"can\"')\n",
      "(8, '0.009*\"government\" + 0.008*\"will\" + 0.008*\"public\" + 0.007*\"state\" + 0.006*\"development\" + 0.006*\"policy\" + 0.005*\"country\" + 0.005*\"new\" + 0.005*\"global\" + 0.005*\"foreign\"')\n",
      "(9, '0.007*\"afghanistan\" + 0.007*\"said\" + 0.006*\"afghan\" + 0.005*\"obama\" + 0.005*\"military\" + 0.005*\"one\" + 0.004*\"clinton\" + 0.004*\"american\" + 0.004*\"security\" + 0.004*\"president\"')\n",
      "(10, '0.013*\"will\" + 0.009*\"state\" + 0.005*\"people\" + 0.005*\"united\" + 0.005*\"country\" + 0.005*\"woman\" + 0.005*\"president\" + 0.004*\"government\" + 0.004*\"world\" + 0.004*\"issue\"')\n",
      "(11, '0.016*\"state\" + 0.014*\"gov\" + 0.011*\"cheryl\" + 0.008*\"will\" + 0.007*\"mill\" + 0.007*\"can\" + 0.007*\"get\" + 0.006*\"year\" + 0.005*\"school\" + 0.005*\"message\"')\n",
      "(12, '0.028*\"haiti\" + 0.012*\"haitian\" + 0.011*\"said\" + 0.009*\"clinton\" + 0.008*\"state\" + 0.006*\"president\" + 0.006*\"country\" + 0.005*\"international\" + 0.005*\"people\" + 0.004*\"government\"')\n",
      "(13, '0.045*\"message\" + 0.043*\"original\" + 0.022*\"will\" + 0.017*\"can\" + 0.016*\"call\" + 0.010*\"know\" + 0.008*\"tomorrow\" + 0.008*\"just\" + 0.007*\"get\" + 0.007*\"see\"')\n",
      "(14, '0.010*\"obama\" + 0.006*\"republican\" + 0.005*\"party\" + 0.005*\"house\" + 0.005*\"president\" + 0.004*\"american\" + 0.004*\"right\" + 0.004*\"one\" + 0.004*\"political\" + 0.004*\"time\"')\n",
      "(15, '0.012*\"libyan\" + 0.010*\"libya\" + 0.010*\"source\" + 0.010*\"al\" + 0.009*\"government\" + 0.009*\"benghazi\" + 0.008*\"qaddafi\" + 0.007*\"will\" + 0.006*\"security\" + 0.006*\"minister\"')\n",
      "(16, '0.007*\"turkish\" + 0.006*\"disease\" + 0.006*\"turkey\" + 0.006*\"http\" + 0.005*\"health\" + 0.005*\"www\" + 0.005*\"law\" + 0.005*\"church\" + 0.005*\"ecumenical\" + 0.005*\"patriarchate\"')\n",
      "(17, '0.031*\"pm\" + 0.023*\"israel\" + 0.017*\"secretary\" + 0.016*\"israeli\" + 0.015*\"state\" + 0.015*\"palestinian\" + 0.014*\"office\" + 0.009*\"room\" + 0.009*\"peace\" + 0.008*\"en\"')\n",
      "(18, '0.013*\"said\" + 0.010*\"will\" + 0.009*\"party\" + 0.009*\"deal\" + 0.006*\"brown\" + 0.006*\"power\" + 0.005*\"gordon\" + 0.005*\"tory\" + 0.005*\"guardian\" + 0.005*\"cameron\"')\n",
      "(19, '0.024*\"obama\" + 0.015*\"president\" + 0.009*\"mr\" + 0.009*\"clinton\" + 0.008*\"said\" + 0.007*\"administration\" + 0.007*\"policy\" + 0.007*\"house\" + 0.006*\"new\" + 0.005*\"senate\"')\n"
     ]
    },
    {
     "data": {
      "text/plain": [
       "<gensim.models.ldamulticore.LdaMulticore at 0x7f4d6f8aaac8>"
      ]
     },
     "execution_count": 8,
     "metadata": {},
     "output_type": "execute_result"
    }
   ],
   "source": [
    "model20 = extractTopics(nTopics=20)"
   ]
  },
  {
   "cell_type": "code",
   "execution_count": null,
   "metadata": {
    "collapsed": false
   },
   "outputs": [],
   "source": [
    "model50 = extractTopics(nTopics=50)"
   ]
  },
  {
   "cell_type": "code",
   "execution_count": null,
   "metadata": {
    "collapsed": true
   },
   "outputs": [],
   "source": []
  }
 ],
 "metadata": {
  "anaconda-cloud": {},
  "kernelspec": {
   "display_name": "Python [conda root]",
   "language": "python",
   "name": "conda-root-py"
  },
  "language_info": {
   "codemirror_mode": {
    "name": "ipython",
    "version": 3
   },
   "file_extension": ".py",
   "mimetype": "text/x-python",
   "name": "python",
   "nbconvert_exporter": "python",
   "pygments_lexer": "ipython3",
   "version": "3.5.2"
  }
 },
 "nbformat": 4,
 "nbformat_minor": 0
}
