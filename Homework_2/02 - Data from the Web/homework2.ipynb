{
 "cells": [
  {
   "cell_type": "markdown",
   "metadata": {},
   "source": [
    "# ADA - Homework 2"
   ]
  },
  {
   "cell_type": "code",
   "execution_count": 1,
   "metadata": {
    "collapsed": true
   },
   "outputs": [],
   "source": [
    "%matplotlib inline\n",
    "import pandas as pd\n",
    "import numpy as np\n",
    "import matplotlib.pyplot as plt\n",
    "import seaborn as sns\n",
    "sns.set_context('notebook')\n",
    "sns.set_style('whitegrid')"
   ]
  },
  {
   "cell_type": "markdown",
   "metadata": {},
   "source": [
    "## Requesting and parsing data from IS-Academia"
   ]
  },
  {
   "cell_type": "code",
   "execution_count": 2,
   "metadata": {
    "collapsed": true
   },
   "outputs": [],
   "source": [
    "import requests\n",
    "from bs4 import BeautifulSoup"
   ]
  },
  {
   "cell_type": "markdown",
   "metadata": {},
   "source": [
    "I parse the first page to get all the option fields useful to make queries later "
   ]
  },
  {
   "cell_type": "code",
   "execution_count": 3,
   "metadata": {
    "collapsed": false
   },
   "outputs": [
    {
     "data": {
      "text/plain": [
       "{'ww_x_HIVERETE': {'': 'null',\n",
       "  \"Semestre d'automne\": '2936286',\n",
       "  'Semestre de printemps': '2936295'},\n",
       " 'ww_x_PERIODE_ACAD': {'': 'null',\n",
       "  '2007-2008': '978181',\n",
       "  '2008-2009': '978187',\n",
       "  '2009-2010': '978195',\n",
       "  '2010-2011': '39486325',\n",
       "  '2011-2012': '123455150',\n",
       "  '2012-2013': '123456101',\n",
       "  '2013-2014': '213637754',\n",
       "  '2014-2015': '213637922',\n",
       "  '2015-2016': '213638028',\n",
       "  '2016-2017': '355925344'},\n",
       " 'ww_x_PERIODE_PEDAGO': {'': 'null',\n",
       "  'Bachelor semestre 1': '249108',\n",
       "  'Bachelor semestre 2': '249114',\n",
       "  'Bachelor semestre 3': '942155',\n",
       "  'Bachelor semestre 4': '942163',\n",
       "  'Bachelor semestre 5': '942120',\n",
       "  'Bachelor semestre 5b': '2226768',\n",
       "  'Bachelor semestre 6': '942175',\n",
       "  'Bachelor semestre 6b': '2226785',\n",
       "  'Master semestre 1': '2230106',\n",
       "  'Master semestre 2': '942192',\n",
       "  'Master semestre 3': '2230128',\n",
       "  'Master semestre 4': '2230140',\n",
       "  'Mineur semestre 1': '2335667',\n",
       "  'Mineur semestre 2': '2335676',\n",
       "  'Mise à niveau': '2063602308',\n",
       "  'Projet Master automne': '249127',\n",
       "  'Projet Master printemps': '3781783',\n",
       "  'Semestre automne': '953159',\n",
       "  'Semestre printemps': '2754553',\n",
       "  'Stage automne 3ème année': '953137',\n",
       "  'Stage automne 4ème année': '2226616',\n",
       "  'Stage printemps 3ème année': '983606',\n",
       "  'Stage printemps 4ème année': '2226626',\n",
       "  'Stage printemps master': '2227132'},\n",
       " 'ww_x_UNITE_ACAD': {'': 'null',\n",
       "  'Architecture': '942293',\n",
       "  'Chimie et génie chimique': '246696',\n",
       "  'Cours de mathématiques spéciales': '943282',\n",
       "  'EME (EPFL Middle East)': '637841336',\n",
       "  'Génie civil': '942623',\n",
       "  'Génie mécanique': '944263',\n",
       "  'Génie électrique et électronique ': '943936',\n",
       "  'Humanités digitales': '2054839157',\n",
       "  'Informatique': '249847',\n",
       "  'Ingénierie financière': '120623110',\n",
       "  'Management de la technologie': '946882',\n",
       "  'Mathématiques': '944590',\n",
       "  'Microtechnique': '945244',\n",
       "  'Physique': '945571',\n",
       "  'Science et génie des matériaux': '944917',\n",
       "  \"Sciences et ingénierie de l'environnement\": '942953',\n",
       "  'Sciences et technologies du vivant': '945901',\n",
       "  'Section FCUE': '1574548993',\n",
       "  'Systèmes de communication': '946228'}}"
      ]
     },
     "execution_count": 3,
     "metadata": {},
     "output_type": "execute_result"
    }
   ],
   "source": [
    "r = requests.get('http://isa.epfl.ch/imoniteur_ISAP/!GEDPUBLICREPORTS.filter?&ww_i_reportmodel=133685247')\n",
    "soup = BeautifulSoup(r.text, 'html.parser')\n",
    "options = {}\n",
    "for option in soup.find_all('option'):\n",
    "    options[option.parent.get('name')]=options.get(option.parent.get('name'),{})\n",
    "    options[option.parent.get('name')][option.text]=option.get('value')\n",
    "options"
   ]
  },
  {
   "cell_type": "code",
   "execution_count": 4,
   "metadata": {
    "collapsed": false
   },
   "outputs": [],
   "source": [
    "def get_data(unite_acad, periode_acad, periode_pedago, hiverete):\n",
    "    \"\"\" Get data with specific parameters.\n",
    "    \n",
    "        Args:\n",
    "            unite_acad (str): categorical from options.ww_x_UNITE_ACAD.keys()\n",
    "            periode_acad (str): categorical from options.ww_x_PERIODE_ACAD.keys()\n",
    "            periode_pedago (str): categorical from options.ww_x_PERIODE_PEDAGO.keys()\n",
    "            hiverete (str): categorical from options.ww_x_HIVERETE.keys()\n",
    "            \n",
    "        Returns:\n",
    "            DataFrame: Pandas dataframe containing the requested data.\n",
    "            \n",
    "    \"\"\"\n",
    "    request_params = {\n",
    "        'ww_x_GPS': '-1',\n",
    "        'ww_i_reportModel': '133685247',\n",
    "        'ww_i_reportModelXsl': '133685270',\n",
    "        'ww_x_UNITE_ACAD': options['ww_x_UNITE_ACAD'][unite_acad],\n",
    "        'ww_x_PERIODE_ACAD': options['ww_x_PERIODE_ACAD'][periode_acad],\n",
    "        'ww_x_PERIODE_PEDAGO': options['ww_x_PERIODE_PEDAGO'][periode_pedago],\n",
    "        'ww_x_HIVERETE': options['ww_x_HIVERETE'][hiverete]\n",
    "    }\n",
    "    \n",
    "    r = requests.get('http://isa.epfl.ch/imoniteur_ISAP/!GEDPUBLICREPORTS.html', params=request_params)\n",
    "\n",
    "    soup = BeautifulSoup(r.text, 'html.parser')\n",
    "    \n",
    "    table_lines = soup.find_all('tr')\n",
    "    columns = [th.text for th in table_lines[1].contents] if len(table_lines) > 1 else []\n",
    "    nColumns = len(columns)\n",
    "    \n",
    "    data = {}\n",
    "    for name in columns:\n",
    "        data[name] = []\n",
    "    \n",
    "    for tr in table_lines[2:]:\n",
    "        content = tr.contents\n",
    "        if content[0].name == 'td' :\n",
    "            for i in range(nColumns):\n",
    "                data[columns[i]].append(content[i].text)\n",
    "    \n",
    "    result = pd.DataFrame(data=data)\n",
    "    result['ww_x_UNITE_ACAD'] = unite_acad\n",
    "    result['ww_x_PERIODE_ACAD'] = periode_acad\n",
    "    result['ww_x_PERIODE_PEDAGO'] = periode_pedago\n",
    "    result['ww_x_HIVERETE'] = hiverete\n",
    "    return result"
   ]
  },
  {
   "cell_type": "markdown",
   "metadata": {},
   "source": [
    "A small test for the `get_data` method"
   ]
  },
  {
   "cell_type": "code",
   "execution_count": 5,
   "metadata": {
    "collapsed": false,
    "scrolled": false
   },
   "outputs": [
    {
     "data": {
      "text/html": [
       "<div>\n",
       "<table border=\"1\" class=\"dataframe\">\n",
       "  <thead>\n",
       "    <tr style=\"text-align: right;\">\n",
       "      <th></th>\n",
       "      <th>Civilité</th>\n",
       "      <th>Ecole Echange</th>\n",
       "      <th>Filière opt.</th>\n",
       "      <th>Mineur</th>\n",
       "      <th>No Sciper</th>\n",
       "      <th>Nom Prénom</th>\n",
       "      <th>Orientation Bachelor</th>\n",
       "      <th>Orientation Master</th>\n",
       "      <th>Spécialisation</th>\n",
       "      <th>Statut</th>\n",
       "      <th>Type Echange</th>\n",
       "      <th>ww_x_UNITE_ACAD</th>\n",
       "      <th>ww_x_PERIODE_ACAD</th>\n",
       "      <th>ww_x_PERIODE_PEDAGO</th>\n",
       "      <th>ww_x_HIVERETE</th>\n",
       "    </tr>\n",
       "  </thead>\n",
       "  <tbody>\n",
       "    <tr>\n",
       "      <th>0</th>\n",
       "      <td>Monsieur</td>\n",
       "      <td></td>\n",
       "      <td></td>\n",
       "      <td></td>\n",
       "      <td>169569</td>\n",
       "      <td>Arévalo Christian</td>\n",
       "      <td></td>\n",
       "      <td></td>\n",
       "      <td></td>\n",
       "      <td>Présent</td>\n",
       "      <td></td>\n",
       "      <td>Informatique</td>\n",
       "      <td>2007-2008</td>\n",
       "      <td>Bachelor semestre 1</td>\n",
       "      <td>Semestre d'automne</td>\n",
       "    </tr>\n",
       "    <tr>\n",
       "      <th>1</th>\n",
       "      <td>Monsieur</td>\n",
       "      <td></td>\n",
       "      <td></td>\n",
       "      <td></td>\n",
       "      <td>174905</td>\n",
       "      <td>Aubelle Flavien</td>\n",
       "      <td></td>\n",
       "      <td></td>\n",
       "      <td></td>\n",
       "      <td>Présent</td>\n",
       "      <td></td>\n",
       "      <td>Informatique</td>\n",
       "      <td>2007-2008</td>\n",
       "      <td>Bachelor semestre 1</td>\n",
       "      <td>Semestre d'automne</td>\n",
       "    </tr>\n",
       "    <tr>\n",
       "      <th>2</th>\n",
       "      <td>Monsieur</td>\n",
       "      <td></td>\n",
       "      <td></td>\n",
       "      <td></td>\n",
       "      <td>173922</td>\n",
       "      <td>Badoud Morgan</td>\n",
       "      <td></td>\n",
       "      <td></td>\n",
       "      <td></td>\n",
       "      <td>Présent</td>\n",
       "      <td></td>\n",
       "      <td>Informatique</td>\n",
       "      <td>2007-2008</td>\n",
       "      <td>Bachelor semestre 1</td>\n",
       "      <td>Semestre d'automne</td>\n",
       "    </tr>\n",
       "    <tr>\n",
       "      <th>3</th>\n",
       "      <td>Monsieur</td>\n",
       "      <td></td>\n",
       "      <td></td>\n",
       "      <td></td>\n",
       "      <td>179406</td>\n",
       "      <td>Baeriswyl Jonathan</td>\n",
       "      <td></td>\n",
       "      <td></td>\n",
       "      <td></td>\n",
       "      <td>Présent</td>\n",
       "      <td></td>\n",
       "      <td>Informatique</td>\n",
       "      <td>2007-2008</td>\n",
       "      <td>Bachelor semestre 1</td>\n",
       "      <td>Semestre d'automne</td>\n",
       "    </tr>\n",
       "    <tr>\n",
       "      <th>4</th>\n",
       "      <td>Monsieur</td>\n",
       "      <td></td>\n",
       "      <td></td>\n",
       "      <td></td>\n",
       "      <td>179428</td>\n",
       "      <td>Barroco Michael</td>\n",
       "      <td></td>\n",
       "      <td></td>\n",
       "      <td></td>\n",
       "      <td>Présent</td>\n",
       "      <td></td>\n",
       "      <td>Informatique</td>\n",
       "      <td>2007-2008</td>\n",
       "      <td>Bachelor semestre 1</td>\n",
       "      <td>Semestre d'automne</td>\n",
       "    </tr>\n",
       "  </tbody>\n",
       "</table>\n",
       "</div>"
      ],
      "text/plain": [
       "   Civilité Ecole Echange Filière opt. Mineur No Sciper          Nom Prénom  \\\n",
       "0  Monsieur                                      169569   Arévalo Christian   \n",
       "1  Monsieur                                      174905     Aubelle Flavien   \n",
       "2  Monsieur                                      173922       Badoud Morgan   \n",
       "3  Monsieur                                      179406  Baeriswyl Jonathan   \n",
       "4  Monsieur                                      179428     Barroco Michael   \n",
       "\n",
       "  Orientation Bachelor Orientation Master Spécialisation   Statut  \\\n",
       "0                                                         Présent   \n",
       "1                                                         Présent   \n",
       "2                                                         Présent   \n",
       "3                                                         Présent   \n",
       "4                                                         Présent   \n",
       "\n",
       "  Type Echange ww_x_UNITE_ACAD ww_x_PERIODE_ACAD  ww_x_PERIODE_PEDAGO  \\\n",
       "0                 Informatique         2007-2008  Bachelor semestre 1   \n",
       "1                 Informatique         2007-2008  Bachelor semestre 1   \n",
       "2                 Informatique         2007-2008  Bachelor semestre 1   \n",
       "3                 Informatique         2007-2008  Bachelor semestre 1   \n",
       "4                 Informatique         2007-2008  Bachelor semestre 1   \n",
       "\n",
       "        ww_x_HIVERETE  \n",
       "0  Semestre d'automne  \n",
       "1  Semestre d'automne  \n",
       "2  Semestre d'automne  \n",
       "3  Semestre d'automne  \n",
       "4  Semestre d'automne  "
      ]
     },
     "execution_count": 5,
     "metadata": {},
     "output_type": "execute_result"
    }
   ],
   "source": [
    "get_data(\n",
    "    'Informatique',\n",
    "    '2007-2008',\n",
    "    'Bachelor semestre 1',\n",
    "    \"Semestre d'automne\"\n",
    ").head()"
   ]
  },
  {
   "cell_type": "code",
   "execution_count": 6,
   "metadata": {
    "collapsed": true
   },
   "outputs": [],
   "source": [
    "def get_all_data(unite_acads, periode_acads, periode_pedagos, hiveretes):\n",
    "    \"\"\" Get data with specific parameters.\n",
    "    \n",
    "        Args:\n",
    "            unite_acads ([str]): array of categoricals from options.ww_x_UNITE_ACAD.keys()\n",
    "            periode_acads ([str]): array of categoricals from options.ww_x_PERIODE_ACAD.keys()\n",
    "            periode_pedagos ([str]): array of categoricals from options.ww_x_PERIODE_PEDAGO.keys()\n",
    "            hiveretes ([str]): array of categoricals from options.ww_x_HIVERETE.keys()\n",
    "            \n",
    "        Returns:\n",
    "            DataFrame: Pandas dataframe containing the requested data.\n",
    "            \n",
    "    \"\"\"\n",
    "    result = pd.DataFrame({})\n",
    "    for unite_acad in unite_acads:\n",
    "        for periode_acad in periode_acads:\n",
    "            for periode_pedago in periode_pedagos:\n",
    "                for hiverete in hiveretes:\n",
    "                    print(\"_\".join([unite_acad, periode_acad, periode_pedago, hiverete]))\n",
    "                    result = pd.concat([result, get_data(unite_acad, periode_acad, periode_pedago, hiverete)])\n",
    "    return result"
   ]
  },
  {
   "cell_type": "markdown",
   "metadata": {},
   "source": [
    "## Question 1"
   ]
  },
  {
   "cell_type": "markdown",
   "metadata": {},
   "source": [
    "### Importing the data"
   ]
  },
  {
   "cell_type": "code",
   "execution_count": 7,
   "metadata": {
    "collapsed": false,
    "scrolled": true
   },
   "outputs": [
    {
     "name": "stdout",
     "output_type": "stream",
     "text": [
      "Informatique_2007-2008_Bachelor semestre 1_Semestre d'automne\n",
      "Informatique_2007-2008_Bachelor semestre 1_Semestre de printemps\n",
      "Informatique_2007-2008_Bachelor semestre 2_Semestre d'automne\n",
      "Informatique_2007-2008_Bachelor semestre 2_Semestre de printemps\n",
      "Informatique_2007-2008_Bachelor semestre 3_Semestre d'automne\n",
      "Informatique_2007-2008_Bachelor semestre 3_Semestre de printemps\n",
      "Informatique_2007-2008_Bachelor semestre 4_Semestre d'automne\n",
      "Informatique_2007-2008_Bachelor semestre 4_Semestre de printemps\n",
      "Informatique_2007-2008_Bachelor semestre 5_Semestre d'automne\n",
      "Informatique_2007-2008_Bachelor semestre 5_Semestre de printemps\n",
      "Informatique_2007-2008_Bachelor semestre 6_Semestre d'automne\n",
      "Informatique_2007-2008_Bachelor semestre 6_Semestre de printemps\n",
      "Informatique_2007-2008_Bachelor semestre 5b_Semestre d'automne\n",
      "Informatique_2007-2008_Bachelor semestre 5b_Semestre de printemps\n",
      "Informatique_2007-2008_Bachelor semestre 6b_Semestre d'automne\n",
      "Informatique_2007-2008_Bachelor semestre 6b_Semestre de printemps\n",
      "Informatique_2008-2009_Bachelor semestre 1_Semestre d'automne\n",
      "Informatique_2008-2009_Bachelor semestre 1_Semestre de printemps\n",
      "Informatique_2008-2009_Bachelor semestre 2_Semestre d'automne\n",
      "Informatique_2008-2009_Bachelor semestre 2_Semestre de printemps\n",
      "Informatique_2008-2009_Bachelor semestre 3_Semestre d'automne\n",
      "Informatique_2008-2009_Bachelor semestre 3_Semestre de printemps\n",
      "Informatique_2008-2009_Bachelor semestre 4_Semestre d'automne\n",
      "Informatique_2008-2009_Bachelor semestre 4_Semestre de printemps\n",
      "Informatique_2008-2009_Bachelor semestre 5_Semestre d'automne\n",
      "Informatique_2008-2009_Bachelor semestre 5_Semestre de printemps\n",
      "Informatique_2008-2009_Bachelor semestre 6_Semestre d'automne\n",
      "Informatique_2008-2009_Bachelor semestre 6_Semestre de printemps\n",
      "Informatique_2008-2009_Bachelor semestre 5b_Semestre d'automne\n",
      "Informatique_2008-2009_Bachelor semestre 5b_Semestre de printemps\n",
      "Informatique_2008-2009_Bachelor semestre 6b_Semestre d'automne\n",
      "Informatique_2008-2009_Bachelor semestre 6b_Semestre de printemps\n",
      "Informatique_2009-2010_Bachelor semestre 1_Semestre d'automne\n",
      "Informatique_2009-2010_Bachelor semestre 1_Semestre de printemps\n",
      "Informatique_2009-2010_Bachelor semestre 2_Semestre d'automne\n",
      "Informatique_2009-2010_Bachelor semestre 2_Semestre de printemps\n",
      "Informatique_2009-2010_Bachelor semestre 3_Semestre d'automne\n",
      "Informatique_2009-2010_Bachelor semestre 3_Semestre de printemps\n",
      "Informatique_2009-2010_Bachelor semestre 4_Semestre d'automne\n",
      "Informatique_2009-2010_Bachelor semestre 4_Semestre de printemps\n",
      "Informatique_2009-2010_Bachelor semestre 5_Semestre d'automne\n",
      "Informatique_2009-2010_Bachelor semestre 5_Semestre de printemps\n",
      "Informatique_2009-2010_Bachelor semestre 6_Semestre d'automne\n",
      "Informatique_2009-2010_Bachelor semestre 6_Semestre de printemps\n",
      "Informatique_2009-2010_Bachelor semestre 5b_Semestre d'automne\n",
      "Informatique_2009-2010_Bachelor semestre 5b_Semestre de printemps\n",
      "Informatique_2009-2010_Bachelor semestre 6b_Semestre d'automne\n",
      "Informatique_2009-2010_Bachelor semestre 6b_Semestre de printemps\n",
      "Informatique_2010-2011_Bachelor semestre 1_Semestre d'automne\n",
      "Informatique_2010-2011_Bachelor semestre 1_Semestre de printemps\n",
      "Informatique_2010-2011_Bachelor semestre 2_Semestre d'automne\n",
      "Informatique_2010-2011_Bachelor semestre 2_Semestre de printemps\n",
      "Informatique_2010-2011_Bachelor semestre 3_Semestre d'automne\n",
      "Informatique_2010-2011_Bachelor semestre 3_Semestre de printemps\n",
      "Informatique_2010-2011_Bachelor semestre 4_Semestre d'automne\n",
      "Informatique_2010-2011_Bachelor semestre 4_Semestre de printemps\n",
      "Informatique_2010-2011_Bachelor semestre 5_Semestre d'automne\n",
      "Informatique_2010-2011_Bachelor semestre 5_Semestre de printemps\n",
      "Informatique_2010-2011_Bachelor semestre 6_Semestre d'automne\n",
      "Informatique_2010-2011_Bachelor semestre 6_Semestre de printemps\n",
      "Informatique_2010-2011_Bachelor semestre 5b_Semestre d'automne\n",
      "Informatique_2010-2011_Bachelor semestre 5b_Semestre de printemps\n",
      "Informatique_2010-2011_Bachelor semestre 6b_Semestre d'automne\n",
      "Informatique_2010-2011_Bachelor semestre 6b_Semestre de printemps\n",
      "Informatique_2011-2012_Bachelor semestre 1_Semestre d'automne\n",
      "Informatique_2011-2012_Bachelor semestre 1_Semestre de printemps\n",
      "Informatique_2011-2012_Bachelor semestre 2_Semestre d'automne\n",
      "Informatique_2011-2012_Bachelor semestre 2_Semestre de printemps\n",
      "Informatique_2011-2012_Bachelor semestre 3_Semestre d'automne\n",
      "Informatique_2011-2012_Bachelor semestre 3_Semestre de printemps\n",
      "Informatique_2011-2012_Bachelor semestre 4_Semestre d'automne\n",
      "Informatique_2011-2012_Bachelor semestre 4_Semestre de printemps\n",
      "Informatique_2011-2012_Bachelor semestre 5_Semestre d'automne\n",
      "Informatique_2011-2012_Bachelor semestre 5_Semestre de printemps\n",
      "Informatique_2011-2012_Bachelor semestre 6_Semestre d'automne\n",
      "Informatique_2011-2012_Bachelor semestre 6_Semestre de printemps\n",
      "Informatique_2011-2012_Bachelor semestre 5b_Semestre d'automne\n",
      "Informatique_2011-2012_Bachelor semestre 5b_Semestre de printemps\n",
      "Informatique_2011-2012_Bachelor semestre 6b_Semestre d'automne\n",
      "Informatique_2011-2012_Bachelor semestre 6b_Semestre de printemps\n",
      "Informatique_2012-2013_Bachelor semestre 1_Semestre d'automne\n",
      "Informatique_2012-2013_Bachelor semestre 1_Semestre de printemps\n",
      "Informatique_2012-2013_Bachelor semestre 2_Semestre d'automne\n",
      "Informatique_2012-2013_Bachelor semestre 2_Semestre de printemps\n",
      "Informatique_2012-2013_Bachelor semestre 3_Semestre d'automne\n",
      "Informatique_2012-2013_Bachelor semestre 3_Semestre de printemps\n",
      "Informatique_2012-2013_Bachelor semestre 4_Semestre d'automne\n",
      "Informatique_2012-2013_Bachelor semestre 4_Semestre de printemps\n",
      "Informatique_2012-2013_Bachelor semestre 5_Semestre d'automne\n",
      "Informatique_2012-2013_Bachelor semestre 5_Semestre de printemps\n",
      "Informatique_2012-2013_Bachelor semestre 6_Semestre d'automne\n",
      "Informatique_2012-2013_Bachelor semestre 6_Semestre de printemps\n",
      "Informatique_2012-2013_Bachelor semestre 5b_Semestre d'automne\n",
      "Informatique_2012-2013_Bachelor semestre 5b_Semestre de printemps\n",
      "Informatique_2012-2013_Bachelor semestre 6b_Semestre d'automne\n",
      "Informatique_2012-2013_Bachelor semestre 6b_Semestre de printemps\n",
      "Informatique_2013-2014_Bachelor semestre 1_Semestre d'automne\n",
      "Informatique_2013-2014_Bachelor semestre 1_Semestre de printemps\n",
      "Informatique_2013-2014_Bachelor semestre 2_Semestre d'automne\n",
      "Informatique_2013-2014_Bachelor semestre 2_Semestre de printemps\n",
      "Informatique_2013-2014_Bachelor semestre 3_Semestre d'automne\n",
      "Informatique_2013-2014_Bachelor semestre 3_Semestre de printemps\n",
      "Informatique_2013-2014_Bachelor semestre 4_Semestre d'automne\n",
      "Informatique_2013-2014_Bachelor semestre 4_Semestre de printemps\n",
      "Informatique_2013-2014_Bachelor semestre 5_Semestre d'automne\n",
      "Informatique_2013-2014_Bachelor semestre 5_Semestre de printemps\n",
      "Informatique_2013-2014_Bachelor semestre 6_Semestre d'automne\n",
      "Informatique_2013-2014_Bachelor semestre 6_Semestre de printemps\n",
      "Informatique_2013-2014_Bachelor semestre 5b_Semestre d'automne\n",
      "Informatique_2013-2014_Bachelor semestre 5b_Semestre de printemps\n",
      "Informatique_2013-2014_Bachelor semestre 6b_Semestre d'automne\n",
      "Informatique_2013-2014_Bachelor semestre 6b_Semestre de printemps\n",
      "Informatique_2014-2015_Bachelor semestre 1_Semestre d'automne\n",
      "Informatique_2014-2015_Bachelor semestre 1_Semestre de printemps\n",
      "Informatique_2014-2015_Bachelor semestre 2_Semestre d'automne\n",
      "Informatique_2014-2015_Bachelor semestre 2_Semestre de printemps\n",
      "Informatique_2014-2015_Bachelor semestre 3_Semestre d'automne\n",
      "Informatique_2014-2015_Bachelor semestre 3_Semestre de printemps\n",
      "Informatique_2014-2015_Bachelor semestre 4_Semestre d'automne\n",
      "Informatique_2014-2015_Bachelor semestre 4_Semestre de printemps\n",
      "Informatique_2014-2015_Bachelor semestre 5_Semestre d'automne\n",
      "Informatique_2014-2015_Bachelor semestre 5_Semestre de printemps\n",
      "Informatique_2014-2015_Bachelor semestre 6_Semestre d'automne\n",
      "Informatique_2014-2015_Bachelor semestre 6_Semestre de printemps\n",
      "Informatique_2014-2015_Bachelor semestre 5b_Semestre d'automne\n",
      "Informatique_2014-2015_Bachelor semestre 5b_Semestre de printemps\n",
      "Informatique_2014-2015_Bachelor semestre 6b_Semestre d'automne\n",
      "Informatique_2014-2015_Bachelor semestre 6b_Semestre de printemps\n",
      "Informatique_2015-2016_Bachelor semestre 1_Semestre d'automne\n",
      "Informatique_2015-2016_Bachelor semestre 1_Semestre de printemps\n",
      "Informatique_2015-2016_Bachelor semestre 2_Semestre d'automne\n",
      "Informatique_2015-2016_Bachelor semestre 2_Semestre de printemps\n",
      "Informatique_2015-2016_Bachelor semestre 3_Semestre d'automne\n",
      "Informatique_2015-2016_Bachelor semestre 3_Semestre de printemps\n",
      "Informatique_2015-2016_Bachelor semestre 4_Semestre d'automne\n",
      "Informatique_2015-2016_Bachelor semestre 4_Semestre de printemps\n",
      "Informatique_2015-2016_Bachelor semestre 5_Semestre d'automne\n",
      "Informatique_2015-2016_Bachelor semestre 5_Semestre de printemps\n",
      "Informatique_2015-2016_Bachelor semestre 6_Semestre d'automne\n",
      "Informatique_2015-2016_Bachelor semestre 6_Semestre de printemps\n",
      "Informatique_2015-2016_Bachelor semestre 5b_Semestre d'automne\n",
      "Informatique_2015-2016_Bachelor semestre 5b_Semestre de printemps\n",
      "Informatique_2015-2016_Bachelor semestre 6b_Semestre d'automne\n",
      "Informatique_2015-2016_Bachelor semestre 6b_Semestre de printemps\n",
      "Informatique_2016-2017_Bachelor semestre 1_Semestre d'automne\n",
      "Informatique_2016-2017_Bachelor semestre 1_Semestre de printemps\n",
      "Informatique_2016-2017_Bachelor semestre 2_Semestre d'automne\n",
      "Informatique_2016-2017_Bachelor semestre 2_Semestre de printemps\n",
      "Informatique_2016-2017_Bachelor semestre 3_Semestre d'automne\n",
      "Informatique_2016-2017_Bachelor semestre 3_Semestre de printemps\n",
      "Informatique_2016-2017_Bachelor semestre 4_Semestre d'automne\n",
      "Informatique_2016-2017_Bachelor semestre 4_Semestre de printemps\n",
      "Informatique_2016-2017_Bachelor semestre 5_Semestre d'automne\n",
      "Informatique_2016-2017_Bachelor semestre 5_Semestre de printemps\n",
      "Informatique_2016-2017_Bachelor semestre 6_Semestre d'automne\n",
      "Informatique_2016-2017_Bachelor semestre 6_Semestre de printemps\n",
      "Informatique_2016-2017_Bachelor semestre 5b_Semestre d'automne\n",
      "Informatique_2016-2017_Bachelor semestre 5b_Semestre de printemps\n",
      "Informatique_2016-2017_Bachelor semestre 6b_Semestre d'automne\n",
      "Informatique_2016-2017_Bachelor semestre 6b_Semestre de printemps\n"
     ]
    }
   ],
   "source": [
    "df_bachelor = get_all_data(\n",
    "    ['Informatique'],\n",
    "    ['2007-2008', '2008-2009', '2009-2010', '2010-2011', '2011-2012', '2012-2013', '2013-2014', '2014-2015', '2015-2016', '2016-2017'],\n",
    "    ['Bachelor semestre 1', 'Bachelor semestre 2', 'Bachelor semestre 3', 'Bachelor semestre 4', 'Bachelor semestre 5', 'Bachelor semestre 6', 'Bachelor semestre 5b', 'Bachelor semestre 6b'],\n",
    "    [\"Semestre d'automne\", 'Semestre de printemps']\n",
    ")"
   ]
  },
  {
   "cell_type": "code",
   "execution_count": 8,
   "metadata": {
    "collapsed": false
   },
   "outputs": [
    {
     "name": "stdout",
     "output_type": "stream",
     "text": [
      "(5808, 15)\n"
     ]
    },
    {
     "data": {
      "text/html": [
       "<div>\n",
       "<table border=\"1\" class=\"dataframe\">\n",
       "  <thead>\n",
       "    <tr style=\"text-align: right;\">\n",
       "      <th></th>\n",
       "      <th>Civilité</th>\n",
       "      <th>Ecole Echange</th>\n",
       "      <th>Filière opt.</th>\n",
       "      <th>Mineur</th>\n",
       "      <th>No Sciper</th>\n",
       "      <th>Nom Prénom</th>\n",
       "      <th>Orientation Bachelor</th>\n",
       "      <th>Orientation Master</th>\n",
       "      <th>Spécialisation</th>\n",
       "      <th>Statut</th>\n",
       "      <th>Type Echange</th>\n",
       "      <th>ww_x_HIVERETE</th>\n",
       "      <th>ww_x_PERIODE_ACAD</th>\n",
       "      <th>ww_x_PERIODE_PEDAGO</th>\n",
       "      <th>ww_x_UNITE_ACAD</th>\n",
       "    </tr>\n",
       "  </thead>\n",
       "  <tbody>\n",
       "    <tr>\n",
       "      <th>0</th>\n",
       "      <td>Monsieur</td>\n",
       "      <td></td>\n",
       "      <td></td>\n",
       "      <td></td>\n",
       "      <td>169569</td>\n",
       "      <td>Arévalo Christian</td>\n",
       "      <td></td>\n",
       "      <td></td>\n",
       "      <td></td>\n",
       "      <td>Présent</td>\n",
       "      <td></td>\n",
       "      <td>Semestre d'automne</td>\n",
       "      <td>2007-2008</td>\n",
       "      <td>Bachelor semestre 1</td>\n",
       "      <td>Informatique</td>\n",
       "    </tr>\n",
       "    <tr>\n",
       "      <th>1</th>\n",
       "      <td>Monsieur</td>\n",
       "      <td></td>\n",
       "      <td></td>\n",
       "      <td></td>\n",
       "      <td>174905</td>\n",
       "      <td>Aubelle Flavien</td>\n",
       "      <td></td>\n",
       "      <td></td>\n",
       "      <td></td>\n",
       "      <td>Présent</td>\n",
       "      <td></td>\n",
       "      <td>Semestre d'automne</td>\n",
       "      <td>2007-2008</td>\n",
       "      <td>Bachelor semestre 1</td>\n",
       "      <td>Informatique</td>\n",
       "    </tr>\n",
       "    <tr>\n",
       "      <th>2</th>\n",
       "      <td>Monsieur</td>\n",
       "      <td></td>\n",
       "      <td></td>\n",
       "      <td></td>\n",
       "      <td>173922</td>\n",
       "      <td>Badoud Morgan</td>\n",
       "      <td></td>\n",
       "      <td></td>\n",
       "      <td></td>\n",
       "      <td>Présent</td>\n",
       "      <td></td>\n",
       "      <td>Semestre d'automne</td>\n",
       "      <td>2007-2008</td>\n",
       "      <td>Bachelor semestre 1</td>\n",
       "      <td>Informatique</td>\n",
       "    </tr>\n",
       "    <tr>\n",
       "      <th>3</th>\n",
       "      <td>Monsieur</td>\n",
       "      <td></td>\n",
       "      <td></td>\n",
       "      <td></td>\n",
       "      <td>179406</td>\n",
       "      <td>Baeriswyl Jonathan</td>\n",
       "      <td></td>\n",
       "      <td></td>\n",
       "      <td></td>\n",
       "      <td>Présent</td>\n",
       "      <td></td>\n",
       "      <td>Semestre d'automne</td>\n",
       "      <td>2007-2008</td>\n",
       "      <td>Bachelor semestre 1</td>\n",
       "      <td>Informatique</td>\n",
       "    </tr>\n",
       "    <tr>\n",
       "      <th>4</th>\n",
       "      <td>Monsieur</td>\n",
       "      <td></td>\n",
       "      <td></td>\n",
       "      <td></td>\n",
       "      <td>179428</td>\n",
       "      <td>Barroco Michael</td>\n",
       "      <td></td>\n",
       "      <td></td>\n",
       "      <td></td>\n",
       "      <td>Présent</td>\n",
       "      <td></td>\n",
       "      <td>Semestre d'automne</td>\n",
       "      <td>2007-2008</td>\n",
       "      <td>Bachelor semestre 1</td>\n",
       "      <td>Informatique</td>\n",
       "    </tr>\n",
       "  </tbody>\n",
       "</table>\n",
       "</div>"
      ],
      "text/plain": [
       "   Civilité Ecole Echange Filière opt. Mineur No Sciper          Nom Prénom  \\\n",
       "0  Monsieur                                      169569   Arévalo Christian   \n",
       "1  Monsieur                                      174905     Aubelle Flavien   \n",
       "2  Monsieur                                      173922       Badoud Morgan   \n",
       "3  Monsieur                                      179406  Baeriswyl Jonathan   \n",
       "4  Monsieur                                      179428     Barroco Michael   \n",
       "\n",
       "  Orientation Bachelor Orientation Master Spécialisation   Statut  \\\n",
       "0                                                         Présent   \n",
       "1                                                         Présent   \n",
       "2                                                         Présent   \n",
       "3                                                         Présent   \n",
       "4                                                         Présent   \n",
       "\n",
       "  Type Echange       ww_x_HIVERETE ww_x_PERIODE_ACAD  ww_x_PERIODE_PEDAGO  \\\n",
       "0               Semestre d'automne         2007-2008  Bachelor semestre 1   \n",
       "1               Semestre d'automne         2007-2008  Bachelor semestre 1   \n",
       "2               Semestre d'automne         2007-2008  Bachelor semestre 1   \n",
       "3               Semestre d'automne         2007-2008  Bachelor semestre 1   \n",
       "4               Semestre d'automne         2007-2008  Bachelor semestre 1   \n",
       "\n",
       "  ww_x_UNITE_ACAD  \n",
       "0    Informatique  \n",
       "1    Informatique  \n",
       "2    Informatique  \n",
       "3    Informatique  \n",
       "4    Informatique  "
      ]
     },
     "execution_count": 8,
     "metadata": {},
     "output_type": "execute_result"
    }
   ],
   "source": [
    "print(df_bachelor.shape)\n",
    "df_bachelor.head()"
   ]
  },
  {
   "cell_type": "markdown",
   "metadata": {},
   "source": [
    "### Exploring the data"
   ]
  },
  {
   "cell_type": "code",
   "execution_count": 9,
   "metadata": {
    "collapsed": false
   },
   "outputs": [
    {
     "name": "stdout",
     "output_type": "stream",
     "text": [
      "(5808, 15)\n"
     ]
    },
    {
     "data": {
      "text/html": [
       "<div>\n",
       "<table border=\"1\" class=\"dataframe\">\n",
       "  <thead>\n",
       "    <tr style=\"text-align: right;\">\n",
       "      <th></th>\n",
       "      <th>Civilité</th>\n",
       "      <th>Ecole Echange</th>\n",
       "      <th>Filière opt.</th>\n",
       "      <th>Mineur</th>\n",
       "      <th>No Sciper</th>\n",
       "      <th>Nom Prénom</th>\n",
       "      <th>Orientation Bachelor</th>\n",
       "      <th>Orientation Master</th>\n",
       "      <th>Spécialisation</th>\n",
       "      <th>Statut</th>\n",
       "      <th>Type Echange</th>\n",
       "      <th>ww_x_HIVERETE</th>\n",
       "      <th>ww_x_PERIODE_ACAD</th>\n",
       "      <th>ww_x_PERIODE_PEDAGO</th>\n",
       "      <th>ww_x_UNITE_ACAD</th>\n",
       "    </tr>\n",
       "  </thead>\n",
       "  <tbody>\n",
       "    <tr>\n",
       "      <th>0</th>\n",
       "      <td>Monsieur</td>\n",
       "      <td></td>\n",
       "      <td></td>\n",
       "      <td></td>\n",
       "      <td>169569</td>\n",
       "      <td>Arévalo Christian</td>\n",
       "      <td></td>\n",
       "      <td></td>\n",
       "      <td></td>\n",
       "      <td>Présent</td>\n",
       "      <td></td>\n",
       "      <td>Semestre d'automne</td>\n",
       "      <td>2007-2008</td>\n",
       "      <td>Bachelor semestre 1</td>\n",
       "      <td>Informatique</td>\n",
       "    </tr>\n",
       "    <tr>\n",
       "      <th>1</th>\n",
       "      <td>Monsieur</td>\n",
       "      <td></td>\n",
       "      <td></td>\n",
       "      <td></td>\n",
       "      <td>174905</td>\n",
       "      <td>Aubelle Flavien</td>\n",
       "      <td></td>\n",
       "      <td></td>\n",
       "      <td></td>\n",
       "      <td>Présent</td>\n",
       "      <td></td>\n",
       "      <td>Semestre d'automne</td>\n",
       "      <td>2007-2008</td>\n",
       "      <td>Bachelor semestre 1</td>\n",
       "      <td>Informatique</td>\n",
       "    </tr>\n",
       "    <tr>\n",
       "      <th>2</th>\n",
       "      <td>Monsieur</td>\n",
       "      <td></td>\n",
       "      <td></td>\n",
       "      <td></td>\n",
       "      <td>173922</td>\n",
       "      <td>Badoud Morgan</td>\n",
       "      <td></td>\n",
       "      <td></td>\n",
       "      <td></td>\n",
       "      <td>Présent</td>\n",
       "      <td></td>\n",
       "      <td>Semestre d'automne</td>\n",
       "      <td>2007-2008</td>\n",
       "      <td>Bachelor semestre 1</td>\n",
       "      <td>Informatique</td>\n",
       "    </tr>\n",
       "    <tr>\n",
       "      <th>3</th>\n",
       "      <td>Monsieur</td>\n",
       "      <td></td>\n",
       "      <td></td>\n",
       "      <td></td>\n",
       "      <td>179406</td>\n",
       "      <td>Baeriswyl Jonathan</td>\n",
       "      <td></td>\n",
       "      <td></td>\n",
       "      <td></td>\n",
       "      <td>Présent</td>\n",
       "      <td></td>\n",
       "      <td>Semestre d'automne</td>\n",
       "      <td>2007-2008</td>\n",
       "      <td>Bachelor semestre 1</td>\n",
       "      <td>Informatique</td>\n",
       "    </tr>\n",
       "    <tr>\n",
       "      <th>4</th>\n",
       "      <td>Monsieur</td>\n",
       "      <td></td>\n",
       "      <td></td>\n",
       "      <td></td>\n",
       "      <td>179428</td>\n",
       "      <td>Barroco Michael</td>\n",
       "      <td></td>\n",
       "      <td></td>\n",
       "      <td></td>\n",
       "      <td>Présent</td>\n",
       "      <td></td>\n",
       "      <td>Semestre d'automne</td>\n",
       "      <td>2007-2008</td>\n",
       "      <td>Bachelor semestre 1</td>\n",
       "      <td>Informatique</td>\n",
       "    </tr>\n",
       "  </tbody>\n",
       "</table>\n",
       "</div>"
      ],
      "text/plain": [
       "   Civilité Ecole Echange Filière opt. Mineur No Sciper          Nom Prénom  \\\n",
       "0  Monsieur                                      169569   Arévalo Christian   \n",
       "1  Monsieur                                      174905     Aubelle Flavien   \n",
       "2  Monsieur                                      173922       Badoud Morgan   \n",
       "3  Monsieur                                      179406  Baeriswyl Jonathan   \n",
       "4  Monsieur                                      179428     Barroco Michael   \n",
       "\n",
       "  Orientation Bachelor Orientation Master Spécialisation   Statut  \\\n",
       "0                                                         Présent   \n",
       "1                                                         Présent   \n",
       "2                                                         Présent   \n",
       "3                                                         Présent   \n",
       "4                                                         Présent   \n",
       "\n",
       "  Type Echange       ww_x_HIVERETE ww_x_PERIODE_ACAD  ww_x_PERIODE_PEDAGO  \\\n",
       "0               Semestre d'automne         2007-2008  Bachelor semestre 1   \n",
       "1               Semestre d'automne         2007-2008  Bachelor semestre 1   \n",
       "2               Semestre d'automne         2007-2008  Bachelor semestre 1   \n",
       "3               Semestre d'automne         2007-2008  Bachelor semestre 1   \n",
       "4               Semestre d'automne         2007-2008  Bachelor semestre 1   \n",
       "\n",
       "  ww_x_UNITE_ACAD  \n",
       "0    Informatique  \n",
       "1    Informatique  \n",
       "2    Informatique  \n",
       "3    Informatique  \n",
       "4    Informatique  "
      ]
     },
     "execution_count": 9,
     "metadata": {},
     "output_type": "execute_result"
    }
   ],
   "source": [
    "print(df_bachelor.shape)\n",
    "df_bachelor.head()"
   ]
  },
  {
   "cell_type": "markdown",
   "metadata": {},
   "source": [
    "5b ? 6b ?\n",
    "These have no data! Youhou"
   ]
  },
  {
   "cell_type": "code",
   "execution_count": 10,
   "metadata": {
    "collapsed": false
   },
   "outputs": [
    {
     "name": "stdout",
     "output_type": "stream",
     "text": [
      "(0, 15)\n",
      "(0, 15)\n"
     ]
    }
   ],
   "source": [
    "print(df_bachelor[df_bachelor.ww_x_PERIODE_PEDAGO == 'Bachelor semestre 6b'].shape)\n",
    "print(df_bachelor[df_bachelor.ww_x_PERIODE_PEDAGO == 'Bachelor semestre 5b'].shape)"
   ]
  },
  {
   "cell_type": "markdown",
   "metadata": {},
   "source": [
    "Counting the students"
   ]
  },
  {
   "cell_type": "code",
   "execution_count": 11,
   "metadata": {
    "collapsed": false
   },
   "outputs": [
    {
     "name": "stdout",
     "output_type": "stream",
     "text": [
      "1481\n"
     ]
    }
   ],
   "source": [
    "print(len(df_bachelor['No Sciper'].unique()))"
   ]
  },
  {
   "cell_type": "markdown",
   "metadata": {},
   "source": [
    "## Filtering only students with a Bachelor semestre 1 & 6"
   ]
  },
  {
   "cell_type": "code",
   "execution_count": 12,
   "metadata": {
    "collapsed": false
   },
   "outputs": [],
   "source": [
    "df_bachelor_semestre_1 = df_bachelor[df_bachelor.ww_x_PERIODE_PEDAGO == 'Bachelor semestre 1']\n",
    "df_bachelor_semestre_6 = df_bachelor[df_bachelor.ww_x_PERIODE_PEDAGO == 'Bachelor semestre 6']"
   ]
  },
  {
   "cell_type": "code",
   "execution_count": 13,
   "metadata": {
    "collapsed": false
   },
   "outputs": [
    {
     "name": "stdout",
     "output_type": "stream",
     "text": [
      "(2812, 15)\n"
     ]
    },
    {
     "data": {
      "text/html": [
       "<div>\n",
       "<table border=\"1\" class=\"dataframe\">\n",
       "  <thead>\n",
       "    <tr style=\"text-align: right;\">\n",
       "      <th></th>\n",
       "      <th>Civilité</th>\n",
       "      <th>Ecole Echange</th>\n",
       "      <th>Filière opt.</th>\n",
       "      <th>Mineur</th>\n",
       "      <th>No Sciper</th>\n",
       "      <th>Nom Prénom</th>\n",
       "      <th>Orientation Bachelor</th>\n",
       "      <th>Orientation Master</th>\n",
       "      <th>Spécialisation</th>\n",
       "      <th>Statut</th>\n",
       "      <th>Type Echange</th>\n",
       "      <th>ww_x_HIVERETE</th>\n",
       "      <th>ww_x_PERIODE_ACAD</th>\n",
       "      <th>ww_x_PERIODE_PEDAGO</th>\n",
       "      <th>ww_x_UNITE_ACAD</th>\n",
       "    </tr>\n",
       "  </thead>\n",
       "  <tbody>\n",
       "    <tr>\n",
       "      <th>0</th>\n",
       "      <td>Monsieur</td>\n",
       "      <td></td>\n",
       "      <td></td>\n",
       "      <td></td>\n",
       "      <td>169569</td>\n",
       "      <td>Arévalo Christian</td>\n",
       "      <td></td>\n",
       "      <td></td>\n",
       "      <td></td>\n",
       "      <td>Présent</td>\n",
       "      <td></td>\n",
       "      <td>Semestre d'automne</td>\n",
       "      <td>2007-2008</td>\n",
       "      <td>Bachelor semestre 1</td>\n",
       "      <td>Informatique</td>\n",
       "    </tr>\n",
       "    <tr>\n",
       "      <th>1</th>\n",
       "      <td>Monsieur</td>\n",
       "      <td></td>\n",
       "      <td></td>\n",
       "      <td></td>\n",
       "      <td>174905</td>\n",
       "      <td>Aubelle Flavien</td>\n",
       "      <td></td>\n",
       "      <td></td>\n",
       "      <td></td>\n",
       "      <td>Présent</td>\n",
       "      <td></td>\n",
       "      <td>Semestre d'automne</td>\n",
       "      <td>2007-2008</td>\n",
       "      <td>Bachelor semestre 1</td>\n",
       "      <td>Informatique</td>\n",
       "    </tr>\n",
       "    <tr>\n",
       "      <th>3</th>\n",
       "      <td>Monsieur</td>\n",
       "      <td></td>\n",
       "      <td></td>\n",
       "      <td></td>\n",
       "      <td>179406</td>\n",
       "      <td>Baeriswyl Jonathan</td>\n",
       "      <td></td>\n",
       "      <td></td>\n",
       "      <td></td>\n",
       "      <td>Présent</td>\n",
       "      <td></td>\n",
       "      <td>Semestre d'automne</td>\n",
       "      <td>2007-2008</td>\n",
       "      <td>Bachelor semestre 1</td>\n",
       "      <td>Informatique</td>\n",
       "    </tr>\n",
       "    <tr>\n",
       "      <th>4</th>\n",
       "      <td>Monsieur</td>\n",
       "      <td></td>\n",
       "      <td></td>\n",
       "      <td></td>\n",
       "      <td>179428</td>\n",
       "      <td>Barroco Michael</td>\n",
       "      <td></td>\n",
       "      <td></td>\n",
       "      <td></td>\n",
       "      <td>Présent</td>\n",
       "      <td></td>\n",
       "      <td>Semestre d'automne</td>\n",
       "      <td>2007-2008</td>\n",
       "      <td>Bachelor semestre 1</td>\n",
       "      <td>Informatique</td>\n",
       "    </tr>\n",
       "    <tr>\n",
       "      <th>7</th>\n",
       "      <td>Monsieur</td>\n",
       "      <td></td>\n",
       "      <td></td>\n",
       "      <td></td>\n",
       "      <td>179449</td>\n",
       "      <td>Bindschaedler Vincent</td>\n",
       "      <td></td>\n",
       "      <td></td>\n",
       "      <td></td>\n",
       "      <td>Présent</td>\n",
       "      <td></td>\n",
       "      <td>Semestre d'automne</td>\n",
       "      <td>2007-2008</td>\n",
       "      <td>Bachelor semestre 1</td>\n",
       "      <td>Informatique</td>\n",
       "    </tr>\n",
       "  </tbody>\n",
       "</table>\n",
       "</div>"
      ],
      "text/plain": [
       "   Civilité Ecole Echange Filière opt. Mineur No Sciper  \\\n",
       "0  Monsieur                                      169569   \n",
       "1  Monsieur                                      174905   \n",
       "3  Monsieur                                      179406   \n",
       "4  Monsieur                                      179428   \n",
       "7  Monsieur                                      179449   \n",
       "\n",
       "              Nom Prénom Orientation Bachelor Orientation Master  \\\n",
       "0      Arévalo Christian                                           \n",
       "1        Aubelle Flavien                                           \n",
       "3     Baeriswyl Jonathan                                           \n",
       "4        Barroco Michael                                           \n",
       "7  Bindschaedler Vincent                                           \n",
       "\n",
       "  Spécialisation   Statut Type Echange       ww_x_HIVERETE ww_x_PERIODE_ACAD  \\\n",
       "0                 Présent               Semestre d'automne         2007-2008   \n",
       "1                 Présent               Semestre d'automne         2007-2008   \n",
       "3                 Présent               Semestre d'automne         2007-2008   \n",
       "4                 Présent               Semestre d'automne         2007-2008   \n",
       "7                 Présent               Semestre d'automne         2007-2008   \n",
       "\n",
       "   ww_x_PERIODE_PEDAGO ww_x_UNITE_ACAD  \n",
       "0  Bachelor semestre 1    Informatique  \n",
       "1  Bachelor semestre 1    Informatique  \n",
       "3  Bachelor semestre 1    Informatique  \n",
       "4  Bachelor semestre 1    Informatique  \n",
       "7  Bachelor semestre 1    Informatique  "
      ]
     },
     "execution_count": 13,
     "metadata": {},
     "output_type": "execute_result"
    }
   ],
   "source": [
    "df_bachelor_filtered = df_bachelor[df_bachelor['No Sciper'].isin(df_bachelor_semestre_1['No Sciper'].tolist())]\n",
    "df_bachelor_filtered = df_bachelor_filtered[df_bachelor_filtered['No Sciper'].isin(df_bachelor_semestre_6['No Sciper'].tolist())]\n",
    "print(df_bachelor_filtered.shape)\n",
    "df_bachelor_filtered.head()"
   ]
  },
  {
   "cell_type": "markdown",
   "metadata": {},
   "source": [
    "Counts the students"
   ]
  },
  {
   "cell_type": "code",
   "execution_count": 14,
   "metadata": {
    "collapsed": false
   },
   "outputs": [
    {
     "name": "stdout",
     "output_type": "stream",
     "text": [
      "397\n"
     ]
    }
   ],
   "source": [
    "print(len(df_bachelor_filtered['No Sciper'].unique()))"
   ]
  },
  {
   "cell_type": "markdown",
   "metadata": {},
   "source": [
    "## Compute average of number of months \n",
    "Method used: \n",
    "- group by sex and student \n",
    "- computes number_of_entries (corresponding on the number of semester studied) for each student\n",
    "- computes average of (6*number_of_entries)\n",
    "\n",
    "\n"
   ]
  },
  {
   "cell_type": "code",
   "execution_count": 15,
   "metadata": {
    "collapsed": false
   },
   "outputs": [
    {
     "name": "stdout",
     "output_type": "stream",
     "text": [
      "Number of F: 29\n",
      "Number of M: 368\n",
      "F avg number of months: 40.758621\n",
      "M avg number of months: 42.635870\n"
     ]
    }
   ],
   "source": [
    "df_bachelor_grouped = df_bachelor_filtered[['Civilité', 'No Sciper', 'ww_x_PERIODE_PEDAGO']].groupby(['Civilité', 'No Sciper'])\n",
    "print('Number of F: %d' % (df_bachelor_grouped.size()['Madame'].count()))\n",
    "print('Number of M: %d' % (df_bachelor_grouped.size()['Monsieur'].count()))\n",
    "print('F avg number of months: %f' % (df_bachelor_grouped.size()['Madame'].mean() * 6))\n",
    "print('M avg number of months: %f' % (df_bachelor_grouped.size()['Monsieur'].mean() * 6))"
   ]
  },
  {
   "cell_type": "markdown",
   "metadata": {},
   "source": [
    "### Statistical significance"
   ]
  },
  {
   "cell_type": "code",
   "execution_count": 16,
   "metadata": {
    "collapsed": false
   },
   "outputs": [],
   "source": [
    "from scipy.stats import ttest_ind"
   ]
  },
  {
   "cell_type": "code",
   "execution_count": 17,
   "metadata": {
    "collapsed": false
   },
   "outputs": [],
   "source": [
    "f = [6 * x for x in df_bachelor_grouped.size()['Madame'].tolist()]\n",
    "m = [6 * x for x in df_bachelor_grouped.size()['Monsieur'].tolist()]"
   ]
  },
  {
   "cell_type": "code",
   "execution_count": 18,
   "metadata": {
    "collapsed": false
   },
   "outputs": [
    {
     "data": {
      "text/plain": [
       "Ttest_indResult(statistic=-1.0643000334248713, pvalue=0.28784297465161934)"
      ]
     },
     "execution_count": 18,
     "metadata": {},
     "output_type": "execute_result"
    }
   ],
   "source": [
    "ttest_ind(f, m)"
   ]
  },
  {
   "cell_type": "markdown",
   "metadata": {},
   "source": [
    "## Question 2"
   ]
  },
  {
   "cell_type": "markdown",
   "metadata": {},
   "source": [
    "### Importing"
   ]
  },
  {
   "cell_type": "code",
   "execution_count": 19,
   "metadata": {
    "collapsed": false,
    "scrolled": false
   },
   "outputs": [
    {
     "name": "stdout",
     "output_type": "stream",
     "text": [
      "Informatique_2007-2008_Master semestre 1_Semestre d'automne\n",
      "Informatique_2007-2008_Master semestre 1_Semestre de printemps\n",
      "Informatique_2007-2008_Master semestre 2_Semestre d'automne\n",
      "Informatique_2007-2008_Master semestre 2_Semestre de printemps\n",
      "Informatique_2007-2008_Master semestre 3_Semestre d'automne\n",
      "Informatique_2007-2008_Master semestre 3_Semestre de printemps\n",
      "Informatique_2007-2008_Master semestre 4_Semestre d'automne\n",
      "Informatique_2007-2008_Master semestre 4_Semestre de printemps\n",
      "Informatique_2007-2008_Mineur semestre 1_Semestre d'automne\n",
      "Informatique_2007-2008_Mineur semestre 1_Semestre de printemps\n",
      "Informatique_2007-2008_Mineur semestre 2_Semestre d'automne\n",
      "Informatique_2007-2008_Mineur semestre 2_Semestre de printemps\n",
      "Informatique_2007-2008_Projet Master automne_Semestre d'automne\n",
      "Informatique_2007-2008_Projet Master automne_Semestre de printemps\n",
      "Informatique_2007-2008_Projet Master printemps_Semestre d'automne\n",
      "Informatique_2007-2008_Projet Master printemps_Semestre de printemps\n",
      "Informatique_2008-2009_Master semestre 1_Semestre d'automne\n",
      "Informatique_2008-2009_Master semestre 1_Semestre de printemps\n",
      "Informatique_2008-2009_Master semestre 2_Semestre d'automne\n",
      "Informatique_2008-2009_Master semestre 2_Semestre de printemps\n",
      "Informatique_2008-2009_Master semestre 3_Semestre d'automne\n",
      "Informatique_2008-2009_Master semestre 3_Semestre de printemps\n",
      "Informatique_2008-2009_Master semestre 4_Semestre d'automne\n",
      "Informatique_2008-2009_Master semestre 4_Semestre de printemps\n",
      "Informatique_2008-2009_Mineur semestre 1_Semestre d'automne\n",
      "Informatique_2008-2009_Mineur semestre 1_Semestre de printemps\n",
      "Informatique_2008-2009_Mineur semestre 2_Semestre d'automne\n",
      "Informatique_2008-2009_Mineur semestre 2_Semestre de printemps\n",
      "Informatique_2008-2009_Projet Master automne_Semestre d'automne\n",
      "Informatique_2008-2009_Projet Master automne_Semestre de printemps\n",
      "Informatique_2008-2009_Projet Master printemps_Semestre d'automne\n",
      "Informatique_2008-2009_Projet Master printemps_Semestre de printemps\n",
      "Informatique_2009-2010_Master semestre 1_Semestre d'automne\n",
      "Informatique_2009-2010_Master semestre 1_Semestre de printemps\n",
      "Informatique_2009-2010_Master semestre 2_Semestre d'automne\n",
      "Informatique_2009-2010_Master semestre 2_Semestre de printemps\n",
      "Informatique_2009-2010_Master semestre 3_Semestre d'automne\n",
      "Informatique_2009-2010_Master semestre 3_Semestre de printemps\n",
      "Informatique_2009-2010_Master semestre 4_Semestre d'automne\n",
      "Informatique_2009-2010_Master semestre 4_Semestre de printemps\n",
      "Informatique_2009-2010_Mineur semestre 1_Semestre d'automne\n",
      "Informatique_2009-2010_Mineur semestre 1_Semestre de printemps\n",
      "Informatique_2009-2010_Mineur semestre 2_Semestre d'automne\n",
      "Informatique_2009-2010_Mineur semestre 2_Semestre de printemps\n",
      "Informatique_2009-2010_Projet Master automne_Semestre d'automne\n",
      "Informatique_2009-2010_Projet Master automne_Semestre de printemps\n",
      "Informatique_2009-2010_Projet Master printemps_Semestre d'automne\n",
      "Informatique_2009-2010_Projet Master printemps_Semestre de printemps\n",
      "Informatique_2010-2011_Master semestre 1_Semestre d'automne\n",
      "Informatique_2010-2011_Master semestre 1_Semestre de printemps\n",
      "Informatique_2010-2011_Master semestre 2_Semestre d'automne\n",
      "Informatique_2010-2011_Master semestre 2_Semestre de printemps\n",
      "Informatique_2010-2011_Master semestre 3_Semestre d'automne\n",
      "Informatique_2010-2011_Master semestre 3_Semestre de printemps\n",
      "Informatique_2010-2011_Master semestre 4_Semestre d'automne\n",
      "Informatique_2010-2011_Master semestre 4_Semestre de printemps\n",
      "Informatique_2010-2011_Mineur semestre 1_Semestre d'automne\n",
      "Informatique_2010-2011_Mineur semestre 1_Semestre de printemps\n",
      "Informatique_2010-2011_Mineur semestre 2_Semestre d'automne\n",
      "Informatique_2010-2011_Mineur semestre 2_Semestre de printemps\n",
      "Informatique_2010-2011_Projet Master automne_Semestre d'automne\n",
      "Informatique_2010-2011_Projet Master automne_Semestre de printemps\n",
      "Informatique_2010-2011_Projet Master printemps_Semestre d'automne\n",
      "Informatique_2010-2011_Projet Master printemps_Semestre de printemps\n",
      "Informatique_2011-2012_Master semestre 1_Semestre d'automne\n",
      "Informatique_2011-2012_Master semestre 1_Semestre de printemps\n",
      "Informatique_2011-2012_Master semestre 2_Semestre d'automne\n",
      "Informatique_2011-2012_Master semestre 2_Semestre de printemps\n",
      "Informatique_2011-2012_Master semestre 3_Semestre d'automne\n",
      "Informatique_2011-2012_Master semestre 3_Semestre de printemps\n",
      "Informatique_2011-2012_Master semestre 4_Semestre d'automne\n",
      "Informatique_2011-2012_Master semestre 4_Semestre de printemps\n",
      "Informatique_2011-2012_Mineur semestre 1_Semestre d'automne\n",
      "Informatique_2011-2012_Mineur semestre 1_Semestre de printemps\n",
      "Informatique_2011-2012_Mineur semestre 2_Semestre d'automne\n",
      "Informatique_2011-2012_Mineur semestre 2_Semestre de printemps\n",
      "Informatique_2011-2012_Projet Master automne_Semestre d'automne\n",
      "Informatique_2011-2012_Projet Master automne_Semestre de printemps\n",
      "Informatique_2011-2012_Projet Master printemps_Semestre d'automne\n",
      "Informatique_2011-2012_Projet Master printemps_Semestre de printemps\n",
      "Informatique_2012-2013_Master semestre 1_Semestre d'automne\n",
      "Informatique_2012-2013_Master semestre 1_Semestre de printemps\n",
      "Informatique_2012-2013_Master semestre 2_Semestre d'automne\n",
      "Informatique_2012-2013_Master semestre 2_Semestre de printemps\n",
      "Informatique_2012-2013_Master semestre 3_Semestre d'automne\n",
      "Informatique_2012-2013_Master semestre 3_Semestre de printemps\n",
      "Informatique_2012-2013_Master semestre 4_Semestre d'automne\n",
      "Informatique_2012-2013_Master semestre 4_Semestre de printemps\n",
      "Informatique_2012-2013_Mineur semestre 1_Semestre d'automne\n",
      "Informatique_2012-2013_Mineur semestre 1_Semestre de printemps\n",
      "Informatique_2012-2013_Mineur semestre 2_Semestre d'automne\n",
      "Informatique_2012-2013_Mineur semestre 2_Semestre de printemps\n",
      "Informatique_2012-2013_Projet Master automne_Semestre d'automne\n",
      "Informatique_2012-2013_Projet Master automne_Semestre de printemps\n",
      "Informatique_2012-2013_Projet Master printemps_Semestre d'automne\n",
      "Informatique_2012-2013_Projet Master printemps_Semestre de printemps\n",
      "Informatique_2013-2014_Master semestre 1_Semestre d'automne\n",
      "Informatique_2013-2014_Master semestre 1_Semestre de printemps\n",
      "Informatique_2013-2014_Master semestre 2_Semestre d'automne\n",
      "Informatique_2013-2014_Master semestre 2_Semestre de printemps\n",
      "Informatique_2013-2014_Master semestre 3_Semestre d'automne\n",
      "Informatique_2013-2014_Master semestre 3_Semestre de printemps\n",
      "Informatique_2013-2014_Master semestre 4_Semestre d'automne\n",
      "Informatique_2013-2014_Master semestre 4_Semestre de printemps\n",
      "Informatique_2013-2014_Mineur semestre 1_Semestre d'automne\n",
      "Informatique_2013-2014_Mineur semestre 1_Semestre de printemps\n",
      "Informatique_2013-2014_Mineur semestre 2_Semestre d'automne\n",
      "Informatique_2013-2014_Mineur semestre 2_Semestre de printemps\n",
      "Informatique_2013-2014_Projet Master automne_Semestre d'automne\n",
      "Informatique_2013-2014_Projet Master automne_Semestre de printemps\n",
      "Informatique_2013-2014_Projet Master printemps_Semestre d'automne\n",
      "Informatique_2013-2014_Projet Master printemps_Semestre de printemps\n",
      "Informatique_2014-2015_Master semestre 1_Semestre d'automne\n",
      "Informatique_2014-2015_Master semestre 1_Semestre de printemps\n",
      "Informatique_2014-2015_Master semestre 2_Semestre d'automne\n",
      "Informatique_2014-2015_Master semestre 2_Semestre de printemps\n",
      "Informatique_2014-2015_Master semestre 3_Semestre d'automne\n",
      "Informatique_2014-2015_Master semestre 3_Semestre de printemps\n",
      "Informatique_2014-2015_Master semestre 4_Semestre d'automne\n",
      "Informatique_2014-2015_Master semestre 4_Semestre de printemps\n",
      "Informatique_2014-2015_Mineur semestre 1_Semestre d'automne\n",
      "Informatique_2014-2015_Mineur semestre 1_Semestre de printemps\n",
      "Informatique_2014-2015_Mineur semestre 2_Semestre d'automne\n",
      "Informatique_2014-2015_Mineur semestre 2_Semestre de printemps\n",
      "Informatique_2014-2015_Projet Master automne_Semestre d'automne\n",
      "Informatique_2014-2015_Projet Master automne_Semestre de printemps\n",
      "Informatique_2014-2015_Projet Master printemps_Semestre d'automne\n",
      "Informatique_2014-2015_Projet Master printemps_Semestre de printemps\n",
      "Informatique_2015-2016_Master semestre 1_Semestre d'automne\n",
      "Informatique_2015-2016_Master semestre 1_Semestre de printemps\n",
      "Informatique_2015-2016_Master semestre 2_Semestre d'automne\n",
      "Informatique_2015-2016_Master semestre 2_Semestre de printemps\n",
      "Informatique_2015-2016_Master semestre 3_Semestre d'automne\n",
      "Informatique_2015-2016_Master semestre 3_Semestre de printemps\n",
      "Informatique_2015-2016_Master semestre 4_Semestre d'automne\n",
      "Informatique_2015-2016_Master semestre 4_Semestre de printemps\n",
      "Informatique_2015-2016_Mineur semestre 1_Semestre d'automne\n",
      "Informatique_2015-2016_Mineur semestre 1_Semestre de printemps\n",
      "Informatique_2015-2016_Mineur semestre 2_Semestre d'automne\n",
      "Informatique_2015-2016_Mineur semestre 2_Semestre de printemps\n",
      "Informatique_2015-2016_Projet Master automne_Semestre d'automne\n",
      "Informatique_2015-2016_Projet Master automne_Semestre de printemps\n",
      "Informatique_2015-2016_Projet Master printemps_Semestre d'automne\n",
      "Informatique_2015-2016_Projet Master printemps_Semestre de printemps\n",
      "Informatique_2016-2017_Master semestre 1_Semestre d'automne\n",
      "Informatique_2016-2017_Master semestre 1_Semestre de printemps\n",
      "Informatique_2016-2017_Master semestre 2_Semestre d'automne\n",
      "Informatique_2016-2017_Master semestre 2_Semestre de printemps\n",
      "Informatique_2016-2017_Master semestre 3_Semestre d'automne\n",
      "Informatique_2016-2017_Master semestre 3_Semestre de printemps\n",
      "Informatique_2016-2017_Master semestre 4_Semestre d'automne\n",
      "Informatique_2016-2017_Master semestre 4_Semestre de printemps\n",
      "Informatique_2016-2017_Mineur semestre 1_Semestre d'automne\n",
      "Informatique_2016-2017_Mineur semestre 1_Semestre de printemps\n",
      "Informatique_2016-2017_Mineur semestre 2_Semestre d'automne\n",
      "Informatique_2016-2017_Mineur semestre 2_Semestre de printemps\n",
      "Informatique_2016-2017_Projet Master automne_Semestre d'automne\n",
      "Informatique_2016-2017_Projet Master automne_Semestre de printemps\n",
      "Informatique_2016-2017_Projet Master printemps_Semestre d'automne\n",
      "Informatique_2016-2017_Projet Master printemps_Semestre de printemps\n"
     ]
    }
   ],
   "source": [
    "df_master = get_all_data(\n",
    "    ['Informatique'],\n",
    "    ['2007-2008', '2008-2009', '2009-2010', '2010-2011', '2011-2012', '2012-2013', '2013-2014', '2014-2015', '2015-2016', '2016-2017'],\n",
    "    ['Master semestre 1', 'Master semestre 2', 'Master semestre 3', 'Master semestre 4', 'Mineur semestre 1', 'Mineur semestre 2', 'Projet Master automne', 'Projet Master printemps'],\n",
    "    [\"Semestre d'automne\", 'Semestre de printemps']\n",
    ")"
   ]
  },
  {
   "cell_type": "code",
   "execution_count": 20,
   "metadata": {
    "collapsed": false
   },
   "outputs": [
    {
     "name": "stdout",
     "output_type": "stream",
     "text": [
      "(2844, 15)\n"
     ]
    },
    {
     "data": {
      "text/html": [
       "<div>\n",
       "<table border=\"1\" class=\"dataframe\">\n",
       "  <thead>\n",
       "    <tr style=\"text-align: right;\">\n",
       "      <th></th>\n",
       "      <th>Civilité</th>\n",
       "      <th>Ecole Echange</th>\n",
       "      <th>Filière opt.</th>\n",
       "      <th>Mineur</th>\n",
       "      <th>No Sciper</th>\n",
       "      <th>Nom Prénom</th>\n",
       "      <th>Orientation Bachelor</th>\n",
       "      <th>Orientation Master</th>\n",
       "      <th>Spécialisation</th>\n",
       "      <th>Statut</th>\n",
       "      <th>Type Echange</th>\n",
       "      <th>ww_x_HIVERETE</th>\n",
       "      <th>ww_x_PERIODE_ACAD</th>\n",
       "      <th>ww_x_PERIODE_PEDAGO</th>\n",
       "      <th>ww_x_UNITE_ACAD</th>\n",
       "    </tr>\n",
       "  </thead>\n",
       "  <tbody>\n",
       "    <tr>\n",
       "      <th>0</th>\n",
       "      <td>Monsieur</td>\n",
       "      <td></td>\n",
       "      <td></td>\n",
       "      <td></td>\n",
       "      <td>153066</td>\n",
       "      <td>Aeberhard François-Xavier</td>\n",
       "      <td></td>\n",
       "      <td></td>\n",
       "      <td></td>\n",
       "      <td>Présent</td>\n",
       "      <td></td>\n",
       "      <td>Semestre d'automne</td>\n",
       "      <td>2007-2008</td>\n",
       "      <td>Master semestre 1</td>\n",
       "      <td>Informatique</td>\n",
       "    </tr>\n",
       "    <tr>\n",
       "      <th>1</th>\n",
       "      <td>Madame</td>\n",
       "      <td></td>\n",
       "      <td></td>\n",
       "      <td></td>\n",
       "      <td>180027</td>\n",
       "      <td>Agarwal Megha</td>\n",
       "      <td></td>\n",
       "      <td></td>\n",
       "      <td></td>\n",
       "      <td>Présent</td>\n",
       "      <td></td>\n",
       "      <td>Semestre d'automne</td>\n",
       "      <td>2007-2008</td>\n",
       "      <td>Master semestre 1</td>\n",
       "      <td>Informatique</td>\n",
       "    </tr>\n",
       "    <tr>\n",
       "      <th>2</th>\n",
       "      <td>Monsieur</td>\n",
       "      <td></td>\n",
       "      <td></td>\n",
       "      <td></td>\n",
       "      <td>152232</td>\n",
       "      <td>Anagnostaras David</td>\n",
       "      <td></td>\n",
       "      <td></td>\n",
       "      <td></td>\n",
       "      <td>Présent</td>\n",
       "      <td></td>\n",
       "      <td>Semestre d'automne</td>\n",
       "      <td>2007-2008</td>\n",
       "      <td>Master semestre 1</td>\n",
       "      <td>Informatique</td>\n",
       "    </tr>\n",
       "    <tr>\n",
       "      <th>3</th>\n",
       "      <td>Monsieur</td>\n",
       "      <td></td>\n",
       "      <td></td>\n",
       "      <td></td>\n",
       "      <td>177395</td>\n",
       "      <td>Auroux Damien</td>\n",
       "      <td></td>\n",
       "      <td></td>\n",
       "      <td></td>\n",
       "      <td>Présent</td>\n",
       "      <td></td>\n",
       "      <td>Semestre d'automne</td>\n",
       "      <td>2007-2008</td>\n",
       "      <td>Master semestre 1</td>\n",
       "      <td>Informatique</td>\n",
       "    </tr>\n",
       "    <tr>\n",
       "      <th>4</th>\n",
       "      <td>Monsieur</td>\n",
       "      <td></td>\n",
       "      <td></td>\n",
       "      <td></td>\n",
       "      <td>161970</td>\n",
       "      <td>Awalebo Joseph</td>\n",
       "      <td></td>\n",
       "      <td></td>\n",
       "      <td></td>\n",
       "      <td>Présent</td>\n",
       "      <td></td>\n",
       "      <td>Semestre d'automne</td>\n",
       "      <td>2007-2008</td>\n",
       "      <td>Master semestre 1</td>\n",
       "      <td>Informatique</td>\n",
       "    </tr>\n",
       "  </tbody>\n",
       "</table>\n",
       "</div>"
      ],
      "text/plain": [
       "   Civilité Ecole Echange Filière opt. Mineur No Sciper  \\\n",
       "0  Monsieur                                      153066   \n",
       "1    Madame                                      180027   \n",
       "2  Monsieur                                      152232   \n",
       "3  Monsieur                                      177395   \n",
       "4  Monsieur                                      161970   \n",
       "\n",
       "                  Nom Prénom Orientation Bachelor Orientation Master  \\\n",
       "0  Aeberhard François-Xavier                                           \n",
       "1              Agarwal Megha                                           \n",
       "2         Anagnostaras David                                           \n",
       "3              Auroux Damien                                           \n",
       "4             Awalebo Joseph                                           \n",
       "\n",
       "  Spécialisation   Statut Type Echange       ww_x_HIVERETE ww_x_PERIODE_ACAD  \\\n",
       "0                 Présent               Semestre d'automne         2007-2008   \n",
       "1                 Présent               Semestre d'automne         2007-2008   \n",
       "2                 Présent               Semestre d'automne         2007-2008   \n",
       "3                 Présent               Semestre d'automne         2007-2008   \n",
       "4                 Présent               Semestre d'automne         2007-2008   \n",
       "\n",
       "  ww_x_PERIODE_PEDAGO ww_x_UNITE_ACAD  \n",
       "0   Master semestre 1    Informatique  \n",
       "1   Master semestre 1    Informatique  \n",
       "2   Master semestre 1    Informatique  \n",
       "3   Master semestre 1    Informatique  \n",
       "4   Master semestre 1    Informatique  "
      ]
     },
     "execution_count": 20,
     "metadata": {},
     "output_type": "execute_result"
    }
   ],
   "source": [
    "print(df_master.shape)\n",
    "df_master.head()"
   ]
  },
  {
   "cell_type": "markdown",
   "metadata": {},
   "source": [
    "### Exploring"
   ]
  },
  {
   "cell_type": "markdown",
   "metadata": {},
   "source": [
    "About the field Mineur"
   ]
  },
  {
   "cell_type": "code",
   "execution_count": 21,
   "metadata": {
    "collapsed": false
   },
   "outputs": [
    {
     "data": {
      "text/plain": [
       "                                                        2610\n",
       "Mineur en Management, technologie et entrepreneuriat     114\n",
       "Information security minor                                31\n",
       "Mineur en Ingénierie financière                           25\n",
       "Mineur en Biocomputing                                    24\n",
       "Area and Cultural Studies minor                           10\n",
       "Mineur en Technologies spatiales                           8\n",
       "Mineur en Mathématiques                                    7\n",
       "Mineur en Neurosciences computationnelles                  7\n",
       "Mineur en Etudes asiatiques contemporaines                 3\n",
       "Mineur en Microtechnique                                   2\n",
       "Mineur en Neuroprosthétiques                               2\n",
       "Mineur STAS Chine                                          1\n",
       "Name: Mineur, dtype: int64"
      ]
     },
     "execution_count": 21,
     "metadata": {},
     "output_type": "execute_result"
    }
   ],
   "source": [
    "df_master['Mineur'].value_counts()"
   ]
  },
  {
   "cell_type": "code",
   "execution_count": 22,
   "metadata": {
    "collapsed": false
   },
   "outputs": [
    {
     "data": {
      "text/plain": [
       "(977, 84)"
      ]
     },
     "execution_count": 22,
     "metadata": {},
     "output_type": "execute_result"
    }
   ],
   "source": [
    "df_master_mineur = df_master[df_master.Mineur != \"\"]\n",
    "(df_master['No Sciper'].unique().size, df_master_mineur['No Sciper'].unique().size)"
   ]
  },
  {
   "cell_type": "code",
   "execution_count": 23,
   "metadata": {
    "collapsed": false,
    "scrolled": false
   },
   "outputs": [
    {
     "data": {
      "text/html": [
       "<div>\n",
       "<table border=\"1\" class=\"dataframe\">\n",
       "  <thead>\n",
       "    <tr style=\"text-align: right;\">\n",
       "      <th></th>\n",
       "      <th>Civilité</th>\n",
       "      <th>Ecole Echange</th>\n",
       "      <th>Filière opt.</th>\n",
       "      <th>Mineur</th>\n",
       "      <th>No Sciper</th>\n",
       "      <th>Nom Prénom</th>\n",
       "      <th>Orientation Bachelor</th>\n",
       "      <th>Orientation Master</th>\n",
       "      <th>Spécialisation</th>\n",
       "      <th>Statut</th>\n",
       "      <th>Type Echange</th>\n",
       "      <th>ww_x_HIVERETE</th>\n",
       "      <th>ww_x_PERIODE_ACAD</th>\n",
       "      <th>ww_x_PERIODE_PEDAGO</th>\n",
       "      <th>ww_x_UNITE_ACAD</th>\n",
       "      <th>DidMineur</th>\n",
       "    </tr>\n",
       "  </thead>\n",
       "  <tbody>\n",
       "    <tr>\n",
       "      <th>0</th>\n",
       "      <td>Monsieur</td>\n",
       "      <td></td>\n",
       "      <td></td>\n",
       "      <td></td>\n",
       "      <td>153066</td>\n",
       "      <td>Aeberhard François-Xavier</td>\n",
       "      <td></td>\n",
       "      <td></td>\n",
       "      <td></td>\n",
       "      <td>Présent</td>\n",
       "      <td></td>\n",
       "      <td>Semestre d'automne</td>\n",
       "      <td>2007-2008</td>\n",
       "      <td>Master semestre 1</td>\n",
       "      <td>Informatique</td>\n",
       "      <td>False</td>\n",
       "    </tr>\n",
       "    <tr>\n",
       "      <th>1</th>\n",
       "      <td>Madame</td>\n",
       "      <td></td>\n",
       "      <td></td>\n",
       "      <td></td>\n",
       "      <td>180027</td>\n",
       "      <td>Agarwal Megha</td>\n",
       "      <td></td>\n",
       "      <td></td>\n",
       "      <td></td>\n",
       "      <td>Présent</td>\n",
       "      <td></td>\n",
       "      <td>Semestre d'automne</td>\n",
       "      <td>2007-2008</td>\n",
       "      <td>Master semestre 1</td>\n",
       "      <td>Informatique</td>\n",
       "      <td>False</td>\n",
       "    </tr>\n",
       "    <tr>\n",
       "      <th>2</th>\n",
       "      <td>Monsieur</td>\n",
       "      <td></td>\n",
       "      <td></td>\n",
       "      <td></td>\n",
       "      <td>152232</td>\n",
       "      <td>Anagnostaras David</td>\n",
       "      <td></td>\n",
       "      <td></td>\n",
       "      <td></td>\n",
       "      <td>Présent</td>\n",
       "      <td></td>\n",
       "      <td>Semestre d'automne</td>\n",
       "      <td>2007-2008</td>\n",
       "      <td>Master semestre 1</td>\n",
       "      <td>Informatique</td>\n",
       "      <td>True</td>\n",
       "    </tr>\n",
       "    <tr>\n",
       "      <th>3</th>\n",
       "      <td>Monsieur</td>\n",
       "      <td></td>\n",
       "      <td></td>\n",
       "      <td></td>\n",
       "      <td>177395</td>\n",
       "      <td>Auroux Damien</td>\n",
       "      <td></td>\n",
       "      <td></td>\n",
       "      <td></td>\n",
       "      <td>Présent</td>\n",
       "      <td></td>\n",
       "      <td>Semestre d'automne</td>\n",
       "      <td>2007-2008</td>\n",
       "      <td>Master semestre 1</td>\n",
       "      <td>Informatique</td>\n",
       "      <td>False</td>\n",
       "    </tr>\n",
       "    <tr>\n",
       "      <th>4</th>\n",
       "      <td>Monsieur</td>\n",
       "      <td></td>\n",
       "      <td></td>\n",
       "      <td></td>\n",
       "      <td>161970</td>\n",
       "      <td>Awalebo Joseph</td>\n",
       "      <td></td>\n",
       "      <td></td>\n",
       "      <td></td>\n",
       "      <td>Présent</td>\n",
       "      <td></td>\n",
       "      <td>Semestre d'automne</td>\n",
       "      <td>2007-2008</td>\n",
       "      <td>Master semestre 1</td>\n",
       "      <td>Informatique</td>\n",
       "      <td>False</td>\n",
       "    </tr>\n",
       "  </tbody>\n",
       "</table>\n",
       "</div>"
      ],
      "text/plain": [
       "   Civilité Ecole Echange Filière opt. Mineur No Sciper  \\\n",
       "0  Monsieur                                      153066   \n",
       "1    Madame                                      180027   \n",
       "2  Monsieur                                      152232   \n",
       "3  Monsieur                                      177395   \n",
       "4  Monsieur                                      161970   \n",
       "\n",
       "                  Nom Prénom Orientation Bachelor Orientation Master  \\\n",
       "0  Aeberhard François-Xavier                                           \n",
       "1              Agarwal Megha                                           \n",
       "2         Anagnostaras David                                           \n",
       "3              Auroux Damien                                           \n",
       "4             Awalebo Joseph                                           \n",
       "\n",
       "  Spécialisation   Statut Type Echange       ww_x_HIVERETE ww_x_PERIODE_ACAD  \\\n",
       "0                 Présent               Semestre d'automne         2007-2008   \n",
       "1                 Présent               Semestre d'automne         2007-2008   \n",
       "2                 Présent               Semestre d'automne         2007-2008   \n",
       "3                 Présent               Semestre d'automne         2007-2008   \n",
       "4                 Présent               Semestre d'automne         2007-2008   \n",
       "\n",
       "  ww_x_PERIODE_PEDAGO ww_x_UNITE_ACAD DidMineur  \n",
       "0   Master semestre 1    Informatique     False  \n",
       "1   Master semestre 1    Informatique     False  \n",
       "2   Master semestre 1    Informatique      True  \n",
       "3   Master semestre 1    Informatique     False  \n",
       "4   Master semestre 1    Informatique     False  "
      ]
     },
     "execution_count": 23,
     "metadata": {},
     "output_type": "execute_result"
    }
   ],
   "source": [
    "df_master['DidMineur'] = df_master['No Sciper'].isin(df_master_mineur['No Sciper'].tolist())\n",
    "df_master.head()"
   ]
  },
  {
   "cell_type": "markdown",
   "metadata": {},
   "source": [
    "About the field `ww_x_PERIODE_PEDAGO` and the options 'Mineur semestre 1' and 'Mineur semestre 2'"
   ]
  },
  {
   "cell_type": "code",
   "execution_count": 24,
   "metadata": {
    "collapsed": false
   },
   "outputs": [
    {
     "name": "stdout",
     "output_type": "stream",
     "text": [
      "(0, 16)\n",
      "(0, 16)\n"
     ]
    }
   ],
   "source": [
    "print(df_master[df_master.ww_x_PERIODE_PEDAGO == 'Mineur semestre 1'].shape)\n",
    "print(df_master[df_master.ww_x_PERIODE_PEDAGO == 'Mineur semestre 2'].shape)"
   ]
  },
  {
   "cell_type": "markdown",
   "metadata": {},
   "source": [
    "### Filtering\n",
    "\n",
    "We decide to consider that a student completes the master by doing his/her Master Project"
   ]
  },
  {
   "cell_type": "code",
   "execution_count": 25,
   "metadata": {
    "collapsed": false
   },
   "outputs": [],
   "source": [
    "df_master_pdm = df_master[df_master.ww_x_PERIODE_PEDAGO.isin(['Projet Master automne','Projet Master printemps'])]"
   ]
  },
  {
   "cell_type": "code",
   "execution_count": 26,
   "metadata": {
    "collapsed": false
   },
   "outputs": [
    {
     "data": {
      "text/html": [
       "<div>\n",
       "<table border=\"1\" class=\"dataframe\">\n",
       "  <thead>\n",
       "    <tr style=\"text-align: right;\">\n",
       "      <th></th>\n",
       "      <th>Civilité</th>\n",
       "      <th>Ecole Echange</th>\n",
       "      <th>Filière opt.</th>\n",
       "      <th>Mineur</th>\n",
       "      <th>No Sciper</th>\n",
       "      <th>Nom Prénom</th>\n",
       "      <th>Orientation Bachelor</th>\n",
       "      <th>Orientation Master</th>\n",
       "      <th>Spécialisation</th>\n",
       "      <th>Statut</th>\n",
       "      <th>Type Echange</th>\n",
       "      <th>ww_x_HIVERETE</th>\n",
       "      <th>ww_x_PERIODE_ACAD</th>\n",
       "      <th>ww_x_PERIODE_PEDAGO</th>\n",
       "      <th>ww_x_UNITE_ACAD</th>\n",
       "      <th>DidMineur</th>\n",
       "    </tr>\n",
       "  </thead>\n",
       "  <tbody>\n",
       "    <tr>\n",
       "      <th>1</th>\n",
       "      <td>Madame</td>\n",
       "      <td></td>\n",
       "      <td></td>\n",
       "      <td></td>\n",
       "      <td>180027</td>\n",
       "      <td>Agarwal Megha</td>\n",
       "      <td></td>\n",
       "      <td></td>\n",
       "      <td></td>\n",
       "      <td>Présent</td>\n",
       "      <td></td>\n",
       "      <td>Semestre d'automne</td>\n",
       "      <td>2007-2008</td>\n",
       "      <td>Master semestre 1</td>\n",
       "      <td>Informatique</td>\n",
       "      <td>False</td>\n",
       "    </tr>\n",
       "    <tr>\n",
       "      <th>8</th>\n",
       "      <td>Madame</td>\n",
       "      <td></td>\n",
       "      <td></td>\n",
       "      <td></td>\n",
       "      <td>154573</td>\n",
       "      <td>Benabdallah Zeineb</td>\n",
       "      <td></td>\n",
       "      <td></td>\n",
       "      <td></td>\n",
       "      <td>Présent</td>\n",
       "      <td></td>\n",
       "      <td>Semestre d'automne</td>\n",
       "      <td>2007-2008</td>\n",
       "      <td>Master semestre 1</td>\n",
       "      <td>Informatique</td>\n",
       "      <td>False</td>\n",
       "    </tr>\n",
       "    <tr>\n",
       "      <th>10</th>\n",
       "      <td>Monsieur</td>\n",
       "      <td></td>\n",
       "      <td></td>\n",
       "      <td></td>\n",
       "      <td>172687</td>\n",
       "      <td>Billaud Joël</td>\n",
       "      <td></td>\n",
       "      <td></td>\n",
       "      <td></td>\n",
       "      <td>Présent</td>\n",
       "      <td></td>\n",
       "      <td>Semestre d'automne</td>\n",
       "      <td>2007-2008</td>\n",
       "      <td>Master semestre 1</td>\n",
       "      <td>Informatique</td>\n",
       "      <td>False</td>\n",
       "    </tr>\n",
       "    <tr>\n",
       "      <th>13</th>\n",
       "      <td>Monsieur</td>\n",
       "      <td></td>\n",
       "      <td></td>\n",
       "      <td></td>\n",
       "      <td>180072</td>\n",
       "      <td>Campora Simone</td>\n",
       "      <td></td>\n",
       "      <td></td>\n",
       "      <td>Internet computing</td>\n",
       "      <td>Présent</td>\n",
       "      <td></td>\n",
       "      <td>Semestre d'automne</td>\n",
       "      <td>2007-2008</td>\n",
       "      <td>Master semestre 1</td>\n",
       "      <td>Informatique</td>\n",
       "      <td>False</td>\n",
       "    </tr>\n",
       "    <tr>\n",
       "      <th>16</th>\n",
       "      <td>Monsieur</td>\n",
       "      <td></td>\n",
       "      <td></td>\n",
       "      <td></td>\n",
       "      <td>160225</td>\n",
       "      <td>Cassata Alexandre</td>\n",
       "      <td></td>\n",
       "      <td></td>\n",
       "      <td></td>\n",
       "      <td>Présent</td>\n",
       "      <td></td>\n",
       "      <td>Semestre d'automne</td>\n",
       "      <td>2007-2008</td>\n",
       "      <td>Master semestre 1</td>\n",
       "      <td>Informatique</td>\n",
       "      <td>False</td>\n",
       "    </tr>\n",
       "  </tbody>\n",
       "</table>\n",
       "</div>"
      ],
      "text/plain": [
       "    Civilité Ecole Echange Filière opt. Mineur No Sciper          Nom Prénom  \\\n",
       "1     Madame                                      180027       Agarwal Megha   \n",
       "8     Madame                                      154573  Benabdallah Zeineb   \n",
       "10  Monsieur                                      172687        Billaud Joël   \n",
       "13  Monsieur                                      180072      Campora Simone   \n",
       "16  Monsieur                                      160225   Cassata Alexandre   \n",
       "\n",
       "   Orientation Bachelor Orientation Master      Spécialisation   Statut  \\\n",
       "1                                                               Présent   \n",
       "8                                                               Présent   \n",
       "10                                                              Présent   \n",
       "13                                          Internet computing  Présent   \n",
       "16                                                              Présent   \n",
       "\n",
       "   Type Echange       ww_x_HIVERETE ww_x_PERIODE_ACAD ww_x_PERIODE_PEDAGO  \\\n",
       "1                Semestre d'automne         2007-2008   Master semestre 1   \n",
       "8                Semestre d'automne         2007-2008   Master semestre 1   \n",
       "10               Semestre d'automne         2007-2008   Master semestre 1   \n",
       "13               Semestre d'automne         2007-2008   Master semestre 1   \n",
       "16               Semestre d'automne         2007-2008   Master semestre 1   \n",
       "\n",
       "   ww_x_UNITE_ACAD DidMineur  \n",
       "1     Informatique     False  \n",
       "8     Informatique     False  \n",
       "10    Informatique     False  \n",
       "13    Informatique     False  \n",
       "16    Informatique     False  "
      ]
     },
     "execution_count": 26,
     "metadata": {},
     "output_type": "execute_result"
    }
   ],
   "source": [
    "df_master_filtered = df_master[df_master['No Sciper'].isin(df_master_pdm['No Sciper'].tolist())]\n",
    "df_master_filtered.head()"
   ]
  },
  {
   "cell_type": "code",
   "execution_count": 27,
   "metadata": {
    "collapsed": false
   },
   "outputs": [
    {
     "name": "stdout",
     "output_type": "stream",
     "text": [
      "number of F: 13\n",
      "number of M: 108\n",
      "F avg number of months: 24.923077\n",
      "M avg number of months: 24.888889\n"
     ]
    }
   ],
   "source": [
    "df_master_grouped = df_master_filtered[['Civilité', 'No Sciper', 'ww_x_PERIODE_PEDAGO']].groupby(['Civilité', 'No Sciper'])\n",
    "print('Number of F: %d' % (df_master_grouped.size()['Madame'].count()))\n",
    "print('Number of M: %d' % (df_master_grouped.size()['Monsieur'].count()))\n",
    "print('F avg number of months: %f' % (df_master_grouped.size()['Madame'].mean() * 6))\n",
    "print('M avg number of months: %f' % (df_master_grouped.size()['Monsieur'].mean() * 6))"
   ]
  },
  {
   "cell_type": "code",
   "execution_count": 28,
   "metadata": {
    "collapsed": false
   },
   "outputs": [
    {
     "data": {
      "text/plain": [
       "[6, 3, 3, 4, 4, 3, 5, 3, 3, 5, 5, 5, 5]"
      ]
     },
     "execution_count": 28,
     "metadata": {},
     "output_type": "execute_result"
    }
   ],
   "source": [
    "df_master_grouped.size()['Madame'].tolist()"
   ]
  },
  {
   "cell_type": "markdown",
   "metadata": {},
   "source": [
    "Let's explore the time difference by also grouping by mineur"
   ]
  },
  {
   "cell_type": "code",
   "execution_count": 29,
   "metadata": {
    "collapsed": false
   },
   "outputs": [],
   "source": [
    "df_master_grouped_with_mineur = df_master_filtered[['No Sciper','ww_x_PERIODE_PEDAGO','DidMineur']].groupby(['DidMineur','No Sciper'])"
   ]
  },
  {
   "cell_type": "code",
   "execution_count": 30,
   "metadata": {
    "collapsed": false
   },
   "outputs": [
    {
     "name": "stdout",
     "output_type": "stream",
     "text": [
      "number of WITH: 8\n",
      "number of WITHOUT: 113\n",
      "WITH avg number of months: 28.500000\n",
      "WITHOUT avg number of months: 24.637168\n"
     ]
    }
   ],
   "source": [
    "print('number of WITH: %d' % (df_master_grouped_with_mineur.size()[True].count()))\n",
    "print('number of WITHOUT: %d' % (df_master_grouped_with_mineur.size()[False].count()))\n",
    "print('WITH avg number of months: %f' % (df_master_grouped_with_mineur.size()[True].mean()*6))\n",
    "print('WITHOUT avg number of months: %f' % (df_master_grouped_with_mineur.size()[False].mean()*6))"
   ]
  },
  {
   "cell_type": "markdown",
   "metadata": {},
   "source": [
    "### Statistical significance\n",
    "\n",
    "same as previous section"
   ]
  },
  {
   "cell_type": "code",
   "execution_count": 31,
   "metadata": {
    "collapsed": false
   },
   "outputs": [
    {
     "data": {
      "text/plain": [
       "Ttest_indResult(statistic=0.017212195975248677, pvalue=0.98629615785433222)"
      ]
     },
     "execution_count": 31,
     "metadata": {},
     "output_type": "execute_result"
    }
   ],
   "source": [
    "f = [6*x for x in df_master_grouped.size()['Madame'].tolist()]\n",
    "m = [6*x for x in df_master_grouped.size()['Monsieur'].tolist()]\n",
    "ttest_ind(f, m)"
   ]
  }
 ],
 "metadata": {
  "anaconda-cloud": {},
  "kernelspec": {
   "display_name": "Python [Root]",
   "language": "python",
   "name": "Python [Root]"
  },
  "language_info": {
   "codemirror_mode": {
    "name": "ipython",
    "version": 3
   },
   "file_extension": ".py",
   "mimetype": "text/x-python",
   "name": "python",
   "nbconvert_exporter": "python",
   "pygments_lexer": "ipython3",
   "version": "3.5.2"
  }
 },
 "nbformat": 4,
 "nbformat_minor": 0
}
