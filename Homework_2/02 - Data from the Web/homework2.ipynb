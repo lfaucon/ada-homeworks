{
 "cells": [
  {
   "cell_type": "code",
   "execution_count": null,
   "metadata": {
    "collapsed": true
   },
   "outputs": [],
   "source": []
  },
  {
   "cell_type": "code",
   "execution_count": null,
   "metadata": {
    "collapsed": true
   },
   "outputs": [],
   "source": []
  },
  {
   "cell_type": "code",
   "execution_count": null,
   "metadata": {
    "collapsed": true
   },
   "outputs": [],
   "source": [
    "import requests"
   ]
  },
  {
   "cell_type": "markdown",
   "metadata": {},
   "source": [
    "Some code extracted from the page \n",
    "```html\n",
    "    <option value=\"249847\">Informatique</option>\n",
    "...\n",
    "    <option value=\"355925344\">2016-2017</option>\n",
    "    <option value=\"213638028\">2015-2016</option>\n",
    "    <option value=\"213637922\">2014-2015</option>\n",
    "    <option value=\"213637754\">2013-2014</option>\n",
    "    <option value=\"123456101\">2012-2013</option>\n",
    "    <option value=\"123455150\">2011-2012</option>\n",
    "    <option value=\"39486325\">2010-2011</option>\n",
    "    <option value=\"978195\">2009-2010</option>\n",
    "    <option value=\"978187\">2008-2009</option>\n",
    "    <option value=\"978181\">2007-2008</option>\n",
    "...  \n",
    "    <option value=\"249108\">Bachelor semestre 1</option>\n",
    "    <option value=\"249114\">Bachelor semestre 2</option>\n",
    "    <option value=\"942155\">Bachelor semestre 3</option>\n",
    "    <option value=\"942163\">Bachelor semestre 4</option>\n",
    "    <option value=\"942120\">Bachelor semestre 5</option>\n",
    "    <option value=\"2226768\">Bachelor semestre 5b</option>\n",
    "    <option value=\"942175\">Bachelor semestre 6</option>\n",
    "    <option value=\"2226785\">Bachelor semestre 6b</option>\n",
    "...\n",
    "    <option value=\"2230106\">Master semestre 1</option>\n",
    "    <option value=\"942192\">Master semestre 2</option>\n",
    "    <option value=\"2230128\">Master semestre 3</option>\n",
    "    <option value=\"2230140\">Master semestre 4</option>\n",
    "    <option value=\"2335667\">Mineur semestre 1</option>\n",
    "    <option value=\"2335676\">Mineur semestre 2</option>\n",
    "...\n",
    "    <option value=\"249127\">Projet Master automne</option>\n",
    "    <option value=\"3781783\">Projet Master printemps</option>\n",
    "...               \n",
    "    <option value=\"2936286\">Semestre d'automne</option>\n",
    "    <option value=\"2936295\">Semestre de printemps</option>\n",
    "```"
   ]
  },
  {
   "cell_type": "code",
   "execution_count": null,
   "metadata": {
    "collapsed": false
   },
   "outputs": [],
   "source": [
    "r = requests.get('http://isa.epfl.ch/imoniteur_ISAP/!GEDPUBLICREPORTS.filter?'\n",
    "                + 'ww_b_list=1'\n",
    "                + '&ww_i_reportmodel=133685247'\n",
    "                + '&ww_c_langue='\n",
    "                + '&ww_i_reportModelXsl=133685270'\n",
    "                + '&zz_x_UNITE_ACAD='\n",
    "                + '&ww_x_UNITE_ACAD=249847'\n",
    "                + '&zz_x_PERIODE_ACAD='\n",
    "                + '&ww_x_PERIODE_ACAD=978181'\n",
    "                + '&zz_x_PERIODE_PEDAGO='\n",
    "                + '&ww_x_PERIODE_PEDAGO=249108'\n",
    "                + '&zz_x_HIVERETE=Semestre+d%27automne'\n",
    "                + '&ww_x_HIVERETE=2936286'\n",
    "                + '&dummy=ok'\n",
    ")\n",
    "r.text"
   ]
  },
  {
   "cell_type": "code",
   "execution_count": null,
   "metadata": {
    "collapsed": true
   },
   "outputs": [],
   "source": []
  },
  {
   "cell_type": "code",
   "execution_count": null,
   "metadata": {
    "collapsed": true
   },
   "outputs": [],
   "source": []
  },
  {
   "cell_type": "code",
   "execution_count": null,
   "metadata": {
    "collapsed": true
   },
   "outputs": [],
   "source": []
  },
  {
   "cell_type": "code",
   "execution_count": null,
   "metadata": {
    "collapsed": true
   },
   "outputs": [],
   "source": []
  },
  {
   "cell_type": "code",
   "execution_count": null,
   "metadata": {
    "collapsed": false
   },
   "outputs": [],
   "source": [
    "r = requests.get('http://isa.epfl.ch/imoniteur_ISAP/!GEDPUBLICREPORTS.html?'\n",
    "                 + 'ww_x_GPS=-1'\n",
    "                 + '&ww_i_reportModel=133685247'\n",
    "                 + '&ww_i_reportModelXsl=133685270'\n",
    "                 + '&ww_x_UNITE_ACAD=249847'\n",
    "                 + '&ww_x_PERIODE_ACAD=978181'\n",
    "                 + '&ww_x_PERIODE_PEDAGO=249108'\n",
    "                 + '&ww_x_HIVERETE=2936286'\n",
    ")\n",
    "r.text"
   ]
  },
  {
   "cell_type": "code",
   "execution_count": null,
   "metadata": {
    "collapsed": true
   },
   "outputs": [],
   "source": []
  },
  {
   "cell_type": "code",
   "execution_count": null,
   "metadata": {
    "collapsed": true
   },
   "outputs": [],
   "source": []
  },
  {
   "cell_type": "code",
   "execution_count": null,
   "metadata": {
    "collapsed": true
   },
   "outputs": [],
   "source": []
  }
 ],
 "metadata": {
  "anaconda-cloud": {},
  "kernelspec": {
   "display_name": "Python [Root]",
   "language": "python",
   "name": "Python [Root]"
  },
  "language_info": {
   "codemirror_mode": {
    "name": "ipython",
    "version": 3
   },
   "file_extension": ".py",
   "mimetype": "text/x-python",
   "name": "python",
   "nbconvert_exporter": "python",
   "pygments_lexer": "ipython3",
   "version": "3.5.2"
  }
 },
 "nbformat": 4,
 "nbformat_minor": 0
}
