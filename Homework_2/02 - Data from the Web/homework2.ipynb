{
 "cells": [
  {
   "cell_type": "markdown",
   "metadata": {},
   "source": [
    "# ADA - Homework 2"
   ]
  },
  {
   "cell_type": "code",
   "execution_count": null,
   "metadata": {
    "collapsed": true
   },
   "outputs": [],
   "source": []
  },
  {
   "cell_type": "code",
   "execution_count": null,
   "metadata": {
    "collapsed": true
   },
   "outputs": [],
   "source": [
    "%matplotlib inline\n",
    "import pandas as pd\n",
    "import numpy as np\n",
    "import matplotlib.pyplot as plt\n",
    "import seaborn as sns\n",
    "sns.set_context('notebook')\n",
    "sns.set_style('whitegrid')"
   ]
  },
  {
   "cell_type": "code",
   "execution_count": null,
   "metadata": {
    "collapsed": true
   },
   "outputs": [],
   "source": []
  },
  {
   "cell_type": "code",
   "execution_count": null,
   "metadata": {
    "collapsed": true
   },
   "outputs": [],
   "source": []
  },
  {
   "cell_type": "markdown",
   "metadata": {},
   "source": [
    "## Requesting and parsing data from IS-Academia"
   ]
  },
  {
   "cell_type": "code",
   "execution_count": null,
   "metadata": {
    "collapsed": true
   },
   "outputs": [],
   "source": [
    "import requests\n",
    "from bs4 import BeautifulSoup"
   ]
  },
  {
   "cell_type": "markdown",
   "metadata": {},
   "source": [
    "I parse the first page to get all the option fields useful to make queries later "
   ]
  },
  {
   "cell_type": "code",
   "execution_count": null,
   "metadata": {
    "collapsed": false
   },
   "outputs": [],
   "source": [
    "r = requests.get('http://isa.epfl.ch/imoniteur_ISAP/!GEDPUBLICREPORTS.filter?&ww_i_reportmodel=133685247')\n",
    "soup = BeautifulSoup(r.text, 'html.parser')\n",
    "options = {}\n",
    "for option in soup.find_all('option'):\n",
    "    options[option.parent.get('name')]=options.get(option.parent.get('name'),{})\n",
    "    options[option.parent.get('name')][option.text]=option.get('value')\n",
    "options"
   ]
  },
  {
   "cell_type": "code",
   "execution_count": null,
   "metadata": {
    "collapsed": false
   },
   "outputs": [],
   "source": []
  },
  {
   "cell_type": "code",
   "execution_count": null,
   "metadata": {
    "collapsed": true
   },
   "outputs": [],
   "source": []
  },
  {
   "cell_type": "code",
   "execution_count": null,
   "metadata": {
    "collapsed": true
   },
   "outputs": [],
   "source": []
  },
  {
   "cell_type": "code",
   "execution_count": null,
   "metadata": {
    "collapsed": true
   },
   "outputs": [],
   "source": []
  },
  {
   "cell_type": "code",
   "execution_count": null,
   "metadata": {
    "collapsed": false
   },
   "outputs": [],
   "source": [
    "# INPUT:\n",
    "# unite_acad : categorical from options.ww_x_UNITE_ACAD.keys()\n",
    "# periode_acad : categorical from options.ww_x_PERIODE_ACAD.keys()\n",
    "# periode_pedago : categorical from options.ww_x_PERIODE_PEDAGO.keys()\n",
    "# hiverete : categorical from options.ww_x_HIVERETE.keys()\n",
    "# \n",
    "# OUTPUT\n",
    "# data : pandas dataframe containing the required data\n",
    "def get_data(unite_acad,periode_acad,periode_pedago,hiverete):\n",
    "    request = ('http://isa.epfl.ch/imoniteur_ISAP/!GEDPUBLICREPORTS.html?'\n",
    "        + 'ww_x_GPS=-1'\n",
    "        + '&ww_i_reportModel=133685247'\n",
    "        + '&ww_i_reportModelXsl=133685270'\n",
    "        + '&ww_x_UNITE_ACAD=' + options['ww_x_UNITE_ACAD'][unite_acad]\n",
    "        + '&ww_x_PERIODE_ACAD=' + options['ww_x_PERIODE_ACAD'][periode_acad]\n",
    "        + '&ww_x_PERIODE_PEDAGO=' + options['ww_x_PERIODE_PEDAGO'][periode_pedago]\n",
    "        + '&ww_x_HIVERETE='+ options['ww_x_HIVERETE'][hiverete]\n",
    "    )\n",
    "    soup = BeautifulSoup(requests.get(request).text, 'html.parser')\n",
    "    \n",
    "    table_lines = soup.find_all('tr')\n",
    "    columns = [th.text for th in table_lines[1].contents] if len(table_lines)>1 else []\n",
    "    nColumns = len(columns)\n",
    "    \n",
    "    data = {}\n",
    "    for name in columns:\n",
    "        data[name] = []\n",
    "    \n",
    "    for tr in table_lines[2:]:\n",
    "        content = tr.contents\n",
    "        if content[0].name=='td' :\n",
    "            for i in range(nColumns):\n",
    "                data[columns[i]].append(content[i].text)\n",
    "    \n",
    "    result = pd.DataFrame(data=data)\n",
    "    result['ww_x_UNITE_ACAD']=unite_acad\n",
    "    result['ww_x_PERIODE_ACAD']=periode_acad\n",
    "    result['ww_x_PERIODE_PEDAGO']=periode_pedago\n",
    "    result['ww_x_HIVERETE']=hiverete\n",
    "    return result"
   ]
  },
  {
   "cell_type": "markdown",
   "metadata": {},
   "source": [
    "A small test for the `get_data` method"
   ]
  },
  {
   "cell_type": "code",
   "execution_count": null,
   "metadata": {
    "collapsed": false,
    "scrolled": false
   },
   "outputs": [],
   "source": [
    "get_data(\n",
    "    'Informatique',\n",
    "    '2007-2008',\n",
    "    'Bachelor semestre 1',\n",
    "    \"Semestre d'automne\"\n",
    ").head()"
   ]
  },
  {
   "cell_type": "code",
   "execution_count": null,
   "metadata": {
    "collapsed": true
   },
   "outputs": [],
   "source": [
    "def get_all_data(unite_acads,periode_acads,periode_pedagos,hiveretes):\n",
    "    result = pd.DataFrame({})\n",
    "    for unite_acad in unite_acads:\n",
    "        for periode_acad in periode_acads:\n",
    "            for periode_pedago in periode_pedagos:\n",
    "                for hiverete in hiveretes:\n",
    "                    print(\"_\".join([unite_acad,periode_acad,periode_pedago,hiverete]))\n",
    "                    result = pd.concat([result,get_data(unite_acad,periode_acad,periode_pedago,hiverete)])\n",
    "    return result"
   ]
  },
  {
   "cell_type": "markdown",
   "metadata": {},
   "source": [
    "## Question 1"
   ]
  },
  {
   "cell_type": "markdown",
   "metadata": {},
   "source": [
    "### Importing the data"
   ]
  },
  {
   "cell_type": "code",
   "execution_count": null,
   "metadata": {
    "collapsed": false,
    "scrolled": true
   },
   "outputs": [],
   "source": [
    "df_bachelor = get_all_data(\n",
    "    ['Informatique'],\n",
    "    ['2007-2008','2008-2009','2009-2010','2010-2011','2011-2012','2012-2013','2013-2014','2014-2015','2015-2016','2016-2017'],\n",
    "    ['Bachelor semestre 1','Bachelor semestre 2','Bachelor semestre 3','Bachelor semestre 4','Bachelor semestre 5','Bachelor semestre 6','Bachelor semestre 5b','Bachelor semestre 6b'],\n",
    "    [\"Semestre d'automne\",'Semestre de printemps']\n",
    ")\n",
    "print(df_bachelor.shape)\n",
    "df_bachelor.head()"
   ]
  },
  {
   "cell_type": "markdown",
   "metadata": {},
   "source": [
    "### Exploring the data"
   ]
  },
  {
   "cell_type": "code",
   "execution_count": null,
   "metadata": {
    "collapsed": false
   },
   "outputs": [],
   "source": [
    "print(df_bachelor.shape)\n",
    "df_bachelor.head()"
   ]
  },
  {
   "cell_type": "markdown",
   "metadata": {},
   "source": [
    "5b ? 6b ?\n",
    "These have no data! Youhou"
   ]
  },
  {
   "cell_type": "code",
   "execution_count": null,
   "metadata": {
    "collapsed": false
   },
   "outputs": [],
   "source": [
    "print(df_bachelor[df_bachelor.ww_x_PERIODE_PEDAGO == 'Bachelor semestre 6b'].shape)\n",
    "print(df_bachelor[df_bachelor.ww_x_PERIODE_PEDAGO == 'Bachelor semestre 5b'].shape)"
   ]
  },
  {
   "cell_type": "markdown",
   "metadata": {},
   "source": [
    "Counting the students"
   ]
  },
  {
   "cell_type": "code",
   "execution_count": null,
   "metadata": {
    "collapsed": false
   },
   "outputs": [],
   "source": [
    "print(len(df_bachelor['No Sciper'].unique()))"
   ]
  },
  {
   "cell_type": "markdown",
   "metadata": {},
   "source": [
    "## filtering only students with a Bachelor semestre 1 & 6"
   ]
  },
  {
   "cell_type": "code",
   "execution_count": null,
   "metadata": {
    "collapsed": false
   },
   "outputs": [],
   "source": [
    "df_bachelor_semestre_1 = df_bachelor[df_bachelor.ww_x_PERIODE_PEDAGO=='Bachelor semestre 1']\n",
    "df_bachelor_semestre_6 = df_bachelor[df_bachelor.ww_x_PERIODE_PEDAGO=='Bachelor semestre 6']"
   ]
  },
  {
   "cell_type": "code",
   "execution_count": null,
   "metadata": {
    "collapsed": false
   },
   "outputs": [],
   "source": [
    "df_bachelor_filtered = df_bachelor[df_bachelor['No Sciper'].isin(df_bachelor_semestre_1['No Sciper'].tolist())]\n",
    "df_bachelor_filtered = df_bachelor_filtered[df_bachelor_filtered['No Sciper'].isin(df_bachelor_semestre_6['No Sciper'].tolist())]\n",
    "print(df_bachelor_filtered.shape)\n",
    "df_bachelor_filtered.head()"
   ]
  },
  {
   "cell_type": "markdown",
   "metadata": {},
   "source": [
    "Counts the students"
   ]
  },
  {
   "cell_type": "code",
   "execution_count": null,
   "metadata": {
    "collapsed": false
   },
   "outputs": [],
   "source": [
    "print(len(df_bachelor_filtered['No Sciper'].unique()))"
   ]
  },
  {
   "cell_type": "markdown",
   "metadata": {},
   "source": [
    "## Compute average of number of months \n",
    "Method used: \n",
    "- group by sex and student \n",
    "- computes number_of_entries (corresponding on the number of semester studied) for each student\n",
    "- computes average of (6*number_of_entries)\n",
    "\n",
    "\n"
   ]
  },
  {
   "cell_type": "code",
   "execution_count": null,
   "metadata": {
    "collapsed": false
   },
   "outputs": [],
   "source": [
    "df_bachelor_grouped = df_bachelor_filtered[['Civilité','No Sciper','ww_x_PERIODE_PEDAGO']].groupby(['Civilité','No Sciper'])\n",
    "print('number of F: %d' % (df_bachelor_grouped.size()['Madame'].count()))\n",
    "print('number of M: %d' % (df_bachelor_grouped.size()['Monsieur'].count()))\n",
    "print('F avg number of months: %f' % (df_bachelor_grouped.size()['Madame'].mean()*6))\n",
    "print('M avg number of months: %f' % (df_bachelor_grouped.size()['Monsieur'].mean()*6))"
   ]
  },
  {
   "cell_type": "markdown",
   "metadata": {},
   "source": [
    "### Statistical significance"
   ]
  },
  {
   "cell_type": "code",
   "execution_count": null,
   "metadata": {
    "collapsed": false
   },
   "outputs": [],
   "source": []
  },
  {
   "cell_type": "code",
   "execution_count": null,
   "metadata": {
    "collapsed": true
   },
   "outputs": [],
   "source": []
  },
  {
   "cell_type": "code",
   "execution_count": null,
   "metadata": {
    "collapsed": true
   },
   "outputs": [],
   "source": []
  },
  {
   "cell_type": "code",
   "execution_count": null,
   "metadata": {
    "collapsed": true
   },
   "outputs": [],
   "source": []
  },
  {
   "cell_type": "code",
   "execution_count": null,
   "metadata": {
    "collapsed": true
   },
   "outputs": [],
   "source": []
  },
  {
   "cell_type": "code",
   "execution_count": null,
   "metadata": {
    "collapsed": true
   },
   "outputs": [],
   "source": []
  },
  {
   "cell_type": "code",
   "execution_count": null,
   "metadata": {
    "collapsed": true
   },
   "outputs": [],
   "source": []
  },
  {
   "cell_type": "code",
   "execution_count": null,
   "metadata": {
    "collapsed": true
   },
   "outputs": [],
   "source": []
  },
  {
   "cell_type": "code",
   "execution_count": null,
   "metadata": {
    "collapsed": true
   },
   "outputs": [],
   "source": []
  },
  {
   "cell_type": "code",
   "execution_count": null,
   "metadata": {
    "collapsed": true
   },
   "outputs": [],
   "source": []
  },
  {
   "cell_type": "code",
   "execution_count": null,
   "metadata": {
    "collapsed": true
   },
   "outputs": [],
   "source": []
  },
  {
   "cell_type": "code",
   "execution_count": null,
   "metadata": {
    "collapsed": true
   },
   "outputs": [],
   "source": []
  },
  {
   "cell_type": "code",
   "execution_count": null,
   "metadata": {
    "collapsed": true
   },
   "outputs": [],
   "source": []
  }
 ],
 "metadata": {
  "anaconda-cloud": {},
  "kernelspec": {
   "display_name": "Python [Root]",
   "language": "python",
   "name": "Python [Root]"
  },
  "language_info": {
   "codemirror_mode": {
    "name": "ipython",
    "version": 3
   },
   "file_extension": ".py",
   "mimetype": "text/x-python",
   "name": "python",
   "nbconvert_exporter": "python",
   "pygments_lexer": "ipython3",
   "version": "3.5.2"
  }
 },
 "nbformat": 4,
 "nbformat_minor": 0
}
