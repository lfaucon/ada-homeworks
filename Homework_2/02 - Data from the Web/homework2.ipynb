{
 "cells": [
  {
   "cell_type": "markdown",
   "metadata": {},
   "source": [
    "# ADA - Homework 2"
   ]
  },
  {
   "cell_type": "code",
   "execution_count": null,
   "metadata": {
    "collapsed": true
   },
   "outputs": [],
   "source": []
  },
  {
   "cell_type": "code",
   "execution_count": null,
   "metadata": {
    "collapsed": true
   },
   "outputs": [],
   "source": [
    "import requests\n",
    "from bs4 import BeautifulSoup"
   ]
  },
  {
   "cell_type": "markdown",
   "metadata": {},
   "source": [
    "I parse the first page to get all the option fields useful to make queries later "
   ]
  },
  {
   "cell_type": "code",
   "execution_count": null,
   "metadata": {
    "collapsed": false
   },
   "outputs": [],
   "source": [
    "r = requests.get('http://isa.epfl.ch/imoniteur_ISAP/!GEDPUBLICREPORTS.filter?&ww_i_reportmodel=133685247')\n",
    "soup = BeautifulSoup(r.text, 'html.parser')\n",
    "print(soup.prettify())"
   ]
  },
  {
   "cell_type": "code",
   "execution_count": null,
   "metadata": {
    "collapsed": false
   },
   "outputs": [],
   "source": [
    "options = {}\n",
    "for option in soup.find_all('option'):\n",
    "    options[option.parent.get('name')]=options.get(option.parent.get('name'),{})\n",
    "    options[option.parent.get('name')][option.text]=option.get('value')\n",
    "options"
   ]
  },
  {
   "cell_type": "code",
   "execution_count": null,
   "metadata": {
    "collapsed": true
   },
   "outputs": [],
   "source": []
  },
  {
   "cell_type": "code",
   "execution_count": null,
   "metadata": {
    "collapsed": true
   },
   "outputs": [],
   "source": []
  },
  {
   "cell_type": "code",
   "execution_count": null,
   "metadata": {
    "collapsed": true
   },
   "outputs": [],
   "source": []
  },
  {
   "cell_type": "code",
   "execution_count": null,
   "metadata": {
    "collapsed": false
   },
   "outputs": [],
   "source": [
    "# INPUT:\n",
    "# unite_acad : categorical from options.ww_x_UNITE_ACAD.keys()\n",
    "# periode_acad : categorical from options.ww_x_PERIODE_ACAD.keys()\n",
    "# periode_pedago : categorical from options.ww_x_PERIODE_PEDAGO.keys()\n",
    "# hiverete : categorical from options.ww_x_HIVERETE.keys()\n",
    "# \n",
    "# OUTPUT\n",
    "# data : pandas dataframe containing the required data\n",
    "def get_data(unite_acad,periode_acad,periode_pedago,hiverete):\n",
    "    request = ('http://isa.epfl.ch/imoniteur_ISAP/!GEDPUBLICREPORTS.html?'\n",
    "        + 'ww_x_GPS=-1'\n",
    "        + '&ww_i_reportModel=133685247'\n",
    "        + '&ww_i_reportModelXsl=133685270'\n",
    "        + '&ww_x_UNITE_ACAD=' + unite_acad\n",
    "        + '&ww_x_PERIODE_ACAD=' + periode_acad\n",
    "        + '&ww_x_PERIODE_PEDAGO=' + periode_pedago\n",
    "        + '&ww_x_HIVERETE='+ hiverete\n",
    "    )\n",
    "    print(request)\n",
    "    soup = BeautifulSoup(requests.get(request).text, 'html.parser')\n",
    "    \n",
    "    columns = [th.text for th in soup.find_all('th')[1:]]\n",
    "    nColumns = len(columns)\n",
    "    print(columns)\n",
    "    \n",
    "    data = {}\n",
    "    for name in columns:\n",
    "        data[name] = []\n",
    "    print(data)\n",
    "    \n",
    "    for tr in soup.find_all('tr')[2:]:\n",
    "        content = tr.contents\n",
    "        for i in range(nColumns):\n",
    "            data[columns[i]].append(content[i].text)\n",
    "    print(data)\n",
    "    \n",
    "    \n",
    "get_data(\n",
    "    options['ww_x_UNITE_ACAD']['Informatique'],\n",
    "    options['ww_x_PERIODE_ACAD']['2007-2008'],\n",
    "    options['ww_x_PERIODE_PEDAGO']['Bachelor semestre 1'],\n",
    "    options['ww_x_HIVERETE'][\"Semestre d'automne\"]\n",
    ")"
   ]
  },
  {
   "cell_type": "code",
   "execution_count": null,
   "metadata": {
    "collapsed": true
   },
   "outputs": [],
   "source": []
  },
  {
   "cell_type": "code",
   "execution_count": null,
   "metadata": {
    "collapsed": true
   },
   "outputs": [],
   "source": []
  },
  {
   "cell_type": "code",
   "execution_count": null,
   "metadata": {
    "collapsed": true
   },
   "outputs": [],
   "source": []
  }
 ],
 "metadata": {
  "anaconda-cloud": {},
  "kernelspec": {
   "display_name": "Python [Root]",
   "language": "python",
   "name": "Python [Root]"
  },
  "language_info": {
   "codemirror_mode": {
    "name": "ipython",
    "version": 3
   },
   "file_extension": ".py",
   "mimetype": "text/x-python",
   "name": "python",
   "nbconvert_exporter": "python",
   "pygments_lexer": "ipython3",
   "version": "3.5.2"
  }
 },
 "nbformat": 4,
 "nbformat_minor": 0
}
