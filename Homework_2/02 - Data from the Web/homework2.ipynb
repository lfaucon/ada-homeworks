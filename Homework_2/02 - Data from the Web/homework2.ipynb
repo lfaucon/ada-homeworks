{
 "cells": [
  {
   "cell_type": "markdown",
   "metadata": {},
   "source": [
    "# ADA - Homework 2"
   ]
  },
  {
   "cell_type": "code",
   "execution_count": null,
   "metadata": {
    "collapsed": true
   },
   "outputs": [],
   "source": []
  },
  {
   "cell_type": "code",
   "execution_count": null,
   "metadata": {
    "collapsed": true
   },
   "outputs": [],
   "source": [
    "%matplotlib inline\n",
    "import pandas as pd\n",
    "import numpy as np\n",
    "import matplotlib.pyplot as plt\n",
    "import seaborn as sns\n",
    "import requests\n",
    "from bs4 import BeautifulSoup\n",
    "sns.set_context('notebook')\n",
    "sns.set_style('whitegrid')"
   ]
  },
  {
   "cell_type": "markdown",
   "metadata": {},
   "source": [
    "I parse the first page to get all the option fields useful to make queries later "
   ]
  },
  {
   "cell_type": "code",
   "execution_count": null,
   "metadata": {
    "collapsed": false
   },
   "outputs": [],
   "source": [
    "r = requests.get('http://isa.epfl.ch/imoniteur_ISAP/!GEDPUBLICREPORTS.filter?&ww_i_reportmodel=133685247')\n",
    "soup = BeautifulSoup(r.text, 'html.parser')\n",
    "options = {}\n",
    "for option in soup.find_all('option'):\n",
    "    options[option.parent.get('name')]=options.get(option.parent.get('name'),{})\n",
    "    options[option.parent.get('name')][option.text]=option.get('value')\n",
    "options"
   ]
  },
  {
   "cell_type": "code",
   "execution_count": null,
   "metadata": {
    "collapsed": false
   },
   "outputs": [],
   "source": []
  },
  {
   "cell_type": "code",
   "execution_count": null,
   "metadata": {
    "collapsed": true
   },
   "outputs": [],
   "source": []
  },
  {
   "cell_type": "code",
   "execution_count": null,
   "metadata": {
    "collapsed": true
   },
   "outputs": [],
   "source": []
  },
  {
   "cell_type": "code",
   "execution_count": null,
   "metadata": {
    "collapsed": true
   },
   "outputs": [],
   "source": []
  },
  {
   "cell_type": "code",
   "execution_count": null,
   "metadata": {
    "collapsed": false
   },
   "outputs": [],
   "source": [
    "# INPUT:\n",
    "# unite_acad : categorical from options.ww_x_UNITE_ACAD.keys()\n",
    "# periode_acad : categorical from options.ww_x_PERIODE_ACAD.keys()\n",
    "# periode_pedago : categorical from options.ww_x_PERIODE_PEDAGO.keys()\n",
    "# hiverete : categorical from options.ww_x_HIVERETE.keys()\n",
    "# \n",
    "# OUTPUT\n",
    "# data : pandas dataframe containing the required data\n",
    "def get_data(unite_acad,periode_acad,periode_pedago,hiverete):\n",
    "    request = ('http://isa.epfl.ch/imoniteur_ISAP/!GEDPUBLICREPORTS.html?'\n",
    "        + 'ww_x_GPS=-1'\n",
    "        + '&ww_i_reportModel=133685247'\n",
    "        + '&ww_i_reportModelXsl=133685270'\n",
    "        + '&ww_x_UNITE_ACAD=' + options['ww_x_UNITE_ACAD'][unite_acad]\n",
    "        + '&ww_x_PERIODE_ACAD=' + options['ww_x_PERIODE_ACAD'][periode_acad]\n",
    "        + '&ww_x_PERIODE_PEDAGO=' + options['ww_x_PERIODE_PEDAGO'][periode_pedago]\n",
    "        + '&ww_x_HIVERETE='+ options['ww_x_HIVERETE'][hiverete]\n",
    "    )\n",
    "    soup = BeautifulSoup(requests.get(request).text, 'html.parser')\n",
    "    \n",
    "    columns = [th.text for th in soup.find_all('th')[1:]]\n",
    "    nColumns = len(columns)\n",
    "    \n",
    "    data = {}\n",
    "    for name in columns:\n",
    "        data[name] = []\n",
    "    \n",
    "    for tr in soup.find_all('tr')[2:]:\n",
    "        content = tr.contents\n",
    "        for i in range(nColumns):\n",
    "            data[columns[i]].append(content[i].text)\n",
    "    \n",
    "    result = pd.DataFrame(data=data)\n",
    "    result['ww_x_UNITE_ACAD']=unite_acad\n",
    "    result['ww_x_PERIODE_ACAD']=periode_acad\n",
    "    result['ww_x_PERIODE_PEDAGO']=periode_pedago\n",
    "    result['ww_x_HIVERETE']=hiverete\n",
    "    return result"
   ]
  },
  {
   "cell_type": "markdown",
   "metadata": {},
   "source": [
    "A small test for the `get_data` method"
   ]
  },
  {
   "cell_type": "code",
   "execution_count": null,
   "metadata": {
    "collapsed": false,
    "scrolled": false
   },
   "outputs": [],
   "source": [
    "get_data(\n",
    "    'Informatique',\n",
    "    '2007-2008',\n",
    "    'Bachelor semestre 1',\n",
    "    \"Semestre d'automne\"\n",
    ").head()"
   ]
  },
  {
   "cell_type": "code",
   "execution_count": null,
   "metadata": {
    "collapsed": true
   },
   "outputs": [],
   "source": [
    "def get_all_data(unite_acads,periode_acads,periode_pedagos,hiveretes):\n",
    "    result = pd.DataFrame({})\n",
    "    for unite_acad in unite_acads:\n",
    "        for periode_acad in periode_acads:\n",
    "            for periode_pedago in periode_pedagos:\n",
    "                for hiverete in hiveretes:\n",
    "                    result = pd.concat([result,get_data(unite_acad,periode_acad,periode_pedago,hiverete)])\n",
    "    return result"
   ]
  },
  {
   "cell_type": "code",
   "execution_count": null,
   "metadata": {
    "collapsed": false
   },
   "outputs": [],
   "source": [
    "print(get_data(\n",
    "    'Informatique',\n",
    "    '2007-2008',\n",
    "    'Bachelor semestre 1',\n",
    "    \"Semestre d'automne\"\n",
    ").shape)\n",
    "print(get_data(\n",
    "    'Informatique',\n",
    "    '2008-2009',\n",
    "    'Bachelor semestre 1',\n",
    "    \"Semestre d'automne\"\n",
    ").shape)\n",
    "print(get_all_data(\n",
    "    ['Informatique'],\n",
    "    ['2007-2008','2008-2009'],\n",
    "    ['Bachelor semestre 1'],\n",
    "    [\"Semestre d'automne\"]\n",
    ").shape)\n",
    "get_all_data(\n",
    "    ['Informatique'],\n",
    "    ['2007-2008','2008-2009'],\n",
    "    ['Bachelor semestre 1'],\n",
    "    [\"Semestre d'automne\"]\n",
    ")"
   ]
  },
  {
   "cell_type": "code",
   "execution_count": null,
   "metadata": {
    "collapsed": true
   },
   "outputs": [],
   "source": []
  },
  {
   "cell_type": "code",
   "execution_count": null,
   "metadata": {
    "collapsed": true
   },
   "outputs": [],
   "source": []
  },
  {
   "cell_type": "code",
   "execution_count": null,
   "metadata": {
    "collapsed": true
   },
   "outputs": [],
   "source": []
  },
  {
   "cell_type": "code",
   "execution_count": null,
   "metadata": {
    "collapsed": true
   },
   "outputs": [],
   "source": []
  },
  {
   "cell_type": "code",
   "execution_count": null,
   "metadata": {
    "collapsed": true
   },
   "outputs": [],
   "source": []
  },
  {
   "cell_type": "code",
   "execution_count": null,
   "metadata": {
    "collapsed": true
   },
   "outputs": [],
   "source": []
  },
  {
   "cell_type": "code",
   "execution_count": null,
   "metadata": {
    "collapsed": true
   },
   "outputs": [],
   "source": []
  }
 ],
 "metadata": {
  "anaconda-cloud": {},
  "kernelspec": {
   "display_name": "Python [Root]",
   "language": "python",
   "name": "Python [Root]"
  },
  "language_info": {
   "codemirror_mode": {
    "name": "ipython",
    "version": 3
   },
   "file_extension": ".py",
   "mimetype": "text/x-python",
   "name": "python",
   "nbconvert_exporter": "python",
   "pygments_lexer": "ipython3",
   "version": "3.5.2"
  }
 },
 "nbformat": 4,
 "nbformat_minor": 0
}
