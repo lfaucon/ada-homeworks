{
 "cells": [
  {
   "cell_type": "code",
   "execution_count": 16,
   "metadata": {
    "collapsed": false
   },
   "outputs": [],
   "source": [
    "import pandas as pd\n",
    "import numpy as np\n",
    "import matplotlib.pyplot as plt\n",
    "from sklearn.model_selection import train_test_split\n",
    "from sklearn.ensemble import RandomForestClassifier\n",
    "from sklearn.metrics import accuracy_score\n",
    "from sklearn.model_selection import cross_val_score, learning_curve\n",
    "from sklearn import preprocessing\n",
    "\n",
    "%matplotlib inline"
   ]
  },
  {
   "cell_type": "markdown",
   "metadata": {},
   "source": [
    "## Loading data"
   ]
  },
  {
   "cell_type": "code",
   "execution_count": 2,
   "metadata": {
    "collapsed": false
   },
   "outputs": [],
   "source": [
    "df = pd.read_csv('CrowdstormingDataJuly1st.csv')"
   ]
  },
  {
   "cell_type": "markdown",
   "metadata": {},
   "source": [
    "## Cleaning / Aggregating data\n",
    "\n",
    "First, we drop the rows with no skin color ratings."
   ]
  },
  {
   "cell_type": "code",
   "execution_count": 3,
   "metadata": {
    "collapsed": false
   },
   "outputs": [],
   "source": [
    "df = df.dropna(subset=['rater1', 'rater2'])"
   ]
  },
  {
   "cell_type": "markdown",
   "metadata": {},
   "source": [
    "Then, we aggregate the dataframe by player.\n",
    "\n",
    "- We keep the first values for the columns `playerShort`, `height`, `weight`, `club` and `leagueCountry`.\n",
    "- We sum the number of `games`.\n",
    "- We compute the ratio of `victories`, `defeats`, `ties`, `goals`, `yellowCards` and `redCards` per game.\n",
    "- We take the mean of the `rater1` and `reater2` means to create a new feature named `skinColor`. "
   ]
  },
  {
   "cell_type": "code",
   "execution_count": 4,
   "metadata": {
    "collapsed": true
   },
   "outputs": [],
   "source": [
    "def aggregate(x):\n",
    "    return pd.DataFrame({\n",
    "        'playerShort': x.playerShort,\n",
    "        'height': x.height,\n",
    "        'weight': x.weight,\n",
    "        'club': x.club,\n",
    "        'leagueCountry': x.leagueCountry,\n",
    "        'games': x.games.sum(),\n",
    "        'victories': x.victories.sum() / x.games.sum(),\n",
    "        'defeats': x.defeats.sum() / x.games.sum(),\n",
    "        'ties': x.ties.sum() / x.games.sum(),\n",
    "        'goals': x.goals.sum() / x.games.sum(),\n",
    "        'yellowCards': x.yellowCards.sum() / x.games.sum(),\n",
    "        'yellowReds': x.yellowReds.sum() / x.games.sum(),\n",
    "        'redCards': x.redCards.sum() / x.games.sum(),\n",
    "        'skinColor': (x.rater1.mean() + x.rater2.mean()) / 2\n",
    "    })"
   ]
  },
  {
   "cell_type": "code",
   "execution_count": 5,
   "metadata": {
    "collapsed": false
   },
   "outputs": [],
   "source": [
    "agg_df = df.groupby('playerShort').apply(aggregate).drop_duplicates(subset='playerShort', keep='first').reset_index(drop=True)"
   ]
  },
  {
   "cell_type": "markdown",
   "metadata": {},
   "source": [
    "- To deal with the missing values in the columns `height` and `weight`, we fill the rows with the median value.\n",
    "- As our goal is to fit a `RandomForestClassifier` with the data, we convert the categorical features to integers with a `LabelEncoder` per feature.\n",
    "- We drop the `playerShort` column as we already use it to aggregate the dataframe.\n",
    "- We binarize the `skinColor` column."
   ]
  },
  {
   "cell_type": "code",
   "execution_count": 6,
   "metadata": {
    "collapsed": true
   },
   "outputs": [],
   "source": [
    "def process_df(df, categorical_features):\n",
    "    df['height'] = df['height'].fillna(value=df['height'].median())\n",
    "    df['weight'] = df['weight'].fillna(value=df['weight'].median())\n",
    "    \n",
    "    for feature in categorical_features:\n",
    "        le = preprocessing.LabelEncoder()\n",
    "        le.fit(df[feature])\n",
    "        df[feature] = le.transform(df[feature])\n",
    "        \n",
    "    df = df.drop(['playerShort'], axis=1)\n",
    "    \n",
    "    df['skinColor'] = df['skinColor'].apply(lambda x: x >= 0.5)\n",
    "    \n",
    "    return df"
   ]
  },
  {
   "cell_type": "code",
   "execution_count": 7,
   "metadata": {
    "collapsed": false
   },
   "outputs": [],
   "source": [
    "agg_df = process_df(agg_df, ['club', 'leagueCountry'])"
   ]
  },
  {
   "cell_type": "markdown",
   "metadata": {},
   "source": [
    "## Machine Learning\n",
    "\n",
    "First, we need to get the output column that we want to predict (here, `skinColor`)."
   ]
  },
  {
   "cell_type": "code",
   "execution_count": 8,
   "metadata": {
    "collapsed": false
   },
   "outputs": [],
   "source": [
    "y = agg_df.pop('skinColor')"
   ]
  },
  {
   "cell_type": "markdown",
   "metadata": {},
   "source": [
    "Then, we initialize our classifier and validate it with a 10-fold cross validation."
   ]
  },
  {
   "cell_type": "code",
   "execution_count": 9,
   "metadata": {
    "collapsed": false
   },
   "outputs": [
    {
     "data": {
      "text/plain": [
       "array([ 0.7672956 ,  0.72955975,  0.71069182,  0.75471698,  0.77358491,\n",
       "        0.7278481 ,  0.78481013,  0.77848101,  0.75949367,  0.81012658])"
      ]
     },
     "execution_count": 9,
     "metadata": {},
     "output_type": "execute_result"
    }
   ],
   "source": [
    "clf = RandomForestClassifier(n_estimators=100)\n",
    "cross_val_score(clf, agg_df, y, cv=10)"
   ]
  },
  {
   "cell_type": "markdown",
   "metadata": {},
   "source": [
    "The variance between the folds is pretty low. We can conclude that with the features we selected, there is no overfitting."
   ]
  },
  {
   "cell_type": "markdown",
   "metadata": {},
   "source": [
    "Let's take a look at the features importance."
   ]
  },
  {
   "cell_type": "code",
   "execution_count": 20,
   "metadata": {
    "collapsed": true
   },
   "outputs": [],
   "source": [
    "def show_features_ranking(X, y):\n",
    "    clf = clf = RandomForestClassifier(n_estimators=100)\n",
    "    X_train, X_test, y_train, y_test = train_test_split(X, y, test_size=0.2)\n",
    "    clf.fit(X_train, y_train)\n",
    "\n",
    "    importances = clf.feature_importances_\n",
    "    std = np.std([tree.feature_importances_ for tree in clf.estimators_], axis=0)\n",
    "    indices = np.argsort(importances)[::-1]\n",
    "\n",
    "    # Print the feature ranking\n",
    "    print(\"Feature ranking:\")\n",
    "\n",
    "    for f in range(agg_df.shape[1]):\n",
    "        print(\"%d. %s (%f)\" % (f + 1, X.columns[f], importances[indices[f]]))"
   ]
  },
  {
   "cell_type": "code",
   "execution_count": 21,
   "metadata": {
    "collapsed": false
   },
   "outputs": [
    {
     "name": "stdout",
     "output_type": "stream",
     "text": [
      "Feature ranking:\n",
      "1. club (0.104644)\n",
      "2. defeats (0.104089)\n",
      "3. games (0.097592)\n",
      "4. goals (0.092857)\n",
      "5. height (0.088952)\n",
      "6. leagueCountry (0.088876)\n",
      "7. redCards (0.077660)\n",
      "8. ties (0.076473)\n",
      "9. victories (0.073894)\n",
      "10. weight (0.072370)\n",
      "11. yellowCards (0.069845)\n",
      "12. yellowReds (0.052748)\n"
     ]
    }
   ],
   "source": [
    "show_features_ranking(agg_df, y)"
   ]
  },
  {
   "cell_type": "markdown",
   "metadata": {},
   "source": [
    "Let's take a look at the learning curves now"
   ]
  },
  {
   "cell_type": "code",
   "execution_count": 18,
   "metadata": {
    "collapsed": true
   },
   "outputs": [],
   "source": [
    "def show_learning_curve(X, y):\n",
    "    clf = RandomForestClassifier(n_estimators=100)\n",
    "    train_sizes, train_scores, test_scores = learning_curve(clf, X, y, cv=20, train_sizes=range(200, 1400, 200))\n",
    "    train_scores_mean = np.mean(train_scores, axis=1)\n",
    "    train_scores_std = np.std(train_scores, axis=1)\n",
    "    test_scores_mean = np.mean(test_scores, axis=1)\n",
    "    test_scores_std = np.std(test_scores, axis=1)\n",
    "    \n",
    "    plt.figure()\n",
    "    plt.title(\"Learning curves (RandomForestClassifier, n_estimators=100)\")\n",
    "    plt.xlabel(\"Training examples\")\n",
    "    plt.ylabel(\"Accuracy score\")\n",
    "    plt.grid()\n",
    "    plt.fill_between(train_sizes, train_scores_mean - train_scores_std,\n",
    "                     train_scores_mean + train_scores_std, alpha=0.1,\n",
    "                     color=\"r\")\n",
    "    plt.fill_between(train_sizes, test_scores_mean - test_scores_std,\n",
    "                     test_scores_mean + test_scores_std, alpha=0.1, color=\"g\")\n",
    "    plt.plot(train_sizes, train_scores_mean, 'o-', color=\"r\",\n",
    "             label=\"Training score\")\n",
    "    plt.plot(train_sizes, test_scores_mean, 'o-', color=\"g\",\n",
    "             label=\"Cross-validation score\")\n",
    "\n",
    "    plt.legend(loc=\"best\")\n",
    "\n",
    "    plt.show()"
   ]
  },
  {
   "cell_type": "code",
   "execution_count": 19,
   "metadata": {
    "collapsed": false
   },
   "outputs": [
    {
     "data": {
      "image/png": "[encoded data removed]",
      "text/plain": [
       "<matplotlib.figure.Figure at 0x1169749e8>"
      ]
     },
     "metadata": {},
     "output_type": "display_data"
    }
   ],
   "source": [
    "show_learning_curve(agg_df, y)"
   ]
  },
  {
   "cell_type": "code",
   "execution_count": null,
   "metadata": {
    "collapsed": true
   },
   "outputs": [],
   "source": []
  }
 ],
 "metadata": {
  "anaconda-cloud": {},
  "kernelspec": {
   "display_name": "Python [Root]",
   "language": "python",
   "name": "Python [Root]"
  },
  "language_info": {
   "codemirror_mode": {
    "name": "ipython",
    "version": 3
   },
   "file_extension": ".py",
   "mimetype": "text/x-python",
   "name": "python",
   "nbconvert_exporter": "python",
   "pygments_lexer": "ipython3",
   "version": "3.5.2"
  }
 },
 "nbformat": 4,
 "nbformat_minor": 0
}
