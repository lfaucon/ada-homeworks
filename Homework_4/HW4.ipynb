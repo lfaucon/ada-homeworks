{
 "cells": [
  {
   "cell_type": "code",
   "execution_count": 1,
   "metadata": {
    "collapsed": false
   },
   "outputs": [],
   "source": [
    "import pandas as pd\n",
    "import numpy as np\n",
    "import matplotlib.pyplot as plt\n",
    "from sklearn.model_selection import train_test_split\n",
    "from sklearn.ensemble import RandomForestClassifier\n",
    "from sklearn.metrics import accuracy_score, silhouette_score\n",
    "from sklearn.model_selection import cross_val_score, learning_curve\n",
    "from sklearn import preprocessing\n",
    "from sklearn.cluster import KMeans\n",
    "\n",
    "%matplotlib inline"
   ]
  },
  {
   "cell_type": "markdown",
   "metadata": {},
   "source": [
    "# Loading data"
   ]
  },
  {
   "cell_type": "code",
   "execution_count": 2,
   "metadata": {
    "collapsed": false
   },
   "outputs": [],
   "source": [
    "df = pd.read_csv('CrowdstormingDataJuly1st.csv')"
   ]
  },
  {
   "cell_type": "markdown",
   "metadata": {},
   "source": [
    "# 0) Cleaning / Aggregating data\n",
    "\n",
    "First, we drop the rows with no skin color ratings."
   ]
  },
  {
   "cell_type": "code",
   "execution_count": 3,
   "metadata": {
    "collapsed": false
   },
   "outputs": [],
   "source": [
    "df = df.dropna(subset=['rater1', 'rater2'])"
   ]
  },
  {
   "cell_type": "markdown",
   "metadata": {},
   "source": [
    "Then, we aggregate the dataframe by player.\n",
    "\n",
    "- We keep the first values for the columns `playerShort`, `height`, `weight`, `club` and `leagueCountry`.\n",
    "- We sum the number of `games`.\n",
    "- We compute the ratio of `victories`, `defeats`, `ties`, `goals`, `yellowCards` and `redCards` per game.\n",
    "- We take the mean of the `rater1` and `reater2` means to create a new feature named `skinColor`. "
   ]
  },
  {
   "cell_type": "code",
   "execution_count": 4,
   "metadata": {
    "collapsed": true
   },
   "outputs": [],
   "source": [
    "def aggregate(x):\n",
    "    return pd.DataFrame({\n",
    "        'playerShort': x.playerShort,\n",
    "        'height': x.height,\n",
    "        'weight': x.weight,\n",
    "        'club': x.club,\n",
    "        'leagueCountry': x.leagueCountry,\n",
    "        'games': x.games.sum(),\n",
    "        'victories': x.victories.sum() / x.games.sum(),\n",
    "        'defeats': x.defeats.sum() / x.games.sum(),\n",
    "        'ties': x.ties.sum() / x.games.sum(),\n",
    "        'goals': x.goals.sum() / x.games.sum(),\n",
    "        'yellowCards': x.yellowCards.sum() / x.games.sum(),\n",
    "        'yellowReds': x.yellowReds.sum() / x.games.sum(),\n",
    "        'redCards': x.redCards.sum() / x.games.sum(),\n",
    "        'skinColor': (x.rater1.mean() + x.rater2.mean()) / 2\n",
    "    })"
   ]
  },
  {
   "cell_type": "code",
   "execution_count": 5,
   "metadata": {
    "collapsed": false
   },
   "outputs": [],
   "source": [
    "agg_df = df.groupby('playerShort').apply(aggregate).drop_duplicates(subset='playerShort', keep='first').reset_index(drop=True)"
   ]
  },
  {
   "cell_type": "markdown",
   "metadata": {},
   "source": [
    "- To deal with the missing values in the columns `height` and `weight`, we fill the rows with the median value.\n",
    "- As our goal is to fit a `RandomForestClassifier` with the data, we convert the categorical features to integers with a `LabelEncoder` per feature.\n",
    "- We drop the `playerShort` column as we already use it to aggregate the dataframe.\n",
    "- We binarize the `skinColor` column."
   ]
  },
  {
   "cell_type": "code",
   "execution_count": 6,
   "metadata": {
    "collapsed": true
   },
   "outputs": [],
   "source": [
    "def process_df(df, categorical_features):\n",
    "    df['height'] = df['height'].fillna(value=df['height'].median())\n",
    "    df['weight'] = df['weight'].fillna(value=df['weight'].median())\n",
    "    \n",
    "    for feature in categorical_features:\n",
    "        le = preprocessing.LabelEncoder()\n",
    "        le.fit(df[feature])\n",
    "        df[feature] = le.transform(df[feature])\n",
    "        \n",
    "    df = df.drop(['playerShort'], axis=1)\n",
    "    \n",
    "    df['skinColor'] = df['skinColor'].apply(lambda x: x >= 0.5)\n",
    "    \n",
    "    return df"
   ]
  },
  {
   "cell_type": "code",
   "execution_count": 7,
   "metadata": {
    "collapsed": false
   },
   "outputs": [],
   "source": [
    "agg_df = process_df(agg_df, ['club', 'leagueCountry'])"
   ]
  },
  {
   "cell_type": "markdown",
   "metadata": {},
   "source": [
    "# 1) Classification\n",
    "\n",
    "First, we need to get the output column that we want to predict (here, `skinColor`)."
   ]
  },
  {
   "cell_type": "code",
   "execution_count": 8,
   "metadata": {
    "collapsed": false
   },
   "outputs": [],
   "source": [
    "y = agg_df.pop('skinColor')"
   ]
  },
  {
   "cell_type": "markdown",
   "metadata": {},
   "source": [
    "Then, we initialize our classifier and validate it with a 10-fold cross validation."
   ]
  },
  {
   "cell_type": "code",
   "execution_count": 9,
   "metadata": {
    "collapsed": false
   },
   "outputs": [
    {
     "data": {
      "text/plain": [
       "array([ 0.77358491,  0.74213836,  0.71698113,  0.75471698,  0.74213836,\n",
       "        0.72151899,  0.77848101,  0.75949367,  0.7721519 ,  0.81012658])"
      ]
     },
     "execution_count": 9,
     "metadata": {},
     "output_type": "execute_result"
    }
   ],
   "source": [
    "clf = RandomForestClassifier(n_estimators=100)\n",
    "cross_val_score(clf, agg_df, y, cv=10)"
   ]
  },
  {
   "cell_type": "markdown",
   "metadata": {},
   "source": [
    "The variance between the folds is pretty low. We can conclude that with the features we selected, there is no overfitting."
   ]
  },
  {
   "cell_type": "markdown",
   "metadata": {},
   "source": [
    "Let's take a look at the features importance."
   ]
  },
  {
   "cell_type": "code",
   "execution_count": 10,
   "metadata": {
    "collapsed": true
   },
   "outputs": [],
   "source": [
    "def show_features_ranking(X, y):\n",
    "    clf = clf = RandomForestClassifier(n_estimators=100)\n",
    "    X_train, X_test, y_train, y_test = train_test_split(X, y, test_size=0.2)\n",
    "    clf.fit(X_train, y_train)\n",
    "\n",
    "    importances = clf.feature_importances_\n",
    "    std = np.std([tree.feature_importances_ for tree in clf.estimators_], axis=0)\n",
    "    indices = np.argsort(importances)[::-1]\n",
    "\n",
    "    # Print the feature ranking\n",
    "    print(\"Feature ranking:\")\n",
    "\n",
    "    for f in range(agg_df.shape[1]):\n",
    "        print(\"%d. %s (%f)\" % (f + 1, X.columns[f], importances[indices[f]]))"
   ]
  },
  {
   "cell_type": "code",
   "execution_count": 11,
   "metadata": {
    "collapsed": false
   },
   "outputs": [
    {
     "name": "stdout",
     "output_type": "stream",
     "text": [
      "Feature ranking:\n",
      "1. club (0.098663)\n",
      "2. defeats (0.097749)\n",
      "3. games (0.097206)\n",
      "4. goals (0.096073)\n",
      "5. height (0.095440)\n",
      "6. leagueCountry (0.094972)\n",
      "7. redCards (0.079513)\n",
      "8. ties (0.078072)\n",
      "9. victories (0.073229)\n",
      "10. weight (0.070747)\n",
      "11. yellowCards (0.064442)\n",
      "12. yellowReds (0.053894)\n"
     ]
    }
   ],
   "source": [
    "show_features_ranking(agg_df, y)"
   ]
  },
  {
   "cell_type": "markdown",
   "metadata": {},
   "source": [
    "Let's take a look at the learning curves now"
   ]
  },
  {
   "cell_type": "code",
   "execution_count": 12,
   "metadata": {
    "collapsed": true
   },
   "outputs": [],
   "source": [
    "def show_learning_curve(X, y):\n",
    "    clf = RandomForestClassifier(n_estimators=100)\n",
    "    train_sizes, train_scores, test_scores = learning_curve(clf, X, y, cv=20, train_sizes=range(200, 1400, 200))\n",
    "    train_scores_mean = np.mean(train_scores, axis=1)\n",
    "    train_scores_std = np.std(train_scores, axis=1)\n",
    "    test_scores_mean = np.mean(test_scores, axis=1)\n",
    "    test_scores_std = np.std(test_scores, axis=1)\n",
    "    \n",
    "    plt.figure()\n",
    "    plt.title(\"Learning curves (RandomForestClassifier, n_estimators=100)\")\n",
    "    plt.xlabel(\"Training examples\")\n",
    "    plt.ylabel(\"Accuracy score\")\n",
    "    plt.grid()\n",
    "    plt.fill_between(train_sizes, train_scores_mean - train_scores_std,\n",
    "                     train_scores_mean + train_scores_std, alpha=0.1,\n",
    "                     color=\"r\")\n",
    "    plt.fill_between(train_sizes, test_scores_mean - test_scores_std,\n",
    "                     test_scores_mean + test_scores_std, alpha=0.1, color=\"g\")\n",
    "    plt.plot(train_sizes, train_scores_mean, 'o-', color=\"r\",\n",
    "             label=\"Training score\")\n",
    "    plt.plot(train_sizes, test_scores_mean, 'o-', color=\"g\",\n",
    "             label=\"Cross-validation score\")\n",
    "\n",
    "    plt.legend(loc=\"best\")\n",
    "\n",
    "    plt.show()"
   ]
  },
  {
   "cell_type": "code",
   "execution_count": 13,
   "metadata": {
    "collapsed": false
   },
   "outputs": [
    {
     "data": {
      "image/png": "[encoded data removed]",
      "text/plain": [
       "<matplotlib.figure.Figure at 0x11ab9c358>"
      ]
     },
     "metadata": {},
     "output_type": "display_data"
    }
   ],
   "source": [
    "show_learning_curve(agg_df, y)"
   ]
  },
  {
   "cell_type": "markdown",
   "metadata": {},
   "source": [
    "# 2) Clustering"
   ]
  },
  {
   "cell_type": "code",
   "execution_count": 14,
   "metadata": {
    "collapsed": true
   },
   "outputs": [],
   "source": [
    "def clustering(X):\n",
    "    kmeans = KMeans(n_clusters=2, random_state=0)\n",
    "    kmeans.fit(X)\n",
    "    labels = kmeans.labels_\n",
    "    \n",
    "    return silhouette_score(X, labels, metric=\"euclidean\"), (labels == y).sum() / len(y)"
   ]
  },
  {
   "cell_type": "code",
   "execution_count": 15,
   "metadata": {
    "collapsed": false
   },
   "outputs": [
    {
     "name": "stdout",
     "output_type": "stream",
     "text": [
      "Silhouette score = 0.556910\n",
      "Accuracy = 0.428391\n"
     ]
    }
   ],
   "source": [
    "sil, acc = clustering(agg_df)\n",
    "\n",
    "print(\"Silhouette score = %f\" % sil)\n",
    "print(\"Accuracy = %f\" % acc)"
   ]
  },
  {
   "cell_type": "markdown",
   "metadata": {},
   "source": [
    "Now, let's remove one feature at a time and see the evolution of our two scores"
   ]
  },
  {
   "cell_type": "code",
   "execution_count": 16,
   "metadata": {
    "collapsed": false
   },
   "outputs": [
    {
     "data": {
      "text/plain": [
       "Index(['club', 'defeats', 'games', 'goals', 'height', 'leagueCountry',\n",
       "       'redCards', 'ties', 'victories', 'weight', 'yellowCards', 'yellowReds'],\n",
       "      dtype='object')"
      ]
     },
     "execution_count": 16,
     "metadata": {},
     "output_type": "execute_result"
    }
   ],
   "source": [
    "agg_df.columns"
   ]
  },
  {
   "cell_type": "code",
   "execution_count": 17,
   "metadata": {
    "collapsed": true
   },
   "outputs": [],
   "source": [
    "def feature_removal(X):\n",
    "    dic_sil = {}\n",
    "    dic_acc = {}\n",
    "    \n",
    "    for column in X.columns[:len(X.columns) - 1]:\n",
    "        X = X.drop(column, axis=1)\n",
    "        dic_sil[column], dic_acc[column] = clustering(X)\n",
    "        \n",
    "    return dic_sil, dic_acc\n",
    "\n",
    "def plot_feature_removal_evolution(dic_sil, dic_acc):\n",
    "    x = np.arange(len(dic_sil))\n",
    "    labels = list(dic_sil.keys())\n",
    "    col_width = 0.35\n",
    "    \n",
    "    fig = plt.figure(figsize=(15, 4))\n",
    "    plt.xlabel(\"Feature removed\")\n",
    "    plt.ylabel(\"Scores\")\n",
    "    \n",
    "    ax = fig.add_subplot(111)\n",
    "    ax.set_title(\"Scores evolution after iterative features removal\")\n",
    "    ax.set_xticks(x + col_width)\n",
    "    x_tick_names = ax.set_xticklabels(dic_sil.keys())\n",
    "    plt.setp(x_tick_names, rotation=45, fontsize=10)\n",
    "    \n",
    "    plt.bar(x, dic_sil.values(), col_width ,color='b', label='Silhouette score')\n",
    "    plt.bar(x + col_width, dic_acc.values(), col_width, color='g', label='Accuracy score')\n",
    "    \n",
    "    plt.legend(loc=\"best\")\n",
    "    \n",
    "    plt.show()   "
   ]
  },
  {
   "cell_type": "code",
   "execution_count": 18,
   "metadata": {
    "collapsed": false
   },
   "outputs": [],
   "source": [
    "dic_sil, dic_acc = feature_removal(agg_df)"
   ]
  },
  {
   "cell_type": "code",
   "execution_count": 19,
   "metadata": {
    "collapsed": false
   },
   "outputs": [
    {
     "data": {
      "image/png": "[encoded data removed]",
      "text/plain": [
       "<matplotlib.figure.Figure at 0x1189edc50>"
      ]
     },
     "metadata": {},
     "output_type": "display_data"
    }
   ],
   "source": [
    "plot_feature_removal_evolution(dic_sil, dic_acc)"
   ]
  },
  {
   "cell_type": "code",
   "execution_count": null,
   "metadata": {
    "collapsed": true
   },
   "outputs": [],
   "source": []
  }
 ],
 "metadata": {
  "anaconda-cloud": {},
  "kernelspec": {
   "display_name": "Python [Root]",
   "language": "python",
   "name": "Python [Root]"
  },
  "language_info": {
   "codemirror_mode": {
    "name": "ipython",
    "version": 3
   },
   "file_extension": ".py",
   "mimetype": "text/x-python",
   "name": "python",
   "nbconvert_exporter": "python",
   "pygments_lexer": "ipython3",
   "version": "3.5.2"
  }
 },
 "nbformat": 4,
 "nbformat_minor": 0
}
