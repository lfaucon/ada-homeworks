{
 "cells": [
  {
   "cell_type": "markdown",
   "metadata": {},
   "source": [
    "# Homework 4 - Question 2"
   ]
  },
  {
   "cell_type": "markdown",
   "metadata": {},
   "source": [
    "## Importing and cleaning"
   ]
  },
  {
   "cell_type": "code",
   "execution_count": 1,
   "metadata": {
    "collapsed": true
   },
   "outputs": [],
   "source": [
    "# Data manipulation\n",
    "import pandas as pd\n",
    "import numpy as np\n",
    "import random\n",
    "from numpy import array\n",
    "\n",
    "# Machine Learning\n",
    "from scipy.cluster.vq import vq, kmeans, whiten\n",
    "from sklearn.metrics import silhouette_score\n",
    "from scipy.stats import ttest_ind\n",
    "\n",
    "# Visualization\n",
    "import matplotlib.pyplot as plt\n",
    "%matplotlib inline\n",
    "import seaborn as sns"
   ]
  },
  {
   "cell_type": "code",
   "execution_count": 2,
   "metadata": {
    "collapsed": false
   },
   "outputs": [
    {
     "data": {
      "text/html": [
       "<div>\n",
       "<table border=\"1\" class=\"dataframe\">\n",
       "  <thead>\n",
       "    <tr style=\"text-align: right;\">\n",
       "      <th></th>\n",
       "      <th>playerShort</th>\n",
       "      <th>refNum</th>\n",
       "      <th>refCountry</th>\n",
       "      <th>Alpha_3</th>\n",
       "      <th>meanIAT</th>\n",
       "      <th>nIAT</th>\n",
       "      <th>seIAT</th>\n",
       "      <th>meanExp</th>\n",
       "      <th>nExp</th>\n",
       "      <th>seExp</th>\n",
       "    </tr>\n",
       "  </thead>\n",
       "  <tbody>\n",
       "    <tr>\n",
       "      <th>0</th>\n",
       "      <td>lucas-wilchez</td>\n",
       "      <td>1</td>\n",
       "      <td>1</td>\n",
       "      <td>GRC</td>\n",
       "      <td>0.326391</td>\n",
       "      <td>712.0</td>\n",
       "      <td>0.000564</td>\n",
       "      <td>0.396000</td>\n",
       "      <td>750.0</td>\n",
       "      <td>0.002696</td>\n",
       "    </tr>\n",
       "    <tr>\n",
       "      <th>1</th>\n",
       "      <td>john-utaka</td>\n",
       "      <td>2</td>\n",
       "      <td>2</td>\n",
       "      <td>ZMB</td>\n",
       "      <td>0.203375</td>\n",
       "      <td>40.0</td>\n",
       "      <td>0.010875</td>\n",
       "      <td>-0.204082</td>\n",
       "      <td>49.0</td>\n",
       "      <td>0.061504</td>\n",
       "    </tr>\n",
       "    <tr>\n",
       "      <th>5</th>\n",
       "      <td>aaron-hughes</td>\n",
       "      <td>4</td>\n",
       "      <td>4</td>\n",
       "      <td>LUX</td>\n",
       "      <td>0.325185</td>\n",
       "      <td>127.0</td>\n",
       "      <td>0.003297</td>\n",
       "      <td>0.538462</td>\n",
       "      <td>130.0</td>\n",
       "      <td>0.013752</td>\n",
       "    </tr>\n",
       "    <tr>\n",
       "      <th>6</th>\n",
       "      <td>aleksandar-kolarov</td>\n",
       "      <td>4</td>\n",
       "      <td>4</td>\n",
       "      <td>LUX</td>\n",
       "      <td>0.325185</td>\n",
       "      <td>127.0</td>\n",
       "      <td>0.003297</td>\n",
       "      <td>0.538462</td>\n",
       "      <td>130.0</td>\n",
       "      <td>0.013752</td>\n",
       "    </tr>\n",
       "    <tr>\n",
       "      <th>7</th>\n",
       "      <td>alexander-tettey</td>\n",
       "      <td>4</td>\n",
       "      <td>4</td>\n",
       "      <td>LUX</td>\n",
       "      <td>0.325185</td>\n",
       "      <td>127.0</td>\n",
       "      <td>0.003297</td>\n",
       "      <td>0.538462</td>\n",
       "      <td>130.0</td>\n",
       "      <td>0.013752</td>\n",
       "    </tr>\n",
       "  </tbody>\n",
       "</table>\n",
       "</div>"
      ],
      "text/plain": [
       "          playerShort  refNum  refCountry Alpha_3   meanIAT   nIAT     seIAT  \\\n",
       "0       lucas-wilchez       1           1     GRC  0.326391  712.0  0.000564   \n",
       "1          john-utaka       2           2     ZMB  0.203375   40.0  0.010875   \n",
       "5        aaron-hughes       4           4     LUX  0.325185  127.0  0.003297   \n",
       "6  aleksandar-kolarov       4           4     LUX  0.325185  127.0  0.003297   \n",
       "7    alexander-tettey       4           4     LUX  0.325185  127.0  0.003297   \n",
       "\n",
       "    meanExp   nExp     seExp  \n",
       "0  0.396000  750.0  0.002696  \n",
       "1 -0.204082   49.0  0.061504  \n",
       "5  0.538462  130.0  0.013752  \n",
       "6  0.538462  130.0  0.013752  \n",
       "7  0.538462  130.0  0.013752  "
      ]
     },
     "execution_count": 2,
     "metadata": {},
     "output_type": "execute_result"
    }
   ],
   "source": [
    "df = pd.read_csv('CrowdstormingDataJuly1st.csv')\n",
    "df['skinColor'] = (df.rater1 + df.rater2) /2\n",
    "df = df[df.skinColor.notnull()]\n",
    "df_referee = df[['playerShort','refNum','refCountry','Alpha_3','meanIAT','nIAT','seIAT','meanExp','nExp','seExp']]\n",
    "df_referee.head()"
   ]
  },
  {
   "cell_type": "code",
   "execution_count": 3,
   "metadata": {
    "collapsed": false
   },
   "outputs": [
    {
     "data": {
      "image/png": "[encoded data removed]",
      "text/plain": [
       "<matplotlib.figure.Figure at 0x11b09fac8>"
      ]
     },
     "metadata": {},
     "output_type": "display_data"
    }
   ],
   "source": [
    "df_countries = df_referee.groupby('Alpha_3').first()[['meanIAT','meanExp']]\n",
    "\n",
    "fig, ax = plt.subplots(figsize=(18, 14), dpi=400)\n",
    "\n",
    "df_countries.plot(kind='scatter', x='meanIAT', y='meanExp', ax=ax)\n",
    "\n",
    "for k, v in df_countries.iterrows():\n",
    "    ax.annotate(k, v)\n",
    "\n",
    "fig.canvas.draw()"
   ]
  },
  {
   "cell_type": "markdown",
   "metadata": {},
   "source": [
    "## Aggregating players data and computing features"
   ]
  },
  {
   "cell_type": "code",
   "execution_count": 4,
   "metadata": {
    "collapsed": false
   },
   "outputs": [
    {
     "data": {
      "text/html": [
       "<div>\n",
       "<table border=\"1\" class=\"dataframe\">\n",
       "  <thead>\n",
       "    <tr style=\"text-align: right;\">\n",
       "      <th></th>\n",
       "      <th>skinColor</th>\n",
       "      <th>playerShort</th>\n",
       "      <th>games</th>\n",
       "      <th>victories</th>\n",
       "      <th>defeats</th>\n",
       "      <th>ties</th>\n",
       "      <th>goals</th>\n",
       "      <th>yellowCards</th>\n",
       "      <th>yellowReds</th>\n",
       "      <th>redCards</th>\n",
       "      <th>...</th>\n",
       "      <th>tiesIAT</th>\n",
       "      <th>tiesExp</th>\n",
       "      <th>goalsIAT</th>\n",
       "      <th>goalsExp</th>\n",
       "      <th>yellowCardsIAT</th>\n",
       "      <th>yellowCardsExp</th>\n",
       "      <th>yellowRedsIAT</th>\n",
       "      <th>yellowRedsExp</th>\n",
       "      <th>redCardsIAT</th>\n",
       "      <th>redCardsExp</th>\n",
       "    </tr>\n",
       "  </thead>\n",
       "  <tbody>\n",
       "    <tr>\n",
       "      <th>0</th>\n",
       "      <td>0.375</td>\n",
       "      <td>lucas-wilchez</td>\n",
       "      <td>1</td>\n",
       "      <td>0</td>\n",
       "      <td>1</td>\n",
       "      <td>0</td>\n",
       "      <td>0</td>\n",
       "      <td>0</td>\n",
       "      <td>0</td>\n",
       "      <td>0</td>\n",
       "      <td>...</td>\n",
       "      <td>0.0</td>\n",
       "      <td>0.0</td>\n",
       "      <td>0.0</td>\n",
       "      <td>0.0</td>\n",
       "      <td>0.000000</td>\n",
       "      <td>0.000000</td>\n",
       "      <td>0.0</td>\n",
       "      <td>0.0</td>\n",
       "      <td>0.0</td>\n",
       "      <td>0.0</td>\n",
       "    </tr>\n",
       "    <tr>\n",
       "      <th>1</th>\n",
       "      <td>0.750</td>\n",
       "      <td>john-utaka</td>\n",
       "      <td>1</td>\n",
       "      <td>0</td>\n",
       "      <td>1</td>\n",
       "      <td>0</td>\n",
       "      <td>0</td>\n",
       "      <td>1</td>\n",
       "      <td>0</td>\n",
       "      <td>0</td>\n",
       "      <td>...</td>\n",
       "      <td>0.0</td>\n",
       "      <td>-0.0</td>\n",
       "      <td>0.0</td>\n",
       "      <td>-0.0</td>\n",
       "      <td>0.203375</td>\n",
       "      <td>-0.204082</td>\n",
       "      <td>0.0</td>\n",
       "      <td>-0.0</td>\n",
       "      <td>0.0</td>\n",
       "      <td>-0.0</td>\n",
       "    </tr>\n",
       "    <tr>\n",
       "      <th>5</th>\n",
       "      <td>0.125</td>\n",
       "      <td>aaron-hughes</td>\n",
       "      <td>1</td>\n",
       "      <td>0</td>\n",
       "      <td>1</td>\n",
       "      <td>0</td>\n",
       "      <td>0</td>\n",
       "      <td>0</td>\n",
       "      <td>0</td>\n",
       "      <td>0</td>\n",
       "      <td>...</td>\n",
       "      <td>0.0</td>\n",
       "      <td>0.0</td>\n",
       "      <td>0.0</td>\n",
       "      <td>0.0</td>\n",
       "      <td>0.000000</td>\n",
       "      <td>0.000000</td>\n",
       "      <td>0.0</td>\n",
       "      <td>0.0</td>\n",
       "      <td>0.0</td>\n",
       "      <td>0.0</td>\n",
       "    </tr>\n",
       "    <tr>\n",
       "      <th>6</th>\n",
       "      <td>0.125</td>\n",
       "      <td>aleksandar-kolarov</td>\n",
       "      <td>1</td>\n",
       "      <td>1</td>\n",
       "      <td>0</td>\n",
       "      <td>0</td>\n",
       "      <td>0</td>\n",
       "      <td>0</td>\n",
       "      <td>0</td>\n",
       "      <td>0</td>\n",
       "      <td>...</td>\n",
       "      <td>0.0</td>\n",
       "      <td>0.0</td>\n",
       "      <td>0.0</td>\n",
       "      <td>0.0</td>\n",
       "      <td>0.000000</td>\n",
       "      <td>0.000000</td>\n",
       "      <td>0.0</td>\n",
       "      <td>0.0</td>\n",
       "      <td>0.0</td>\n",
       "      <td>0.0</td>\n",
       "    </tr>\n",
       "    <tr>\n",
       "      <th>7</th>\n",
       "      <td>1.000</td>\n",
       "      <td>alexander-tettey</td>\n",
       "      <td>1</td>\n",
       "      <td>0</td>\n",
       "      <td>1</td>\n",
       "      <td>0</td>\n",
       "      <td>0</td>\n",
       "      <td>0</td>\n",
       "      <td>0</td>\n",
       "      <td>0</td>\n",
       "      <td>...</td>\n",
       "      <td>0.0</td>\n",
       "      <td>0.0</td>\n",
       "      <td>0.0</td>\n",
       "      <td>0.0</td>\n",
       "      <td>0.000000</td>\n",
       "      <td>0.000000</td>\n",
       "      <td>0.0</td>\n",
       "      <td>0.0</td>\n",
       "      <td>0.0</td>\n",
       "      <td>0.0</td>\n",
       "    </tr>\n",
       "  </tbody>\n",
       "</table>\n",
       "<p>5 rows × 26 columns</p>\n",
       "</div>"
      ],
      "text/plain": [
       "   skinColor         playerShort  games  victories  defeats  ties  goals  \\\n",
       "0      0.375       lucas-wilchez      1          0        1     0      0   \n",
       "1      0.750          john-utaka      1          0        1     0      0   \n",
       "5      0.125        aaron-hughes      1          0        1     0      0   \n",
       "6      0.125  aleksandar-kolarov      1          1        0     0      0   \n",
       "7      1.000    alexander-tettey      1          0        1     0      0   \n",
       "\n",
       "   yellowCards  yellowReds  redCards     ...       tiesIAT  tiesExp  goalsIAT  \\\n",
       "0            0           0         0     ...           0.0      0.0       0.0   \n",
       "1            1           0         0     ...           0.0     -0.0       0.0   \n",
       "5            0           0         0     ...           0.0      0.0       0.0   \n",
       "6            0           0         0     ...           0.0      0.0       0.0   \n",
       "7            0           0         0     ...           0.0      0.0       0.0   \n",
       "\n",
       "   goalsExp  yellowCardsIAT  yellowCardsExp  yellowRedsIAT  yellowRedsExp  \\\n",
       "0       0.0        0.000000        0.000000            0.0            0.0   \n",
       "1      -0.0        0.203375       -0.204082            0.0           -0.0   \n",
       "5       0.0        0.000000        0.000000            0.0            0.0   \n",
       "6       0.0        0.000000        0.000000            0.0            0.0   \n",
       "7       0.0        0.000000        0.000000            0.0            0.0   \n",
       "\n",
       "   redCardsIAT  redCardsExp  \n",
       "0          0.0          0.0  \n",
       "1          0.0         -0.0  \n",
       "5          0.0          0.0  \n",
       "6          0.0          0.0  \n",
       "7          0.0          0.0  \n",
       "\n",
       "[5 rows x 26 columns]"
      ]
     },
     "execution_count": 4,
     "metadata": {},
     "output_type": "execute_result"
    }
   ],
   "source": [
    "def weighted(df):\n",
    "    for column in ['victories','defeats','ties','goals','yellowCards','yellowReds','redCards']:\n",
    "        df[column+'IAT'] = df[column] * df['meanIAT']\n",
    "        df[column+'Exp'] = df[column] * df['meanExp']\n",
    "    for column in []:#['victories','defeats','ties','goals','yellowCards','yellowReds','redCards']:\n",
    "        df.drop(column, axis=1, inplace=True)\n",
    "    return df\n",
    "\n",
    "df_players_weighted = weighted(\n",
    "    df[\n",
    "        ['skinColor','playerShort','games','victories','defeats','ties','goals','yellowCards','yellowReds','redCards','meanIAT','meanExp']\n",
    "    ].copy()\n",
    ")\n",
    "\n",
    "df_players_weighted.head()\n"
   ]
  },
  {
   "cell_type": "code",
   "execution_count": 5,
   "metadata": {
    "collapsed": false,
    "scrolled": false
   },
   "outputs": [
    {
     "data": {
      "text/plain": [
       "playerShort\n",
       "aaron-hughes              0.125\n",
       "aaron-hunt                0.125\n",
       "aaron-lennon              0.250\n",
       "aaron-ramsey              0.000\n",
       "abdelhamid-el-kaoutari    0.250\n",
       "Name: skinColor, dtype: float64"
      ]
     },
     "execution_count": 5,
     "metadata": {},
     "output_type": "execute_result"
    }
   ],
   "source": [
    "df_players_grouped = df_players_weighted.groupby('playerShort')\n",
    "\n",
    "df_players_color = df_players_grouped.first().pop('skinColor')\n",
    "\n",
    "df_players_color.head()"
   ]
  },
  {
   "cell_type": "code",
   "execution_count": 6,
   "metadata": {
    "collapsed": false
   },
   "outputs": [
    {
     "data": {
      "text/html": [
       "<div>\n",
       "<table border=\"1\" class=\"dataframe\">\n",
       "  <thead>\n",
       "    <tr style=\"text-align: right;\">\n",
       "      <th></th>\n",
       "      <th>victories</th>\n",
       "      <th>defeats</th>\n",
       "      <th>ties</th>\n",
       "      <th>goals</th>\n",
       "      <th>yellowCards</th>\n",
       "      <th>yellowReds</th>\n",
       "      <th>redCards</th>\n",
       "      <th>victoriesIAT</th>\n",
       "      <th>victoriesExp</th>\n",
       "      <th>defeatsIAT</th>\n",
       "      <th>...</th>\n",
       "      <th>tiesIAT</th>\n",
       "      <th>tiesExp</th>\n",
       "      <th>goalsIAT</th>\n",
       "      <th>goalsExp</th>\n",
       "      <th>yellowCardsIAT</th>\n",
       "      <th>yellowCardsExp</th>\n",
       "      <th>yellowRedsIAT</th>\n",
       "      <th>yellowRedsExp</th>\n",
       "      <th>redCardsIAT</th>\n",
       "      <th>redCardsExp</th>\n",
       "    </tr>\n",
       "    <tr>\n",
       "      <th>playerShort</th>\n",
       "      <th></th>\n",
       "      <th></th>\n",
       "      <th></th>\n",
       "      <th></th>\n",
       "      <th></th>\n",
       "      <th></th>\n",
       "      <th></th>\n",
       "      <th></th>\n",
       "      <th></th>\n",
       "      <th></th>\n",
       "      <th></th>\n",
       "      <th></th>\n",
       "      <th></th>\n",
       "      <th></th>\n",
       "      <th></th>\n",
       "      <th></th>\n",
       "      <th></th>\n",
       "      <th></th>\n",
       "      <th></th>\n",
       "      <th></th>\n",
       "      <th></th>\n",
       "    </tr>\n",
       "  </thead>\n",
       "  <tbody>\n",
       "    <tr>\n",
       "      <th>aaron-hughes</th>\n",
       "      <td>0.377676</td>\n",
       "      <td>0.348624</td>\n",
       "      <td>0.273700</td>\n",
       "      <td>0.013761</td>\n",
       "      <td>0.029052</td>\n",
       "      <td>0.000000</td>\n",
       "      <td>0.000000</td>\n",
       "      <td>0.125911</td>\n",
       "      <td>0.154877</td>\n",
       "      <td>0.116244</td>\n",
       "      <td>...</td>\n",
       "      <td>0.091040</td>\n",
       "      <td>0.108587</td>\n",
       "      <td>0.004606</td>\n",
       "      <td>0.005612</td>\n",
       "      <td>0.009817</td>\n",
       "      <td>0.012586</td>\n",
       "      <td>0.000000</td>\n",
       "      <td>0.000000</td>\n",
       "      <td>0.000000</td>\n",
       "      <td>0.000000</td>\n",
       "    </tr>\n",
       "    <tr>\n",
       "      <th>aaron-hunt</th>\n",
       "      <td>0.419643</td>\n",
       "      <td>0.363095</td>\n",
       "      <td>0.217262</td>\n",
       "      <td>0.184524</td>\n",
       "      <td>0.125000</td>\n",
       "      <td>0.000000</td>\n",
       "      <td>0.002976</td>\n",
       "      <td>0.143563</td>\n",
       "      <td>0.164324</td>\n",
       "      <td>0.123388</td>\n",
       "      <td>...</td>\n",
       "      <td>0.074486</td>\n",
       "      <td>0.083222</td>\n",
       "      <td>0.062454</td>\n",
       "      <td>0.066173</td>\n",
       "      <td>0.042781</td>\n",
       "      <td>0.048419</td>\n",
       "      <td>0.000000</td>\n",
       "      <td>0.000000</td>\n",
       "      <td>0.001002</td>\n",
       "      <td>0.001000</td>\n",
       "    </tr>\n",
       "    <tr>\n",
       "      <th>aaron-lennon</th>\n",
       "      <td>0.485437</td>\n",
       "      <td>0.279126</td>\n",
       "      <td>0.235437</td>\n",
       "      <td>0.075243</td>\n",
       "      <td>0.026699</td>\n",
       "      <td>0.000000</td>\n",
       "      <td>0.000000</td>\n",
       "      <td>0.162948</td>\n",
       "      <td>0.201414</td>\n",
       "      <td>0.091605</td>\n",
       "      <td>...</td>\n",
       "      <td>0.077836</td>\n",
       "      <td>0.095341</td>\n",
       "      <td>0.024752</td>\n",
       "      <td>0.027332</td>\n",
       "      <td>0.008864</td>\n",
       "      <td>0.010738</td>\n",
       "      <td>0.000000</td>\n",
       "      <td>0.000000</td>\n",
       "      <td>0.000000</td>\n",
       "      <td>0.000000</td>\n",
       "    </tr>\n",
       "    <tr>\n",
       "      <th>aaron-ramsey</th>\n",
       "      <td>0.576923</td>\n",
       "      <td>0.261538</td>\n",
       "      <td>0.161538</td>\n",
       "      <td>0.150000</td>\n",
       "      <td>0.119231</td>\n",
       "      <td>0.000000</td>\n",
       "      <td>0.003846</td>\n",
       "      <td>0.193189</td>\n",
       "      <td>0.243003</td>\n",
       "      <td>0.089673</td>\n",
       "      <td>...</td>\n",
       "      <td>0.053776</td>\n",
       "      <td>0.065965</td>\n",
       "      <td>0.051691</td>\n",
       "      <td>0.073244</td>\n",
       "      <td>0.040240</td>\n",
       "      <td>0.051198</td>\n",
       "      <td>0.000000</td>\n",
       "      <td>0.000000</td>\n",
       "      <td>0.001287</td>\n",
       "      <td>0.001293</td>\n",
       "    </tr>\n",
       "    <tr>\n",
       "      <th>abdelhamid-el-kaoutari</th>\n",
       "      <td>0.330645</td>\n",
       "      <td>0.346774</td>\n",
       "      <td>0.322581</td>\n",
       "      <td>0.008065</td>\n",
       "      <td>0.064516</td>\n",
       "      <td>0.032258</td>\n",
       "      <td>0.016129</td>\n",
       "      <td>0.109080</td>\n",
       "      <td>0.108069</td>\n",
       "      <td>0.116718</td>\n",
       "      <td>...</td>\n",
       "      <td>0.106084</td>\n",
       "      <td>0.099404</td>\n",
       "      <td>0.002699</td>\n",
       "      <td>0.002710</td>\n",
       "      <td>0.021593</td>\n",
       "      <td>0.021684</td>\n",
       "      <td>0.010943</td>\n",
       "      <td>0.011726</td>\n",
       "      <td>0.005398</td>\n",
       "      <td>0.005421</td>\n",
       "    </tr>\n",
       "  </tbody>\n",
       "</table>\n",
       "<p>5 rows × 21 columns</p>\n",
       "</div>"
      ],
      "text/plain": [
       "                        victories   defeats      ties     goals  yellowCards  \\\n",
       "playerShort                                                                    \n",
       "aaron-hughes             0.377676  0.348624  0.273700  0.013761     0.029052   \n",
       "aaron-hunt               0.419643  0.363095  0.217262  0.184524     0.125000   \n",
       "aaron-lennon             0.485437  0.279126  0.235437  0.075243     0.026699   \n",
       "aaron-ramsey             0.576923  0.261538  0.161538  0.150000     0.119231   \n",
       "abdelhamid-el-kaoutari   0.330645  0.346774  0.322581  0.008065     0.064516   \n",
       "\n",
       "                        yellowReds  redCards  victoriesIAT  victoriesExp  \\\n",
       "playerShort                                                                \n",
       "aaron-hughes              0.000000  0.000000      0.125911      0.154877   \n",
       "aaron-hunt                0.000000  0.002976      0.143563      0.164324   \n",
       "aaron-lennon              0.000000  0.000000      0.162948      0.201414   \n",
       "aaron-ramsey              0.000000  0.003846      0.193189      0.243003   \n",
       "abdelhamid-el-kaoutari    0.032258  0.016129      0.109080      0.108069   \n",
       "\n",
       "                        defeatsIAT     ...        tiesIAT   tiesExp  goalsIAT  \\\n",
       "playerShort                            ...                                      \n",
       "aaron-hughes              0.116244     ...       0.091040  0.108587  0.004606   \n",
       "aaron-hunt                0.123388     ...       0.074486  0.083222  0.062454   \n",
       "aaron-lennon              0.091605     ...       0.077836  0.095341  0.024752   \n",
       "aaron-ramsey              0.089673     ...       0.053776  0.065965  0.051691   \n",
       "abdelhamid-el-kaoutari    0.116718     ...       0.106084  0.099404  0.002699   \n",
       "\n",
       "                        goalsExp  yellowCardsIAT  yellowCardsExp  \\\n",
       "playerShort                                                        \n",
       "aaron-hughes            0.005612        0.009817        0.012586   \n",
       "aaron-hunt              0.066173        0.042781        0.048419   \n",
       "aaron-lennon            0.027332        0.008864        0.010738   \n",
       "aaron-ramsey            0.073244        0.040240        0.051198   \n",
       "abdelhamid-el-kaoutari  0.002710        0.021593        0.021684   \n",
       "\n",
       "                        yellowRedsIAT  yellowRedsExp  redCardsIAT  redCardsExp  \n",
       "playerShort                                                                     \n",
       "aaron-hughes                 0.000000       0.000000     0.000000     0.000000  \n",
       "aaron-hunt                   0.000000       0.000000     0.001002     0.001000  \n",
       "aaron-lennon                 0.000000       0.000000     0.000000     0.000000  \n",
       "aaron-ramsey                 0.000000       0.000000     0.001287     0.001293  \n",
       "abdelhamid-el-kaoutari       0.010943       0.011726     0.005398     0.005421  \n",
       "\n",
       "[5 rows x 21 columns]"
      ]
     },
     "execution_count": 6,
     "metadata": {},
     "output_type": "execute_result"
    }
   ],
   "source": [
    "df_players = df_players_grouped.sum().drop('skinColor',axis=1)\n",
    "df_players.drop(['meanIAT','meanExp'],axis=1,inplace=True)\n",
    "df_players = df_players.div(df_players.games, axis='index')\n",
    "df_players.drop(['games'],axis=1,inplace=True)\n",
    "df_players.head()"
   ]
  },
  {
   "cell_type": "markdown",
   "metadata": {},
   "source": [
    "## Clustering of soccer players"
   ]
  },
  {
   "cell_type": "code",
   "execution_count": 7,
   "metadata": {
    "collapsed": true
   },
   "outputs": [],
   "source": [
    "features = array(df_players.values.tolist())"
   ]
  },
  {
   "cell_type": "code",
   "execution_count": 8,
   "metadata": {
    "collapsed": false
   },
   "outputs": [
    {
     "data": {
      "text/plain": [
       "(array([[ 4.50582687,  3.70136203,  4.33104725,  1.07578336,  1.35768446,\n",
       "          0.31144262,  0.3977977 ,  4.35775277,  2.7882476 ,  3.55161284,\n",
       "          2.36490049,  4.22775215,  2.76596005,  1.06267962,  0.96009322,\n",
       "          1.27587149,  0.90321128,  0.29639093,  0.22334657,  0.39392237,\n",
       "          0.36918863],\n",
       "        [ 3.87660353,  4.1989896 ,  4.69455216,  0.59159741,  2.67133849,\n",
       "          1.58524881,  1.11266863,  3.89406738,  2.91353652,  4.20357387,\n",
       "          3.35044194,  4.77056221,  3.67568806,  0.60685897,  0.63878789,\n",
       "          2.62167138,  2.21390345,  1.58998005,  1.52964498,  1.1409647 ,\n",
       "          1.22673794]]), 3.6588884409615021)"
      ]
     },
     "execution_count": 8,
     "metadata": {},
     "output_type": "execute_result"
    }
   ],
   "source": [
    "whitened = whiten(features)\n",
    "book = array((random.choice(whitened),random.choice(whitened)))\n",
    "(centroids,distortion) = kmeans(whitened,book)\n",
    "(centroids,distortion)"
   ]
  },
  {
   "cell_type": "code",
   "execution_count": 9,
   "metadata": {
    "collapsed": false
   },
   "outputs": [
    {
     "data": {
      "text/plain": [
       "(array([0, 0, 0, 0, 1, 0, 0, 1, 1, 0], dtype=int32),\n",
       " array([ 2.83036896,  1.46404677,  2.17627335,  3.0916422 ,  6.8084683 ,\n",
       "         2.76307486,  4.12023005,  9.9679298 ,  4.88638051,  5.83150585]),\n",
       " 1585)"
      ]
     },
     "execution_count": 9,
     "metadata": {},
     "output_type": "execute_result"
    }
   ],
   "source": [
    "(repartition, distances) = vq(obs=whitened, code_book=centroids)\n",
    "(repartition[:10],distances[:10],len(repartition))"
   ]
  },
  {
   "cell_type": "markdown",
   "metadata": {},
   "source": [
    "## Measure of the cluster silhouette and black/white division "
   ]
  },
  {
   "cell_type": "markdown",
   "metadata": {},
   "source": [
    "### Silhouette"
   ]
  },
  {
   "cell_type": "code",
   "execution_count": 10,
   "metadata": {
    "collapsed": false
   },
   "outputs": [
    {
     "data": {
      "text/plain": [
       "0.23327527876403273"
      ]
     },
     "execution_count": 10,
     "metadata": {},
     "output_type": "execute_result"
    }
   ],
   "source": [
    "silhouette_score(whitened,repartition)"
   ]
  },
  {
   "cell_type": "markdown",
   "metadata": {},
   "source": [
    "### Black/White"
   ]
  },
  {
   "cell_type": "code",
   "execution_count": 11,
   "metadata": {
    "collapsed": false
   },
   "outputs": [
    {
     "name": "stdout",
     "output_type": "stream",
     "text": [
      "average color 0.289511041009\n",
      "average color in cluster 0 0.281768558952 1145\n",
      "average color in cluster 1 0.309659090909 440\n"
     ]
    }
   ],
   "source": [
    "def average(list):\n",
    "    return(sum(list)/len(list))\n",
    "\n",
    "player_color = df_players_color.tolist()\n",
    "player_color0 = [player_color[index] for index in range(len(player_color)) if repartition[index]==0]\n",
    "player_color1 = [player_color[index] for index in range(len(player_color)) if repartition[index]==1]\n",
    "\n",
    "print('average color',average(player_color))\n",
    "print('average color in cluster 0',average(player_color0),len(player_color0))\n",
    "print('average color in cluster 1',average(player_color1),len(player_color1))"
   ]
  },
  {
   "cell_type": "code",
   "execution_count": 12,
   "metadata": {
    "collapsed": false
   },
   "outputs": [
    {
     "data": {
      "text/plain": [
       "Ttest_indResult(statistic=-1.7103830994700222, pvalue=0.087390995315250172)"
      ]
     },
     "execution_count": 12,
     "metadata": {},
     "output_type": "execute_result"
    }
   ],
   "source": [
    "ttest_ind(player_color0,player_color1)"
   ]
  },
  {
   "cell_type": "code",
   "execution_count": null,
   "metadata": {
    "collapsed": true
   },
   "outputs": [],
   "source": []
  },
  {
   "cell_type": "code",
   "execution_count": null,
   "metadata": {
    "collapsed": true
   },
   "outputs": [],
   "source": []
  },
  {
   "cell_type": "code",
   "execution_count": null,
   "metadata": {
    "collapsed": true
   },
   "outputs": [],
   "source": []
  },
  {
   "cell_type": "code",
   "execution_count": null,
   "metadata": {
    "collapsed": true
   },
   "outputs": [],
   "source": []
  },
  {
   "cell_type": "code",
   "execution_count": null,
   "metadata": {
    "collapsed": true
   },
   "outputs": [],
   "source": []
  },
  {
   "cell_type": "code",
   "execution_count": null,
   "metadata": {
    "collapsed": true
   },
   "outputs": [],
   "source": []
  }
 ],
 "metadata": {
  "kernelspec": {
   "display_name": "Python [Root]",
   "language": "python",
   "name": "Python [Root]"
  },
  "language_info": {
   "codemirror_mode": {
    "name": "ipython",
    "version": 3
   },
   "file_extension": ".py",
   "mimetype": "text/x-python",
   "name": "python",
   "nbconvert_exporter": "python",
   "pygments_lexer": "ipython3",
   "version": "3.5.2"
  }
 },
 "nbformat": 4,
 "nbformat_minor": 0
}
