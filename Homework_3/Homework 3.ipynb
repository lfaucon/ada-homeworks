{
 "cells": [
  {
   "cell_type": "markdown",
   "metadata": {
    "collapsed": true
   },
   "source": [
    "# Homework 3\n",
    "# Interactive Viz"
   ]
  },
  {
   "cell_type": "code",
   "execution_count": null,
   "metadata": {
    "collapsed": true
   },
   "outputs": [],
   "source": [
    "import pandas as pd\n",
    "import json\n",
    "import requests\n",
    "import os\n",
    "import folium"
   ]
  },
  {
   "cell_type": "markdown",
   "metadata": {
    "collapsed": true
   },
   "source": [
    "## Data loading"
   ]
  },
  {
   "cell_type": "code",
   "execution_count": null,
   "metadata": {
    "collapsed": false
   },
   "outputs": [],
   "source": [
    "df_raw = pd.DataFrame.from_csv('P3_GrantExport.csv', sep=';').reset_index()\n",
    "\n",
    "print(df_raw.shape)\n",
    "df_raw.head(2)"
   ]
  },
  {
   "cell_type": "markdown",
   "metadata": {},
   "source": [
    "## Data cleaning"
   ]
  },
  {
   "cell_type": "markdown",
   "metadata": {},
   "source": [
    "- We drop the rows with `data not included in P3` as `Approved Amount` and convert the `Approved Amount` column to numeric values.\n",
    "\n",
    "- We drop the rows without a value for `University`. From the SNSF documentation:\n",
    "> \"This field is only filled if the research is carried out at a Swiss institution, otherwise the field remains blank. In the case of mobility fellowships, it is generally left empty.\"\n",
    "\n",
    "- We also drop the rows with `'Nicht zuteilbar - NA'` as `University` (it means NA in german).\n",
    "\n",
    "- We drop all columns except for `University`,`Approved Amount`,`Institution`\n",
    "\n",
    "- We convert the amounts in numerical values\n"
   ]
  },
  {
   "cell_type": "code",
   "execution_count": null,
   "metadata": {
    "collapsed": false
   },
   "outputs": [],
   "source": [
    "def drop_na_rows(df_in):\n",
    "    # removes lins without an approved amount\n",
    "    df_out = df_in[df_in['Approved Amount']!='data not included in P3']\n",
    "    # removes lines missing University\n",
    "    df_out = df_out[~df_out.University.isnull()]\n",
    "    df_out = df_out[df_out.University!='Nicht zuteilbar - NA']\n",
    "    # keeps only interesting columns\n",
    "    df_out = df_out[['University','Approved Amount','Institution']]\n",
    "    # converts the approved amount to numeric\n",
    "    df_out['Approved Amount'] = pd.to_numeric(df_out['Approved Amount'])\n",
    "    return df_out\n",
    "\n",
    "df_blue = drop_na_rows(df_raw)\n",
    "\n",
    "print(df_blue.shape)\n",
    "amount_total = df_blue['Approved Amount'].sum()\n",
    "print(\"total approved amount: %f\" % amount_total)\n",
    "df_blue.head(2)"
   ]
  },
  {
   "cell_type": "markdown",
   "metadata": {},
   "source": [
    "Before localizing the universities, let's do some cleaning:\n",
    "\n",
    "After some data exploration, we noticed that all the universities name are in the following format\n",
    "> \"{university_name} - {university_code}\", e.g \"Université de Genève - GE\"\n",
    "\n",
    "One of the university follow the same pattern but the hyphen (`-`) is missing, let's add it!\n",
    "\n",
    "Then, we removed the hyphen and the `university_code` for all the universities."
   ]
  },
  {
   "cell_type": "code",
   "execution_count": null,
   "metadata": {
    "collapsed": false,
    "scrolled": false
   },
   "outputs": [],
   "source": [
    "def cleanup_names(row):\n",
    "    if (row.University == 'Forschungskommission SAGW'):\n",
    "        row.University = 'Forschungskommission - SAGW'\n",
    "    # find the index in the string where the university name finishes\n",
    "    end_of_name = row.University.rfind(' - ')\n",
    "    # return the name of the university without the tag\n",
    "    if end_of_name != -1:\n",
    "        return row.University[:end_of_name]\n",
    "    # print the name of the university if the format is wrong\n",
    "    else:\n",
    "        print(\"University format not expected : %s\" % (row.University))\n",
    "        return row.University\n",
    "\n",
    "df_rare = df_blue.copy()\n",
    "df_rare['University'] = df_rare.apply(cleanup_names, axis=1)\n",
    "\n",
    "print(df_rare.shape)\n",
    "df_rare.head(2)"
   ]
  },
  {
   "cell_type": "markdown",
   "metadata": {},
   "source": [
    "## Localizing the Grants"
   ]
  },
  {
   "cell_type": "markdown",
   "metadata": {},
   "source": [
    "In order to localize the universities, we first compute the list of all the universities and the list of all cantons, then we use the google map api to localize the universities."
   ]
  },
  {
   "cell_type": "code",
   "execution_count": null,
   "metadata": {
    "collapsed": false
   },
   "outputs": [],
   "source": [
    "universities = df_rare.University.unique()\n",
    "\n",
    "print(\"number of universities: %d\" % len(universities))"
   ]
  },
  {
   "cell_type": "code",
   "execution_count": null,
   "metadata": {
    "collapsed": false
   },
   "outputs": [],
   "source": [
    "cantons_geo = r'ch-cantons.topojson.json'\n",
    "with open(cantons_geo) as file:    \n",
    "    topojson = json.load(file)\n",
    "    cantons = [canton['id'] for canton in topojson['objects']['cantons']['geometries']]\n",
    "\n",
    "print(\"number of cantons: %d\" % len(cantons))"
   ]
  },
  {
   "cell_type": "code",
   "execution_count": null,
   "metadata": {
    "collapsed": false
   },
   "outputs": [],
   "source": [
    "def get_canton(name):\n",
    "    query_params = {\n",
    "        'address': name,\n",
    "        'key': os.environ['GOOGLE_MAPS_API_KEY']\n",
    "    }\n",
    "\n",
    "    r = requests.get(\n",
    "        'https://maps.googleapis.com/maps/api/geocode/json?',\n",
    "        params=query_params\n",
    "    )\n",
    "\n",
    "    json_response = r.json()\n",
    "    if json_response.get('status',None)=='OVER_QUERY_LIMIT':\n",
    "        print('OVER_QUERY_LIMIT')\n",
    "        return None\n",
    "    \n",
    "    for result in json_response['results']:\n",
    "        for adress_component in result['address_components']:\n",
    "            if 'administrative_area_level_1' in adress_component['types']:\n",
    "                if adress_component['short_name'] in cantons:\n",
    "                    return adress_component['short_name']\n",
    "    return None\n",
    "\n",
    "uni_canton = {}\n",
    "for university in universities:\n",
    "    uni_canton[university] = get_canton(university)\n",
    "\n",
    "print(\"number of uni matched: %d\" % len([0 for canton in uni_canton.values() if canton]))"
   ]
  },
  {
   "cell_type": "markdown",
   "metadata": {},
   "source": [
    "We compute the amount included by our first search on the cantons. We obtain ~88% which pushes us to try to attributes cantons to more universities"
   ]
  },
  {
   "cell_type": "code",
   "execution_count": null,
   "metadata": {
    "collapsed": false
   },
   "outputs": [],
   "source": [
    "def set_canton(row):\n",
    "    return uni_canton[row.University]\n",
    "\n",
    "df_medium = df_rare.copy()\n",
    "df_medium['Canton'] = df_medium.apply(set_canton, axis=1)\n",
    "\n",
    "print(df_medium.shape)\n",
    "amount_included = df_medium[df_medium.apply(lambda row:not (row.Canton is None), axis=1)]['Approved Amount'].sum()\n",
    "amount_not_included = df_medium[df_medium.apply(lambda row: row.Canton is None, axis=1)]['Approved Amount'].sum()\n",
    "print(\"total approved amount included: %f\" % amount_included)\n",
    "print(\"total approved amount not included: %f\" % amount_not_included)\n",
    "print(\"percentage of amount included: %f\" % (amount_included/amount_total))\n",
    "df_medium.head(2)"
   ]
  },
  {
   "cell_type": "code",
   "execution_count": null,
   "metadata": {
    "collapsed": false
   },
   "outputs": [],
   "source": [
    "uni_canton.update({\n",
    "    'Université de Neuchâtel': 'NE',\n",
    "    'Eidg. Anstalt für Wasserversorgung': 'ZH',\n",
    "    'HES de Suisse occidentale': 'JU',\n",
    "    'Zürcher Fachhochschule (ohne PH)': 'ZH',\n",
    "    'Eidg. Material und Prüfungsanstalt': 'ZH',\n",
    "    'Fachhochschule Nordwestschweiz (ohne PH)': 'ZH',\n",
    "    'Inst. de Hautes Etudes Internat. et du Dév': 'GE',\n",
    "    'Berner Fachhochschule': 'BE',\n",
    "    'Idiap Research Institute': 'VS',\n",
    "    'Friedrich Miescher Institute': 'BS'    \n",
    "})\n",
    "print(\"number of uni matched: %d\" % len([0 for canton in uni_canton.values() if canton]))\n",
    "\n",
    "df_medium['Canton'] = df_medium.apply(set_canton, axis=1)\n",
    "\n",
    "print(df_medium.shape)\n",
    "amount_included = df_medium[df_medium.apply(lambda row:not (row.Canton is None), axis=1)]['Approved Amount'].sum()\n",
    "amount_not_included = df_medium[df_medium.apply(lambda row: row.Canton is None, axis=1)]['Approved Amount'].sum()\n",
    "print(\"total approved amount included: %f\" % amount_included)\n",
    "print(\"total approved amount not included: %f\" % amount_not_included)\n",
    "print(\"percentage of amount included: %f\" % (amount_included/amount_total))\n",
    "df_medium.head(2)"
   ]
  },
  {
   "cell_type": "markdown",
   "metadata": {},
   "source": [
    "We can observe that two \"Universities\" have a lot of records and do not have a Canton, they are:\n",
    "- NPO (Biblioth., Museen, Verwalt.) (corresponds to NGOs in different cantons)\n",
    "- Firmen/Privatwirtschaft (corresponds to funding to private institutes in different cantons)\n",
    "\n",
    "In order to assign a canton for these two \"universities\" and the remaining records, we will use the `Institution` field ! Let's manually fix some records with a `Institution` with a high value counts !"
   ]
  },
  {
   "cell_type": "code",
   "execution_count": null,
   "metadata": {
    "collapsed": false
   },
   "outputs": [],
   "source": [
    "institutions = df_medium[df_medium.apply(\n",
    "    lambda row: row.Canton is None,\n",
    "    axis=1)].Institution.unique()\n",
    "\n",
    "print(\"number of institutions: %d\" % len(institutions))\n",
    "institutions[:5]"
   ]
  },
  {
   "cell_type": "code",
   "execution_count": null,
   "metadata": {
    "collapsed": false
   },
   "outputs": [],
   "source": [
    "# /!\\ takes a lot of time /!\\\n",
    "ins_canton = {}\n",
    "for institution in institutions:\n",
    "    ins_canton[institution] = get_canton(institution)\n",
    "\n",
    "print(\"number of institutions matched: %d\" % len([0 for canton in ins_canton.values() if canton]))"
   ]
  },
  {
   "cell_type": "code",
   "execution_count": null,
   "metadata": {
    "collapsed": false
   },
   "outputs": [],
   "source": [
    "# manually adds a few cantons\n",
    "ins_canton.update({\n",
    "    'WSL - Institut für Schnee- und Lawinenforschung SLF': 'GR',\n",
    "    'Forschungsanstalt Agroscope Reckenholz-Tänikon ART': 'ZH',\n",
    "    'Schweizerisches Institut für Allergie- und Asthmaforschung': 'GR',\n",
    "    'Institut universitaire romand de Santé au Travail': 'VD',\n",
    "    \"Muséum d'Histoire Naturelle\": 'GE',\n",
    "    'FORS c/o Université de Lausanne': 'VD',\n",
    "    'Gesellschaft für Schweizerische Kunstgeschichte': 'BE'\n",
    "})\n",
    "\n",
    "print(\"number of institutions matched: %d\" % len([0 for canton in ins_canton.values() if canton]))"
   ]
  },
  {
   "cell_type": "code",
   "execution_count": null,
   "metadata": {
    "collapsed": false
   },
   "outputs": [],
   "source": [
    "def set_canton_with_ins(row):\n",
    "    return row.Canton if row.Canton else ins_canton.get(row.Institution,None)\n",
    "\n",
    "df_medium['Canton'] = df_medium.apply(set_canton_with_ins, axis=1)\n",
    "\n",
    "print(df_medium.shape)\n",
    "amount_included = df_medium[df_medium.apply(lambda row:not (row.Canton is None), axis=1)]['Approved Amount'].sum()\n",
    "amount_not_included = df_medium[df_medium.apply(lambda row: row.Canton is None, axis=1)]['Approved Amount'].sum()\n",
    "print(\"total approved amount included: %f\" % amount_included)\n",
    "print(\"total approved amount not included: %f\" % amount_not_included)\n",
    "print(\"percentage of amount included: %f\" % (amount_included/amount_total))\n",
    "df_medium.head(2)"
   ]
  },
  {
   "cell_type": "markdown",
   "metadata": {
    "collapsed": true
   },
   "source": [
    "## Visualization with Folium"
   ]
  },
  {
   "cell_type": "markdown",
   "metadata": {},
   "source": [
    "We first prepare the dataset for the map. We simply need the `Approved Amount` summed and grouped by `Canton`. Folium expects a value for each canton, so we add rows for the missing cantons with `0` as `Approved Amount`. We add a new column with the `Approved Amount` value in millions."
   ]
  },
  {
   "cell_type": "code",
   "execution_count": null,
   "metadata": {
    "collapsed": false
   },
   "outputs": [],
   "source": [
    "df_well_done = df_medium[~df_medium.Canton.isnull()]\n",
    "df_well_done = df_well_done[['Canton', 'Approved Amount']].groupby('Canton').sum().reset_index()\n",
    "\n",
    "for canton in cantons:\n",
    "    if not canton in df_well_done.Canton.tolist():\n",
    "        df_well_done = df_well_done.append({\n",
    "            'Canton': canton,\n",
    "            'Approved Amount': 0\n",
    "        }, ignore_index=True)\n",
    "\n",
    "df_well_done['GEO_ID'] = df_well_done['Canton']\n",
    "df_well_done['Approved Amount M'] = df_well_done['Approved Amount'] / 1e+06        \n",
    "df_well_done = df_well_done[['GEO_ID', 'Approved Amount M']]\n",
    "\n",
    "print(df_well_done.shape)\n",
    "df_well_done.head()"
   ]
  },
  {
   "cell_type": "code",
   "execution_count": null,
   "metadata": {
    "collapsed": false
   },
   "outputs": [],
   "source": [
    "grants_map = folium.Map(location=[46.85, 8.05], zoom_start=8)\n",
    "grants_map.choropleth(\n",
    "    geo_path=cantons_geo, \n",
    "    data=df_well_done,\n",
    "    columns=['GEO_ID', 'Approved Amount M'],\n",
    "    key_on='feature.id',\n",
    "    topojson='objects.cantons',\n",
    "    fill_color='YlOrRd',\n",
    "    legend_name='Approved Amount',\n",
    "    threshold_scale=[0,5,10,15,20,25]\n",
    ")\n",
    "grants_map"
   ]
  }
 ],
 "metadata": {
  "anaconda-cloud": {},
  "kernelspec": {
   "display_name": "Python [Root]",
   "language": "python",
   "name": "Python [Root]"
  },
  "language_info": {
   "codemirror_mode": {
    "name": "ipython",
    "version": 3
   },
   "file_extension": ".py",
   "mimetype": "text/x-python",
   "name": "python",
   "nbconvert_exporter": "python",
   "pygments_lexer": "ipython3",
   "version": "3.5.2"
  }
 },
 "nbformat": 4,
 "nbformat_minor": 0
}
