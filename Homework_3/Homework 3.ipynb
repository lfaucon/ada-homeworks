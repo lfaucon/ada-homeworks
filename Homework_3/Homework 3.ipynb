{
 "cells": [
  {
   "cell_type": "markdown",
   "metadata": {
    "collapsed": true
   },
   "source": [
    "# Homework 3\n",
    "# Interactive Viz"
   ]
  },
  {
   "cell_type": "code",
   "execution_count": 2,
   "metadata": {
    "collapsed": true
   },
   "outputs": [],
   "source": [
    "import pandas as pd\n",
    "import json\n",
    "import requests\n",
    "import os\n",
    "import folium"
   ]
  },
  {
   "cell_type": "markdown",
   "metadata": {
    "collapsed": true
   },
   "source": [
    "## Data loading"
   ]
  },
  {
   "cell_type": "code",
   "execution_count": 3,
   "metadata": {
    "collapsed": false
   },
   "outputs": [
    {
     "name": "stdout",
     "output_type": "stream",
     "text": [
      "(63969, 15)\n"
     ]
    },
    {
     "data": {
      "text/html": [
       "<div>\n",
       "<table border=\"1\" class=\"dataframe\">\n",
       "  <thead>\n",
       "    <tr style=\"text-align: right;\">\n",
       "      <th></th>\n",
       "      <th>﻿\"Project Number\"</th>\n",
       "      <th>Project Title</th>\n",
       "      <th>Project Title English</th>\n",
       "      <th>Responsible Applicant</th>\n",
       "      <th>Funding Instrument</th>\n",
       "      <th>Funding Instrument Hierarchy</th>\n",
       "      <th>Institution</th>\n",
       "      <th>University</th>\n",
       "      <th>Discipline Number</th>\n",
       "      <th>Discipline Name</th>\n",
       "      <th>Discipline Name Hierarchy</th>\n",
       "      <th>Start Date</th>\n",
       "      <th>End Date</th>\n",
       "      <th>Approved Amount</th>\n",
       "      <th>Keywords</th>\n",
       "    </tr>\n",
       "  </thead>\n",
       "  <tbody>\n",
       "    <tr>\n",
       "      <th>0</th>\n",
       "      <td>1</td>\n",
       "      <td>Schlussband (Bd. VI) der Jacob Burckhardt-Biog...</td>\n",
       "      <td>NaN</td>\n",
       "      <td>Kaegi Werner</td>\n",
       "      <td>Project funding (Div. I-III)</td>\n",
       "      <td>Project funding</td>\n",
       "      <td>NaN</td>\n",
       "      <td>Nicht zuteilbar - NA</td>\n",
       "      <td>10302</td>\n",
       "      <td>Swiss history</td>\n",
       "      <td>Human and Social Sciences;Theology &amp; religious...</td>\n",
       "      <td>01.10.1975</td>\n",
       "      <td>30.09.1976</td>\n",
       "      <td>11619.00</td>\n",
       "      <td>NaN</td>\n",
       "    </tr>\n",
       "    <tr>\n",
       "      <th>1</th>\n",
       "      <td>4</td>\n",
       "      <td>Batterie de tests à l'usage des enseignants po...</td>\n",
       "      <td>NaN</td>\n",
       "      <td>Massarenti Léonard</td>\n",
       "      <td>Project funding (Div. I-III)</td>\n",
       "      <td>Project funding</td>\n",
       "      <td>Faculté de Psychologie et des Sciences de l'Ed...</td>\n",
       "      <td>Université de Genève - GE</td>\n",
       "      <td>10104</td>\n",
       "      <td>Educational science and Pedagogy</td>\n",
       "      <td>Human and Social Sciences;Psychology, educatio...</td>\n",
       "      <td>01.10.1975</td>\n",
       "      <td>30.09.1976</td>\n",
       "      <td>41022.00</td>\n",
       "      <td>NaN</td>\n",
       "    </tr>\n",
       "  </tbody>\n",
       "</table>\n",
       "</div>"
      ],
      "text/plain": [
       "   ﻿\"Project Number\"                                      Project Title  \\\n",
       "0                  1  Schlussband (Bd. VI) der Jacob Burckhardt-Biog...   \n",
       "1                  4  Batterie de tests à l'usage des enseignants po...   \n",
       "\n",
       "  Project Title English Responsible Applicant            Funding Instrument  \\\n",
       "0                   NaN          Kaegi Werner  Project funding (Div. I-III)   \n",
       "1                   NaN    Massarenti Léonard  Project funding (Div. I-III)   \n",
       "\n",
       "  Funding Instrument Hierarchy  \\\n",
       "0              Project funding   \n",
       "1              Project funding   \n",
       "\n",
       "                                         Institution  \\\n",
       "0                                                NaN   \n",
       "1  Faculté de Psychologie et des Sciences de l'Ed...   \n",
       "\n",
       "                  University  Discipline Number  \\\n",
       "0       Nicht zuteilbar - NA              10302   \n",
       "1  Université de Genève - GE              10104   \n",
       "\n",
       "                    Discipline Name  \\\n",
       "0                     Swiss history   \n",
       "1  Educational science and Pedagogy   \n",
       "\n",
       "                           Discipline Name Hierarchy  Start Date    End Date  \\\n",
       "0  Human and Social Sciences;Theology & religious...  01.10.1975  30.09.1976   \n",
       "1  Human and Social Sciences;Psychology, educatio...  01.10.1975  30.09.1976   \n",
       "\n",
       "  Approved Amount Keywords  \n",
       "0        11619.00      NaN  \n",
       "1        41022.00      NaN  "
      ]
     },
     "execution_count": 3,
     "metadata": {},
     "output_type": "execute_result"
    }
   ],
   "source": [
    "df_raw = pd.DataFrame.from_csv('P3_GrantExport.csv', sep=';').reset_index()\n",
    "\n",
    "print(df_raw.shape)\n",
    "df_raw.head(2)"
   ]
  },
  {
   "cell_type": "markdown",
   "metadata": {},
   "source": [
    "## Data cleaning"
   ]
  },
  {
   "cell_type": "markdown",
   "metadata": {},
   "source": [
    "- We drop the rows with `data not included in P3` as `Approved Amount` and convert the `Approved Amount` column to numeric values.\n",
    "\n",
    "- We drop the rows without a value for `University`. From the SNSF documentation:\n",
    "> \"This field is only filled if the research is carried out at a Swiss institution, otherwise the field remains blank. In the case of mobility fellowships, it is generally left empty.\"\n",
    "\n",
    "- We also drop the rows with `'Nicht zuteilbar - NA'` as `University` (it means NA in german).\n",
    "\n",
    "- We drop all columns except for `University`,`Approved Amount`,`Institution`\n",
    "\n",
    "- We convert the amounts in numerical values\n"
   ]
  },
  {
   "cell_type": "code",
   "execution_count": 4,
   "metadata": {
    "collapsed": false
   },
   "outputs": [
    {
     "name": "stdout",
     "output_type": "stream",
     "text": [
      "(48283, 3)\n",
      "total approved amount: 12835443477.020002 CHF\n"
     ]
    },
    {
     "data": {
      "text/html": [
       "<div>\n",
       "<table border=\"1\" class=\"dataframe\">\n",
       "  <thead>\n",
       "    <tr style=\"text-align: right;\">\n",
       "      <th></th>\n",
       "      <th>University</th>\n",
       "      <th>Approved Amount</th>\n",
       "      <th>Institution</th>\n",
       "    </tr>\n",
       "  </thead>\n",
       "  <tbody>\n",
       "    <tr>\n",
       "      <th>1</th>\n",
       "      <td>Université de Genève - GE</td>\n",
       "      <td>41022.0</td>\n",
       "      <td>Faculté de Psychologie et des Sciences de l'Ed...</td>\n",
       "    </tr>\n",
       "    <tr>\n",
       "      <th>2</th>\n",
       "      <td>NPO (Biblioth., Museen, Verwalt.) - NPO</td>\n",
       "      <td>79732.0</td>\n",
       "      <td>Kommission für das Corpus philosophorum medii ...</td>\n",
       "    </tr>\n",
       "  </tbody>\n",
       "</table>\n",
       "</div>"
      ],
      "text/plain": [
       "                                University  Approved Amount  \\\n",
       "1                Université de Genève - GE          41022.0   \n",
       "2  NPO (Biblioth., Museen, Verwalt.) - NPO          79732.0   \n",
       "\n",
       "                                         Institution  \n",
       "1  Faculté de Psychologie et des Sciences de l'Ed...  \n",
       "2  Kommission für das Corpus philosophorum medii ...  "
      ]
     },
     "execution_count": 4,
     "metadata": {},
     "output_type": "execute_result"
    }
   ],
   "source": [
    "def drop_na_rows(df_in):\n",
    "    # removes lins without an approved amount\n",
    "    df_out = df_in[df_in['Approved Amount']!='data not included in P3']\n",
    "    # removes lines missing University\n",
    "    df_out = df_out[~df_out.University.isnull()]\n",
    "    df_out = df_out[df_out.University!='Nicht zuteilbar - NA']\n",
    "    # keeps only interesting columns\n",
    "    df_out = df_out[['University','Approved Amount','Institution']]\n",
    "    # converts the approved amount to numeric\n",
    "    df_out['Approved Amount'] = pd.to_numeric(df_out['Approved Amount'])\n",
    "    return df_out\n",
    "\n",
    "df_blue = drop_na_rows(df_raw)\n",
    "\n",
    "print(df_blue.shape)\n",
    "amount_total = df_blue['Approved Amount'].sum()\n",
    "print(\"total approved amount: %f CHF\" % amount_total)\n",
    "df_blue.head(2)"
   ]
  },
  {
   "cell_type": "markdown",
   "metadata": {},
   "source": [
    "Before localizing the universities, let's do some cleaning:\n",
    "\n",
    "After some data exploration, we noticed that all the universities name are in the following format\n",
    "> \"{university_name} - {university_code}\", e.g \"Université de Genève - GE\"\n",
    "\n",
    "One of the university follow the same pattern but the hyphen (`-`) is missing, let's add it!\n",
    "\n",
    "Then, we removed the hyphen and the `university_code` for all the universities."
   ]
  },
  {
   "cell_type": "code",
   "execution_count": 5,
   "metadata": {
    "collapsed": false,
    "scrolled": false
   },
   "outputs": [
    {
     "name": "stdout",
     "output_type": "stream",
     "text": [
      "(48283, 3)\n"
     ]
    },
    {
     "data": {
      "text/html": [
       "<div>\n",
       "<table border=\"1\" class=\"dataframe\">\n",
       "  <thead>\n",
       "    <tr style=\"text-align: right;\">\n",
       "      <th></th>\n",
       "      <th>University</th>\n",
       "      <th>Approved Amount</th>\n",
       "      <th>Institution</th>\n",
       "    </tr>\n",
       "  </thead>\n",
       "  <tbody>\n",
       "    <tr>\n",
       "      <th>1</th>\n",
       "      <td>Université de Genève</td>\n",
       "      <td>41022.0</td>\n",
       "      <td>Faculté de Psychologie et des Sciences de l'Ed...</td>\n",
       "    </tr>\n",
       "    <tr>\n",
       "      <th>2</th>\n",
       "      <td>NPO (Biblioth., Museen, Verwalt.)</td>\n",
       "      <td>79732.0</td>\n",
       "      <td>Kommission für das Corpus philosophorum medii ...</td>\n",
       "    </tr>\n",
       "  </tbody>\n",
       "</table>\n",
       "</div>"
      ],
      "text/plain": [
       "                          University  Approved Amount  \\\n",
       "1               Université de Genève          41022.0   \n",
       "2  NPO (Biblioth., Museen, Verwalt.)          79732.0   \n",
       "\n",
       "                                         Institution  \n",
       "1  Faculté de Psychologie et des Sciences de l'Ed...  \n",
       "2  Kommission für das Corpus philosophorum medii ...  "
      ]
     },
     "execution_count": 5,
     "metadata": {},
     "output_type": "execute_result"
    }
   ],
   "source": [
    "def cleanup_names(row):\n",
    "    if (row.University == 'Forschungskommission SAGW'):\n",
    "        row.University = 'Forschungskommission - SAGW'\n",
    "    # find the index in the string where the university name finishes\n",
    "    end_of_name = row.University.rfind(' - ')\n",
    "    # return the name of the university without the tag\n",
    "    if end_of_name != -1:\n",
    "        return row.University[:end_of_name]\n",
    "    # print the name of the university if the format is wrong\n",
    "    else:\n",
    "        print(\"University format not expected : %s\" % (row.University))\n",
    "        return row.University\n",
    "\n",
    "df_rare = df_blue.copy()\n",
    "df_rare['University'] = df_rare.apply(cleanup_names, axis=1)\n",
    "\n",
    "print(df_rare.shape)\n",
    "df_rare.head(2)"
   ]
  },
  {
   "cell_type": "markdown",
   "metadata": {},
   "source": [
    "## Localizing the Grants"
   ]
  },
  {
   "cell_type": "markdown",
   "metadata": {},
   "source": [
    "In order to localize the universities, we first compute the list of all the universities and the list of all cantons, then we use the google map api to localize the universities."
   ]
  },
  {
   "cell_type": "code",
   "execution_count": 6,
   "metadata": {
    "collapsed": false
   },
   "outputs": [
    {
     "name": "stdout",
     "output_type": "stream",
     "text": [
      "number of universities: 76\n"
     ]
    }
   ],
   "source": [
    "universities = df_rare.University.unique()\n",
    "\n",
    "print(\"number of universities: %d\" % len(universities))"
   ]
  },
  {
   "cell_type": "code",
   "execution_count": 7,
   "metadata": {
    "collapsed": false
   },
   "outputs": [
    {
     "name": "stdout",
     "output_type": "stream",
     "text": [
      "number of cantons: 26\n"
     ]
    }
   ],
   "source": [
    "cantons_geo = r'ch-cantons.topojson.json'\n",
    "with open(cantons_geo) as file:    \n",
    "    topojson = json.load(file)\n",
    "    cantons = [canton['id'] for canton in topojson['objects']['cantons']['geometries']]\n",
    "\n",
    "print(\"number of cantons: %d\" % len(cantons))"
   ]
  },
  {
   "cell_type": "code",
   "execution_count": 8,
   "metadata": {
    "collapsed": false
   },
   "outputs": [
    {
     "name": "stdout",
     "output_type": "stream",
     "text": [
      "number of uni matched: 27\n"
     ]
    }
   ],
   "source": [
    "def get_canton(name):\n",
    "    query_params = {\n",
    "        'address': name,\n",
    "        'key': os.environ['GOOGLE_MAPS_API_KEY']\n",
    "    }\n",
    "\n",
    "    r = requests.get(\n",
    "        'https://maps.googleapis.com/maps/api/geocode/json?',\n",
    "        params=query_params\n",
    "    )\n",
    "\n",
    "    json_response = r.json()\n",
    "    if json_response.get('status',None)=='OVER_QUERY_LIMIT':\n",
    "        print('OVER_QUERY_LIMIT')\n",
    "        return None\n",
    "    \n",
    "    for result in json_response['results']:\n",
    "        for adress_component in result['address_components']:\n",
    "            if 'administrative_area_level_1' in adress_component['types']:\n",
    "                if adress_component['short_name'] in cantons:\n",
    "                    return adress_component['short_name']\n",
    "    return None\n",
    "\n",
    "uni_canton = {}\n",
    "for university in universities:\n",
    "    uni_canton[university] = get_canton(university)\n",
    "\n",
    "print(\"number of uni matched: %d\" % len([0 for canton in uni_canton.values() if canton]))"
   ]
  },
  {
   "cell_type": "markdown",
   "metadata": {},
   "source": [
    "We compute the amount included by our first search on the cantons. We obtain ~88% which pushes us to try to attribute cantons to more universities"
   ]
  },
  {
   "cell_type": "code",
   "execution_count": 9,
   "metadata": {
    "collapsed": false
   },
   "outputs": [
    {
     "name": "stdout",
     "output_type": "stream",
     "text": [
      "(48283, 4)\n",
      "total approved amount included: 11266984261.250004 CHF\n",
      "total approved amount not included: 1568459215.770000 CHF\n",
      "percentage of amount included: 0.877802\n"
     ]
    },
    {
     "data": {
      "text/html": [
       "<div>\n",
       "<table border=\"1\" class=\"dataframe\">\n",
       "  <thead>\n",
       "    <tr style=\"text-align: right;\">\n",
       "      <th></th>\n",
       "      <th>University</th>\n",
       "      <th>Approved Amount</th>\n",
       "      <th>Institution</th>\n",
       "      <th>Canton</th>\n",
       "    </tr>\n",
       "  </thead>\n",
       "  <tbody>\n",
       "    <tr>\n",
       "      <th>1</th>\n",
       "      <td>Université de Genève</td>\n",
       "      <td>41022.0</td>\n",
       "      <td>Faculté de Psychologie et des Sciences de l'Ed...</td>\n",
       "      <td>GE</td>\n",
       "    </tr>\n",
       "    <tr>\n",
       "      <th>2</th>\n",
       "      <td>NPO (Biblioth., Museen, Verwalt.)</td>\n",
       "      <td>79732.0</td>\n",
       "      <td>Kommission für das Corpus philosophorum medii ...</td>\n",
       "      <td>None</td>\n",
       "    </tr>\n",
       "  </tbody>\n",
       "</table>\n",
       "</div>"
      ],
      "text/plain": [
       "                          University  Approved Amount  \\\n",
       "1               Université de Genève          41022.0   \n",
       "2  NPO (Biblioth., Museen, Verwalt.)          79732.0   \n",
       "\n",
       "                                         Institution Canton  \n",
       "1  Faculté de Psychologie et des Sciences de l'Ed...     GE  \n",
       "2  Kommission für das Corpus philosophorum medii ...   None  "
      ]
     },
     "execution_count": 9,
     "metadata": {},
     "output_type": "execute_result"
    }
   ],
   "source": [
    "def set_canton(row):\n",
    "    return uni_canton[row.University]\n",
    "\n",
    "df_medium = df_rare.copy()\n",
    "df_medium['Canton'] = df_medium.apply(set_canton, axis=1)\n",
    "\n",
    "print(df_medium.shape)\n",
    "amount_included = df_medium[df_medium.apply(lambda row:not (row.Canton is None), axis=1)]['Approved Amount'].sum()\n",
    "amount_not_included = df_medium[df_medium.apply(lambda row: row.Canton is None, axis=1)]['Approved Amount'].sum()\n",
    "print(\"total approved amount included: %f CHF\" % amount_included)\n",
    "print(\"total approved amount not included: %f CHF\" % amount_not_included)\n",
    "print(\"percentage of amount included: %f\" % (amount_included/amount_total))\n",
    "df_medium.head(2)"
   ]
  },
  {
   "cell_type": "code",
   "execution_count": 10,
   "metadata": {
    "collapsed": false
   },
   "outputs": [
    {
     "name": "stdout",
     "output_type": "stream",
     "text": [
      "number of uni matched: 37\n",
      "(48283, 4)\n",
      "total approved amount included: 12037466088.950006 CHF\n",
      "total approved amount not included: 797977388.070000 CHF\n",
      "percentage of amount included: 0.937830\n"
     ]
    },
    {
     "data": {
      "text/html": [
       "<div>\n",
       "<table border=\"1\" class=\"dataframe\">\n",
       "  <thead>\n",
       "    <tr style=\"text-align: right;\">\n",
       "      <th></th>\n",
       "      <th>University</th>\n",
       "      <th>Approved Amount</th>\n",
       "      <th>Institution</th>\n",
       "      <th>Canton</th>\n",
       "    </tr>\n",
       "  </thead>\n",
       "  <tbody>\n",
       "    <tr>\n",
       "      <th>1</th>\n",
       "      <td>Université de Genève</td>\n",
       "      <td>41022.0</td>\n",
       "      <td>Faculté de Psychologie et des Sciences de l'Ed...</td>\n",
       "      <td>GE</td>\n",
       "    </tr>\n",
       "    <tr>\n",
       "      <th>2</th>\n",
       "      <td>NPO (Biblioth., Museen, Verwalt.)</td>\n",
       "      <td>79732.0</td>\n",
       "      <td>Kommission für das Corpus philosophorum medii ...</td>\n",
       "      <td>None</td>\n",
       "    </tr>\n",
       "  </tbody>\n",
       "</table>\n",
       "</div>"
      ],
      "text/plain": [
       "                          University  Approved Amount  \\\n",
       "1               Université de Genève          41022.0   \n",
       "2  NPO (Biblioth., Museen, Verwalt.)          79732.0   \n",
       "\n",
       "                                         Institution Canton  \n",
       "1  Faculté de Psychologie et des Sciences de l'Ed...     GE  \n",
       "2  Kommission für das Corpus philosophorum medii ...   None  "
      ]
     },
     "execution_count": 10,
     "metadata": {},
     "output_type": "execute_result"
    }
   ],
   "source": [
    "uni_canton.update({\n",
    "    'Université de Neuchâtel': 'NE',\n",
    "    'Eidg. Anstalt für Wasserversorgung': 'ZH',\n",
    "    'HES de Suisse occidentale': 'JU',\n",
    "    'Zürcher Fachhochschule (ohne PH)': 'ZH',\n",
    "    'Eidg. Material und Prüfungsanstalt': 'ZH',\n",
    "    'Fachhochschule Nordwestschweiz (ohne PH)': 'ZH',\n",
    "    'Inst. de Hautes Etudes Internat. et du Dév': 'GE',\n",
    "    'Berner Fachhochschule': 'BE',\n",
    "    'Idiap Research Institute': 'VS',\n",
    "    'Friedrich Miescher Institute': 'BS'    \n",
    "})\n",
    "print(\"number of uni matched: %d\" % len([0 for canton in uni_canton.values() if canton]))\n",
    "\n",
    "df_medium['Canton'] = df_medium.apply(set_canton, axis=1)\n",
    "\n",
    "print(df_medium.shape)\n",
    "amount_included = df_medium[df_medium.apply(lambda row:not (row.Canton is None), axis=1)]['Approved Amount'].sum()\n",
    "amount_not_included = df_medium[df_medium.apply(lambda row: row.Canton is None, axis=1)]['Approved Amount'].sum()\n",
    "print(\"total approved amount included: %f CHF\" % amount_included)\n",
    "print(\"total approved amount not included: %f CHF\" % amount_not_included)\n",
    "print(\"percentage of amount included: %f\" % (amount_included/amount_total))\n",
    "df_medium.head(2)"
   ]
  },
  {
   "cell_type": "markdown",
   "metadata": {},
   "source": [
    "We can observe that two \"Universities\" have a lot of records and do not have a Canton, they are:\n",
    "- NPO (Biblioth., Museen, Verwalt.) (corresponds to NGOs in different cantons)\n",
    "- Firmen/Privatwirtschaft (corresponds to funding to private institutes in different cantons)\n",
    "\n",
    "In order to assign a canton for these two \"universities\" and the remaining records, we will use the `Institution` field ! Let's manually fix some records with a `Institution` with a high value counts !"
   ]
  },
  {
   "cell_type": "code",
   "execution_count": 11,
   "metadata": {
    "collapsed": false
   },
   "outputs": [
    {
     "name": "stdout",
     "output_type": "stream",
     "text": [
      "number of institutions: 921\n"
     ]
    },
    {
     "data": {
      "text/plain": [
       "array(['Kommission für das Corpus philosophorum medii aevi der SGG',\n",
       "       'Schweiz. Thesauruskommission',\n",
       "       'Schweizerische Rechtsquellen c/o Universität Zürich / RWI',\n",
       "       'Schweizerische Gesellschaft für Volkskunde',\n",
       "       'Kuratorium Carl J. Burckhardt'], dtype=object)"
      ]
     },
     "execution_count": 11,
     "metadata": {},
     "output_type": "execute_result"
    }
   ],
   "source": [
    "institutions = df_medium[df_medium.apply(\n",
    "    lambda row: row.Canton is None,\n",
    "    axis=1)].Institution.unique()\n",
    "\n",
    "print(\"number of institutions: %d\" % len(institutions))\n",
    "institutions[:5]"
   ]
  },
  {
   "cell_type": "code",
   "execution_count": 14,
   "metadata": {
    "collapsed": false
   },
   "outputs": [
    {
     "name": "stdout",
     "output_type": "stream",
     "text": [
      "number of institutions matched: 161\n"
     ]
    }
   ],
   "source": [
    "# /!\\ takes a lot of time /!\\\n",
    "ins_canton = {}\n",
    "for institution in institutions:\n",
    "    ins_canton[institution] = get_canton(institution)\n",
    "\n",
    "print(\"number of institutions matched: %d\" % len([0 for canton in ins_canton.values() if canton]))"
   ]
  },
  {
   "cell_type": "code",
   "execution_count": 15,
   "metadata": {
    "collapsed": false
   },
   "outputs": [
    {
     "name": "stdout",
     "output_type": "stream",
     "text": [
      "number of institutions matched: 167\n"
     ]
    }
   ],
   "source": [
    "# manually adds a few cantons\n",
    "ins_canton.update({\n",
    "    'WSL - Institut für Schnee- und Lawinenforschung SLF': 'GR',\n",
    "    'Forschungsanstalt Agroscope Reckenholz-Tänikon ART': 'ZH',\n",
    "    'Schweizerisches Institut für Allergie- und Asthmaforschung': 'GR',\n",
    "    'Institut universitaire romand de Santé au Travail': 'VD',\n",
    "    \"Muséum d'Histoire Naturelle\": 'GE',\n",
    "    'FORS c/o Université de Lausanne': 'VD',\n",
    "    'Gesellschaft für Schweizerische Kunstgeschichte': 'BE'\n",
    "})\n",
    "\n",
    "print(\"number of institutions matched: %d\" % len([0 for canton in ins_canton.values() if canton]))"
   ]
  },
  {
   "cell_type": "code",
   "execution_count": 16,
   "metadata": {
    "collapsed": false
   },
   "outputs": [
    {
     "name": "stdout",
     "output_type": "stream",
     "text": [
      "(48283, 4)\n",
      "total approved amount included: 12247129507.530006 CHF\n",
      "total approved amount not included: 588313969.490000 CHF\n",
      "percentage of amount included: 0.954165\n"
     ]
    },
    {
     "data": {
      "text/html": [
       "<div>\n",
       "<table border=\"1\" class=\"dataframe\">\n",
       "  <thead>\n",
       "    <tr style=\"text-align: right;\">\n",
       "      <th></th>\n",
       "      <th>University</th>\n",
       "      <th>Approved Amount</th>\n",
       "      <th>Institution</th>\n",
       "      <th>Canton</th>\n",
       "    </tr>\n",
       "  </thead>\n",
       "  <tbody>\n",
       "    <tr>\n",
       "      <th>1</th>\n",
       "      <td>Université de Genève</td>\n",
       "      <td>41022.0</td>\n",
       "      <td>Faculté de Psychologie et des Sciences de l'Ed...</td>\n",
       "      <td>GE</td>\n",
       "    </tr>\n",
       "    <tr>\n",
       "      <th>2</th>\n",
       "      <td>NPO (Biblioth., Museen, Verwalt.)</td>\n",
       "      <td>79732.0</td>\n",
       "      <td>Kommission für das Corpus philosophorum medii ...</td>\n",
       "      <td>None</td>\n",
       "    </tr>\n",
       "  </tbody>\n",
       "</table>\n",
       "</div>"
      ],
      "text/plain": [
       "                          University  Approved Amount  \\\n",
       "1               Université de Genève          41022.0   \n",
       "2  NPO (Biblioth., Museen, Verwalt.)          79732.0   \n",
       "\n",
       "                                         Institution Canton  \n",
       "1  Faculté de Psychologie et des Sciences de l'Ed...     GE  \n",
       "2  Kommission für das Corpus philosophorum medii ...   None  "
      ]
     },
     "execution_count": 16,
     "metadata": {},
     "output_type": "execute_result"
    }
   ],
   "source": [
    "def set_canton_with_ins(row):\n",
    "    return row.Canton if row.Canton else ins_canton.get(row.Institution,None)\n",
    "\n",
    "df_medium['Canton'] = df_medium.apply(set_canton_with_ins, axis=1)\n",
    "\n",
    "print(df_medium.shape)\n",
    "amount_included = df_medium[df_medium.apply(lambda row:not (row.Canton is None), axis=1)]['Approved Amount'].sum()\n",
    "amount_not_included = df_medium[df_medium.apply(lambda row: row.Canton is None, axis=1)]['Approved Amount'].sum()\n",
    "print(\"total approved amount included: %f CHF\" % amount_included)\n",
    "print(\"total approved amount not included: %f CHF\" % amount_not_included)\n",
    "print(\"percentage of amount included: %f\" % (amount_included/amount_total))\n",
    "df_medium.head(2)"
   ]
  },
  {
   "cell_type": "markdown",
   "metadata": {
    "collapsed": true
   },
   "source": [
    "## Visualization with Folium"
   ]
  },
  {
   "cell_type": "markdown",
   "metadata": {},
   "source": [
    "We first prepare the dataset for the map. We simply need the `Approved Amount` summed and grouped by `Canton`. Folium expects a value for each canton, so we add rows for the missing cantons with `0` as `Approved Amount`. We add a new column with the `Approved Amount` value in millions."
   ]
  },
  {
   "cell_type": "code",
   "execution_count": 17,
   "metadata": {
    "collapsed": false
   },
   "outputs": [
    {
     "name": "stdout",
     "output_type": "stream",
     "text": [
      "(26, 2)\n"
     ]
    },
    {
     "data": {
      "text/html": [
       "<div>\n",
       "<table border=\"1\" class=\"dataframe\">\n",
       "  <thead>\n",
       "    <tr style=\"text-align: right;\">\n",
       "      <th></th>\n",
       "      <th>GEO_ID</th>\n",
       "      <th>Approved Amount M</th>\n",
       "    </tr>\n",
       "  </thead>\n",
       "  <tbody>\n",
       "    <tr>\n",
       "      <th>20</th>\n",
       "      <td>ZH</td>\n",
       "      <td>3722.949255</td>\n",
       "    </tr>\n",
       "    <tr>\n",
       "      <th>17</th>\n",
       "      <td>VD</td>\n",
       "      <td>2405.243280</td>\n",
       "    </tr>\n",
       "    <tr>\n",
       "      <th>5</th>\n",
       "      <td>GE</td>\n",
       "      <td>1898.304781</td>\n",
       "    </tr>\n",
       "    <tr>\n",
       "      <th>1</th>\n",
       "      <td>BE</td>\n",
       "      <td>1581.481228</td>\n",
       "    </tr>\n",
       "    <tr>\n",
       "      <th>3</th>\n",
       "      <td>BS</td>\n",
       "      <td>1409.124528</td>\n",
       "    </tr>\n",
       "    <tr>\n",
       "      <th>4</th>\n",
       "      <td>FR</td>\n",
       "      <td>460.436496</td>\n",
       "    </tr>\n",
       "    <tr>\n",
       "      <th>9</th>\n",
       "      <td>NE</td>\n",
       "      <td>386.152704</td>\n",
       "    </tr>\n",
       "    <tr>\n",
       "      <th>0</th>\n",
       "      <td>AG</td>\n",
       "      <td>120.294504</td>\n",
       "    </tr>\n",
       "    <tr>\n",
       "      <th>11</th>\n",
       "      <td>SG</td>\n",
       "      <td>91.992498</td>\n",
       "    </tr>\n",
       "    <tr>\n",
       "      <th>8</th>\n",
       "      <td>LU</td>\n",
       "      <td>54.584378</td>\n",
       "    </tr>\n",
       "    <tr>\n",
       "      <th>6</th>\n",
       "      <td>GR</td>\n",
       "      <td>44.408888</td>\n",
       "    </tr>\n",
       "    <tr>\n",
       "      <th>7</th>\n",
       "      <td>JU</td>\n",
       "      <td>34.162965</td>\n",
       "    </tr>\n",
       "    <tr>\n",
       "      <th>18</th>\n",
       "      <td>VS</td>\n",
       "      <td>22.183105</td>\n",
       "    </tr>\n",
       "    <tr>\n",
       "      <th>15</th>\n",
       "      <td>TG</td>\n",
       "      <td>6.436834</td>\n",
       "    </tr>\n",
       "    <tr>\n",
       "      <th>16</th>\n",
       "      <td>TI</td>\n",
       "      <td>5.613800</td>\n",
       "    </tr>\n",
       "    <tr>\n",
       "      <th>12</th>\n",
       "      <td>SH</td>\n",
       "      <td>1.028857</td>\n",
       "    </tr>\n",
       "    <tr>\n",
       "      <th>14</th>\n",
       "      <td>SZ</td>\n",
       "      <td>0.936551</td>\n",
       "    </tr>\n",
       "    <tr>\n",
       "      <th>13</th>\n",
       "      <td>SO</td>\n",
       "      <td>0.874401</td>\n",
       "    </tr>\n",
       "    <tr>\n",
       "      <th>2</th>\n",
       "      <td>BL</td>\n",
       "      <td>0.476657</td>\n",
       "    </tr>\n",
       "    <tr>\n",
       "      <th>19</th>\n",
       "      <td>ZG</td>\n",
       "      <td>0.305700</td>\n",
       "    </tr>\n",
       "    <tr>\n",
       "      <th>10</th>\n",
       "      <td>OW</td>\n",
       "      <td>0.138096</td>\n",
       "    </tr>\n",
       "    <tr>\n",
       "      <th>21</th>\n",
       "      <td>UR</td>\n",
       "      <td>0.000000</td>\n",
       "    </tr>\n",
       "    <tr>\n",
       "      <th>22</th>\n",
       "      <td>NW</td>\n",
       "      <td>0.000000</td>\n",
       "    </tr>\n",
       "    <tr>\n",
       "      <th>23</th>\n",
       "      <td>GL</td>\n",
       "      <td>0.000000</td>\n",
       "    </tr>\n",
       "    <tr>\n",
       "      <th>24</th>\n",
       "      <td>AR</td>\n",
       "      <td>0.000000</td>\n",
       "    </tr>\n",
       "    <tr>\n",
       "      <th>25</th>\n",
       "      <td>AI</td>\n",
       "      <td>0.000000</td>\n",
       "    </tr>\n",
       "  </tbody>\n",
       "</table>\n",
       "</div>"
      ],
      "text/plain": [
       "   GEO_ID  Approved Amount M\n",
       "20     ZH        3722.949255\n",
       "17     VD        2405.243280\n",
       "5      GE        1898.304781\n",
       "1      BE        1581.481228\n",
       "3      BS        1409.124528\n",
       "4      FR         460.436496\n",
       "9      NE         386.152704\n",
       "0      AG         120.294504\n",
       "11     SG          91.992498\n",
       "8      LU          54.584378\n",
       "6      GR          44.408888\n",
       "7      JU          34.162965\n",
       "18     VS          22.183105\n",
       "15     TG           6.436834\n",
       "16     TI           5.613800\n",
       "12     SH           1.028857\n",
       "14     SZ           0.936551\n",
       "13     SO           0.874401\n",
       "2      BL           0.476657\n",
       "19     ZG           0.305700\n",
       "10     OW           0.138096\n",
       "21     UR           0.000000\n",
       "22     NW           0.000000\n",
       "23     GL           0.000000\n",
       "24     AR           0.000000\n",
       "25     AI           0.000000"
      ]
     },
     "execution_count": 17,
     "metadata": {},
     "output_type": "execute_result"
    }
   ],
   "source": [
    "df_well_done = df_medium[~df_medium.Canton.isnull()]\n",
    "df_well_done = df_well_done[['Canton', 'Approved Amount']].groupby('Canton').sum().reset_index()\n",
    "\n",
    "for canton in cantons:\n",
    "    if not canton in df_well_done.Canton.tolist():\n",
    "        df_well_done = df_well_done.append({\n",
    "            'Canton': canton,\n",
    "            'Approved Amount': 0\n",
    "        }, ignore_index=True)\n",
    "\n",
    "df_well_done['GEO_ID'] = df_well_done['Canton']\n",
    "df_well_done['Approved Amount M'] = df_well_done['Approved Amount'] / 1e+06        \n",
    "df_well_done = df_well_done[['GEO_ID', 'Approved Amount M']]\n",
    "\n",
    "print(df_well_done.shape)\n",
    "df_well_done.sort_values(by=\"Approved Amount M\", ascending=False)"
   ]
  },
  {
   "cell_type": "code",
   "execution_count": 18,
   "metadata": {
    "collapsed": false
   },
   "outputs": [
    {
     "ename": "TypeError",
     "evalue": "choropleth() got an unexpected keyword argument 'caption'",
     "output_type": "error",
     "traceback": [
      "\u001b[1;31m---------------------------------------------------------------------------\u001b[0m",
      "\u001b[1;31mTypeError\u001b[0m                                 Traceback (most recent call last)",
      "\u001b[1;32m<ipython-input-18-ca19053a0aa2>\u001b[0m in \u001b[0;36m<module>\u001b[1;34m()\u001b[0m\n\u001b[0;32m      8\u001b[0m     \u001b[0mfill_color\u001b[0m\u001b[1;33m=\u001b[0m\u001b[1;34m'YlOrRd'\u001b[0m\u001b[1;33m,\u001b[0m\u001b[1;33m\u001b[0m\u001b[0m\n\u001b[0;32m      9\u001b[0m     \u001b[0mcaption\u001b[0m\u001b[1;33m=\u001b[0m\u001b[1;34m'Approved Amount'\u001b[0m\u001b[1;33m,\u001b[0m\u001b[1;33m\u001b[0m\u001b[0m\n\u001b[1;32m---> 10\u001b[1;33m     \u001b[0mthreshold_scale\u001b[0m\u001b[1;33m=\u001b[0m\u001b[1;33m[\u001b[0m\u001b[1;36m1\u001b[0m\u001b[1;33m,\u001b[0m \u001b[1;36m10\u001b[0m\u001b[1;33m,\u001b[0m \u001b[1;36m50\u001b[0m\u001b[1;33m,\u001b[0m \u001b[1;36m500\u001b[0m\u001b[1;33m,\u001b[0m \u001b[1;36m1000\u001b[0m\u001b[1;33m,\u001b[0m \u001b[1;36m2000\u001b[0m\u001b[1;33m]\u001b[0m\u001b[1;33m\u001b[0m\u001b[0m\n\u001b[0m\u001b[0;32m     11\u001b[0m )\n\u001b[0;32m     12\u001b[0m \u001b[0mgrants_map\u001b[0m\u001b[1;33m\u001b[0m\u001b[0m\n",
      "\u001b[1;31mTypeError\u001b[0m: choropleth() got an unexpected keyword argument 'caption'"
     ]
    }
   ],
   "source": [
    "grants_map = folium.Map(location=[46.85, 8.05], zoom_start=8)\n",
    "grants_map.choropleth(\n",
    "    geo_path=cantons_geo, \n",
    "    data=df_well_done,\n",
    "    columns=['GEO_ID', 'Approved Amount M'],\n",
    "    key_on='feature.id',\n",
    "    topojson='objects.cantons',\n",
    "    fill_color='YlOrRd',\n",
    "    caption='Approved Amount',\n",
    "    threshold_scale=[1, 10, 50, 500, 1000, 2000]\n",
    ")\n",
    "grants_map"
   ]
  },
  {
   "cell_type": "code",
   "execution_count": null,
   "metadata": {
    "collapsed": true
   },
   "outputs": [],
   "source": []
  }
 ],
 "metadata": {
  "anaconda-cloud": {},
  "kernelspec": {
   "display_name": "Python [Root]",
   "language": "python",
   "name": "Python [Root]"
  },
  "language_info": {
   "codemirror_mode": {
    "name": "ipython",
    "version": 3
   },
   "file_extension": ".py",
   "mimetype": "text/x-python",
   "name": "python",
   "nbconvert_exporter": "python",
   "pygments_lexer": "ipython3",
   "version": "3.5.2"
  }
 },
 "nbformat": 4,
 "nbformat_minor": 0
}
